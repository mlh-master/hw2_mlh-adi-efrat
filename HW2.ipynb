{
 "cells": [
  {
   "cell_type": "markdown",
   "metadata": {},
   "source": [
    "# BM 336546 - HW2:"
   ]
  },
  {
   "cell_type": "markdown",
   "metadata": {},
   "source": [
    "1. Loading the data and preprocessing:"
   ]
  },
  {
   "cell_type": "code",
   "execution_count": 1,
   "metadata": {},
   "outputs": [],
   "source": [
    "import pandas as pd \n",
    "import numpy as np\n",
    "from pathlib import Path\n",
    "import random\n",
    "import matplotlib.pyplot as plt\n",
    "plt.rcParams['axes.labelsize'] = 14\n",
    "plt.rcParams['xtick.labelsize'] = 12\n",
    "plt.rcParams['ytick.labelsize'] = 12\n",
    "random.seed(10)\n",
    "\n",
    "file = Path.cwd().joinpath('HW2_data.csv') # concatenates HW2_data.csv to the current folder\n",
    "T1D_dataset = pd.read_csv(file) # load the data\n",
    "T1D_dataset = T1D_dataset.dropna() #removing patients with missing values\n",
    "T1D_dataset = pd.get_dummies(data=T1D_dataset,prefix=None, drop_first=True) #dummy coding - converting the data to binary\n",
    "\n",
    "T1D_features = T1D_dataset[['Age','Gender_Male','Increased Urination_Yes','Increased Thirst_Yes','Sudden Weight Loss_Yes','Weakness_Yes','Increased Hunger_Yes',\n",
    "                              'Genital Thrush_Yes','Visual Blurring_Yes','Itching_Yes','Irritability_Yes','Delayed Healing_Yes','Partial Paresis_Yes',\n",
    "                              'Muscle Stiffness_Yes','Hair Loss_Yes','Obesity_Yes','Family History']]\n",
    "diagnosis = T1D_dataset[['Diagnosis_Positive']]"
   ]
  },
  {
   "cell_type": "code",
   "execution_count": 2,
   "metadata": {},
   "outputs": [],
   "source": [
    "#T1D_features = T1D_features.to_numpy()\n",
    "#diagnosis = diagnosis.to_numpy()"
   ]
  },
  {
   "cell_type": "markdown",
   "metadata": {},
   "source": [
    "2. Train-test split:"
   ]
  },
  {
   "cell_type": "code",
   "execution_count": 13,
   "metadata": {},
   "outputs": [],
   "source": [
    "from sklearn import metrics\n",
    "from sklearn.model_selection import train_test_split\n",
    "from sklearn.linear_model import LogisticRegression\n",
    "from sklearn.preprocessing import StandardScaler\n",
    "from sklearn.model_selection import StratifiedKFold\n",
    "scaler = StandardScaler()\n",
    "\n",
    "x_train, x_test, y_train, y_test = train_test_split(T1D_features, np.ravel(diagnosis), test_size=0.2, random_state=0, stratify=np.ravel(diagnosis))\n",
    "# log_reg = LogisticRegression(solver='saga', multi_class='ovr', penalty='none', max_iter=10000)\n",
    "#log_reg = LogisticRegression(random_state=5, penalty='none', max_iter=max_iter, solver=solver)\n",
    "#x_train = scaler.fit_transform(x_train_orig)\n",
    "#x_test = scaler.transform(x_test_orig)\n",
    "# log_reg.fit(x_train_orig, y_train)\n",
    "# y_pred_train = log_reg.predict(x_train_orig)\n",
    "# y_pred_test = log_reg.predict(x_test_orig)\n",
    "\n",
    "# print(\"Accuracy is: \" + str(\"{0:.2f}\".format(100 * metrics.accuracy_score(y_test, y_pred_test))) + \"%\")\n",
    "# print(\"F1 score is: \" + str(\"{0:.2f}\".format(100 * metrics.f1_score(y_test, y_pred_test, average='macro'))) + \"%\")"
   ]
  },
  {
   "cell_type": "code",
   "execution_count": 14,
   "metadata": {},
   "outputs": [
    {
     "name": "stdout",
     "output_type": "stream",
     "text": [
      "                    Feature  Train   Test  Delta  units\n",
      "0                       Age  48.23  47.23   1.00  years\n",
      "1               Gender_Male  63.40  61.90   1.50      %\n",
      "2   Increased Urination_Yes  49.76  48.57   1.19      %\n",
      "3      Increased Thirst_Yes  45.45  40.95   4.50      %\n",
      "4    Sudden Weight Loss_Yes  40.91  43.81  -2.90      %\n",
      "5              Weakness_Yes  58.37  59.05  -0.68      %\n",
      "6      Increased Hunger_Yes  45.69  44.76   0.93      %\n",
      "7        Genital Thrush_Yes  22.73  20.00   2.73      %\n",
      "8       Visual Blurring_Yes  44.98  42.86   2.12      %\n",
      "9               Itching_Yes  49.28  45.71   3.57      %\n",
      "10         Irritability_Yes  25.12  20.95   4.17      %\n",
      "11      Delayed Healing_Yes  47.37  40.00   7.37      %\n",
      "12      Partial Paresis_Yes  42.58  43.81  -1.23      %\n",
      "13     Muscle Stiffness_Yes  36.60  40.00  -3.40      %\n",
      "14            Hair Loss_Yes  34.69  34.29   0.40      %\n",
      "15              Obesity_Yes  15.79  20.95  -5.16      %\n",
      "16           Family History  49.28  57.14  -7.86      %\n"
     ]
    }
   ],
   "source": [
    "dic_train = {}\n",
    "dic_test = {}\n",
    "dic_delta = {}\n",
    "units = []\n",
    "for col in T1D_features.columns:        \n",
    "    dic_train[col] = round(100 * sum(x_train[col])/len(x_train[col]),2)\n",
    "    dic_test[col] = round(100 * sum(x_test[col])/len(x_test[col]),2)\n",
    "    dic_delta[col] = dic_train[col] - dic_test[col]\n",
    "    units.append('%')\n",
    "dic_train['Age'] = round(sum(x_train['Age'])/len(x_train['Age']),2)\n",
    "dic_test['Age'] = round(sum(x_test['Age'])/len(x_test['Age']),2)\n",
    "dic_delta['Age'] = dic_train['Age'] - dic_test['Age']\n",
    "units[0] = 'years'\n",
    "table = pd.DataFrame(dic_train.items(), columns=['Feature','Train'])\n",
    "df_test = pd.DataFrame(dic_test.items(), columns=['Feature','Test'])\n",
    "df_delta = pd.DataFrame(dic_delta.items(), columns=['Feature','Delta'])\n",
    "table['Test'] = df_test['Test']\n",
    "table['Delta'] = df_delta['Delta']\n",
    "table['units'] = units\n",
    "print(table)"
   ]
  },
  {
   "cell_type": "code",
   "execution_count": 15,
   "metadata": {},
   "outputs": [
    {
     "data": {
      "image/png": "[encoded data removed]",
      "text/plain": [
       "<Figure size 432x288 with 1 Axes>"
      ]
     },
     "metadata": {
      "needs_background": "light"
     },
     "output_type": "display_data"
    }
   ],
   "source": [
    "import seaborn as sns\n",
    "\n",
    "g = sns.countplot(x = 'Gender_Male', hue='Diagnosis_Positive',data = T1D_dataset)\n",
    "g.set(xticklabels=['Female','Male'])\n",
    "g.set(xlabel='Gender')\n",
    "leg = g.get_legend()\n",
    "leg.set_title(\"Diagnosis\")\n",
    "labs = leg.texts\n",
    "labs[0].set_text(\"Negative\")\n",
    "labs[1].set_text(\"Positive\")\n",
    "\n",
    "plt.show()\n",
    "idx_1 = (T1D_dataset['Gender_Male'] == 0).index[(T1D_dataset['Gender_Male'] == 0)].tolist()\n",
    "idx_2 = (T1D_dataset['Gender_Male'] == 1).index[(T1D_dataset['Gender_Male'] == 1)].tolist()"
   ]
  },
  {
   "cell_type": "code",
   "execution_count": 16,
   "metadata": {},
   "outputs": [
    {
     "data": {
      "image/png": "[encoded data removed]",
      "text/plain": [
       "<Figure size 432x288 with 1 Axes>"
      ]
     },
     "metadata": {
      "needs_background": "light"
     },
     "output_type": "display_data"
    }
   ],
   "source": [
    "bins = 100\n",
    "feat = 'Age'\n",
    "idx_1 = (diagnosis == 0).index[(diagnosis == 0)['Diagnosis_Positive'] == True].tolist()\n",
    "idx_2 = (diagnosis == 1).index[(diagnosis == 1)['Diagnosis_Positive'] == True].tolist()\n",
    "plt.hist(T1D_features[feat].loc[idx_1], bins, alpha=0.5, label='Negative')\n",
    "plt.hist(T1D_features[feat].loc[idx_2], bins, alpha=0.5, label='Positive')\n",
    "plt.xlabel(feat)\n",
    "plt.ylabel('Count')\n",
    "plt.legend(loc='upper right')\n",
    "plt.show()"
   ]
  },
  {
   "cell_type": "code",
   "execution_count": 17,
   "metadata": {},
   "outputs": [
    {
     "data": {
      "image/png": "[encoded data removed]",
      "text/plain": [
       "<Figure size 432x288 with 1 Axes>"
      ]
     },
     "metadata": {},
     "output_type": "display_data"
    }
   ],
   "source": [
    "diagnosis.value_counts().plot(kind=\"pie\", labels=['T1D','NO T1D'], colors = ['steelblue', 'lightgreen'], autopct='%1.1f%%', ylabel='Type 1 Diabetes') \n",
    "plt.show()"
   ]
  },
  {
   "cell_type": "code",
   "execution_count": 23,
   "metadata": {},
   "outputs": [
    {
     "data": {
      "text/plain": [
       "<matplotlib.legend.Legend at 0x2a1a19bef88>"
      ]
     },
     "execution_count": 23,
     "metadata": {},
     "output_type": "execute_result"
    },
    {
     "data": {
      "image/png": "[encoded data removed]",
      "text/plain": [
       "<Figure size 432x288 with 1 Axes>"
      ]
     },
     "metadata": {
      "needs_background": "light"
     },
     "output_type": "display_data"
    }
   ],
   "source": [
    "from sklearn.metrics import log_loss\n",
    "\n",
    "lmbda = np.array([0.0001, 0.001, 0.01, 1, 10, 100, 1000, 10000])\n",
    "n_splits = 5\n",
    "skf = StratifiedKFold(n_splits=n_splits, random_state=10, shuffle=True)\n",
    "J_train = np.zeros((2,len(lmbda)))\n",
    "J_val = np.zeros((2,len(lmbda)))\n",
    "\n",
    "for idx, lmb in enumerate(lmbda):\n",
    "    C = 1/lmb\n",
    "    log_reg = LogisticRegression(solver='saga', random_state=5, penalty='l2', C=C, max_iter=2000)\n",
    "    h = 0 # index per split per lambda\n",
    "    J_train_fold = np.zeros(n_splits)\n",
    "    J_val_fold = np.zeros(n_splits)\n",
    "    \n",
    "    for train_index, val_index in skf.split(x_train, y_train):\n",
    "        x_train_fold, x_val_fold = x_train.iloc[train_index], x_train.iloc[val_index]\n",
    "        y_train_fold, y_val_fold = y_train[train_index], y_train[val_index]\n",
    "        x_train_fold = scaler.fit_transform(x_train_fold)\n",
    "        x_val_fold = scaler.transform(x_val_fold)\n",
    "        log_reg.fit(x_train_fold, y_train_fold)\n",
    "        y_pred_train = log_reg.predict_proba(x_train_fold)\n",
    "        J_train_fold[h] = log_loss(y_train_fold, y_pred_train)\n",
    "        y_pred_val = log_reg.predict_proba(x_val_fold)\n",
    "        J_val_fold[h] = log_loss(y_val_fold, y_pred_val)\n",
    "        h += 1\n",
    "        \n",
    "    J_train[0, idx] = J_train_fold.mean()\n",
    "    J_train[1, idx] = J_train_fold.std()\n",
    "    J_val[0, idx] = J_val_fold.mean()\n",
    "    J_val[1, idx] = J_val_fold.std()\n",
    "\n",
    "plt.errorbar(np.log10(lmbda), J_train[0,:], yerr=J_train[1,:])\n",
    "plt.errorbar(np.log10(lmbda), J_val[0,:], yerr=J_val[1,:]) \n",
    "plt.xlabel('$\\log_{10}\\lambda$')\n",
    "plt.ylabel('Loss')\n",
    "plt.legend(['J_train (n = ' + str(x_train_fold.shape[0]) + ')', 'J_val (n = ' + str(x_val_fold.shape[0]) + ')'])"
   ]
  }
 ],
 "metadata": {
  "kernelspec": {
   "display_name": "Python 3",
   "language": "python",
   "name": "python3"
  },
  "language_info": {
   "codemirror_mode": {
    "name": "ipython",
    "version": 3
   },
   "file_extension": ".py",
   "mimetype": "text/x-python",
   "name": "python",
   "nbconvert_exporter": "python",
   "pygments_lexer": "ipython3",
   "version": "3.7.9"
  }
 },
 "nbformat": 4,
 "nbformat_minor": 4
}
