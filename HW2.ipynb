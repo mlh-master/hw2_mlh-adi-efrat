{
 "cells": [
  {
   "cell_type": "markdown",
   "metadata": {},
   "source": [
    "## BM 336546 - HW2: Adi and Efrat"
   ]
  },
  {
   "cell_type": "markdown",
   "metadata": {},
   "source": [
    "### Theory Questions-"
   ]
  },
  {
   "cell_type": "markdown",
   "metadata": {},
   "source": [
    "##### Q1-\n",
    "Model performance is more important evaluation metric than accuracy. \n",
    "Accuracy does not work well when there are unequal number of samples belonging to each class, which is the case in most datasets, classification accuracy can give us the false sense of achieving high accuracy resulting from imbalanced classes. Model performance is our way to know how good our model would be with new data. If the model accuracy is good and the performance is not, it means that our model can only work with the original training dataset. \n",
    "For example a cancer detection model. Let’s say out of 100, 90 of the patients don’t have cancer and the remaining 10 have it. Detecting everyone as not having cancer gives an accuracy of 90% but misses the patients that are sick and need treatment.\n",
    "\n",
    "##### Q2-\n",
    "The pros in using only BP and BMI features is that we are training a classifier with the most relevant features that can predict a heart attack, it is easier to visualize the data with less features and the computing time would be faster. The cons of this model is that we can miss relevant data by not using all of the features, thus compromising the model performance.\n",
    "The pros in using all of the features is that we have more information for each patient and we could predict better whether a patient is going to suffer a heart attack or not. The cons of this classifier is that some of the features can be irrelevant or redundant, too many features can obstruct interpretability and be computationaly expensive.\n",
    "\n",
    "##### Q3-\n",
    "We would choose non-linear SVM. SVM works well with unstructured and semi-structured data like text and images, it is based on geometrical properties of the data and there is a lower risk of overfitting.\n",
    "Non-linear SVM is helpful when the data cannot be easily separated with a linear line. We use Kernels to make non-separable data into separable data. \n",
    "## linear or non linear??????????????????\n",
    "\n",
    "##### Q4- \n",
    "SVM tries to finds the best margin that separates the classes and thus reduces the risk of error on the data, while logistic regression can have different decision boundaries with different weights that are near the optimal point. LR works well with already identified independent variables and SVM with unstructured and semi-structured data. LR is based on statistical approaches while SVM is based on geometrical properties of the data. Moreover, LR is more vulnerable to overfitting than SVM.\n",
    "Logistic regression does't have many hyperparameters to tune. We can improve performance by using different solvers or regularization (penalty). SVM provides larger number of hyperparameters to tune, like the choice of kernel that controls the projection of the variables, the penalty (C) that controls the trade-off between decision boundary and misclassification term and gamma which decides how much curvature we want in a decision boundary."
   ]
  },
  {
   "cell_type": "markdown",
   "metadata": {},
   "source": [
    "## Coding Assignment-"
   ]
  },
  {
   "cell_type": "markdown",
   "metadata": {},
   "source": [
    "#### 1. Loading the data and preprocessing:"
   ]
  },
  {
   "cell_type": "code",
   "execution_count": 1,
   "metadata": {},
   "outputs": [],
   "source": [
    "#imports:\n",
    "import pandas as pd \n",
    "import numpy as np\n",
    "from pathlib import Path\n",
    "import random\n",
    "import matplotlib.pyplot as plt\n",
    "plt.rcParams['axes.labelsize'] = 14\n",
    "plt.rcParams['xtick.labelsize'] = 12\n",
    "plt.rcParams['ytick.labelsize'] = 12\n",
    "random.seed(10)\n",
    "\n",
    "file = Path.cwd().joinpath('HW2_data.csv') # concatenates HW2_data.csv to the current folder\n",
    "# load the data\n",
    "T1D_dataset = pd.read_csv(file)\n",
    "#removing patients with missing values\n",
    "T1D_dataset = T1D_dataset.dropna()\n",
    "#section 4 - converting the data to one hot vector\n",
    "T1D_dataset = pd.get_dummies(data=T1D_dataset,prefix=None, drop_first=True) #dummy coding - converting the data to binary\n",
    "\n",
    "T1D_features = T1D_dataset[['Age','Gender_Male','Increased Urination_Yes','Increased Thirst_Yes','Sudden Weight Loss_Yes','Weakness_Yes','Increased Hunger_Yes',\n",
    "                              'Genital Thrush_Yes','Visual Blurring_Yes','Itching_Yes','Irritability_Yes','Delayed Healing_Yes','Partial Paresis_Yes',\n",
    "                              'Muscle Stiffness_Yes','Hair Loss_Yes','Obesity_Yes','Family History']]\n",
    "diagnosis = T1D_dataset[['Diagnosis_Positive']]"
   ]
  },
  {
   "cell_type": "code",
   "execution_count": 2,
   "metadata": {},
   "outputs": [],
   "source": [
    "#T1D_features = T1D_features.to_numpy()\n",
    "#diagnosis = diagnosis.to_numpy()"
   ]
  },
  {
   "cell_type": "markdown",
   "metadata": {},
   "source": [
    "#### 2. Train-test split:"
   ]
  },
  {
   "cell_type": "code",
   "execution_count": 2,
   "metadata": {},
   "outputs": [],
   "source": [
    "from sklearn import metrics\n",
    "from sklearn.model_selection import train_test_split\n",
    "from sklearn.linear_model import LogisticRegression\n",
    "from sklearn.preprocessing import StandardScaler\n",
    "from sklearn.model_selection import StratifiedKFold\n",
    "from sklearn.metrics import log_loss\n",
    "scaler = StandardScaler()\n",
    "\n",
    "x_train, x_test, y_train, y_test = train_test_split(T1D_features, np.ravel(diagnosis), test_size=0.2, random_state=0, stratify=np.ravel(diagnosis))"
   ]
  },
  {
   "cell_type": "markdown",
   "metadata": {},
   "source": [
    "#### 3. Data visualization:"
   ]
  },
  {
   "cell_type": "code",
   "execution_count": 5,
   "metadata": {},
   "outputs": [
    {
     "name": "stdout",
     "output_type": "stream",
     "text": [
      "                    Feature  Train   Test  Delta  units\n",
      "0                       Age  48.23  47.23   1.00  years\n",
      "1               Gender_Male  63.40  61.90   1.50      %\n",
      "2   Increased Urination_Yes  49.76  48.57   1.19      %\n",
      "3      Increased Thirst_Yes  45.45  40.95   4.50      %\n",
      "4    Sudden Weight Loss_Yes  40.91  43.81  -2.90      %\n",
      "5              Weakness_Yes  58.37  59.05  -0.68      %\n",
      "6      Increased Hunger_Yes  45.69  44.76   0.93      %\n",
      "7        Genital Thrush_Yes  22.73  20.00   2.73      %\n",
      "8       Visual Blurring_Yes  44.98  42.86   2.12      %\n",
      "9               Itching_Yes  49.28  45.71   3.57      %\n",
      "10         Irritability_Yes  25.12  20.95   4.17      %\n",
      "11      Delayed Healing_Yes  47.37  40.00   7.37      %\n",
      "12      Partial Paresis_Yes  42.58  43.81  -1.23      %\n",
      "13     Muscle Stiffness_Yes  36.60  40.00  -3.40      %\n",
      "14            Hair Loss_Yes  34.69  34.29   0.40      %\n",
      "15              Obesity_Yes  15.79  20.95  -5.16      %\n",
      "16           Family History  49.28  57.14  -7.86      %\n"
     ]
    }
   ],
   "source": [
    "dic_train = {}\n",
    "dic_test = {}\n",
    "dic_delta = {}\n",
    "units = []\n",
    "for col in T1D_features.columns:        \n",
    "    dic_train[col] = round(100 * sum(x_train[col])/len(x_train[col]),2)\n",
    "    dic_test[col] = round(100 * sum(x_test[col])/len(x_test[col]),2)\n",
    "    dic_delta[col] = dic_train[col] - dic_test[col]\n",
    "    units.append('%')\n",
    "dic_train['Age'] = round(sum(x_train['Age'])/len(x_train['Age']),2)\n",
    "dic_test['Age'] = round(sum(x_test['Age'])/len(x_test['Age']),2)\n",
    "dic_delta['Age'] = dic_train['Age'] - dic_test['Age']\n",
    "units[0] = 'years'\n",
    "table = pd.DataFrame(dic_train.items(), columns=['Feature','Train'])\n",
    "df_test = pd.DataFrame(dic_test.items(), columns=['Feature','Test'])\n",
    "df_delta = pd.DataFrame(dic_delta.items(), columns=['Feature','Delta'])\n",
    "table['Test'] = df_test['Test']\n",
    "table['Delta'] = df_delta['Delta']\n",
    "table['units'] = units\n",
    "print(table)"
   ]
  },
  {
   "cell_type": "code",
   "execution_count": 20,
   "metadata": {},
   "outputs": [
    {
     "data": {
      "image/png": "[encoded data removed]",
      "text/plain": [
       "<Figure size 432x288 with 1 Axes>"
      ]
     },
     "metadata": {
      "needs_background": "light"
     },
     "output_type": "display_data"
    }
   ],
   "source": [
    "import seaborn as sns\n",
    "\n",
    "g = sns.countplot(x = 'Gender_Male', hue='Diagnosis_Positive',data = T1D_dataset)\n",
    "g.set(xticklabels=['Female','Male'])\n",
    "g.set(xlabel='Gender')\n",
    "leg = g.get_legend()\n",
    "leg.set_title(\"Diagnosis\")\n",
    "labs = leg.texts\n",
    "labs[0].set_text(\"Negative\")\n",
    "labs[1].set_text(\"Positive\")\n",
    "\n",
    "plt.show()"
   ]
  },
  {
   "cell_type": "code",
   "execution_count": 21,
   "metadata": {},
   "outputs": [
    {
     "data": {
      "image/png": "[encoded data removed]",
      "text/plain": [
       "<Figure size 432x288 with 1 Axes>"
      ]
     },
     "metadata": {
      "needs_background": "light"
     },
     "output_type": "display_data"
    }
   ],
   "source": [
    "bins = 100\n",
    "feat = 'Age'\n",
    "idx_1 = (diagnosis == 0).index[(diagnosis == 0)['Diagnosis_Positive'] == True].tolist()\n",
    "idx_2 = (diagnosis == 1).index[(diagnosis == 1)['Diagnosis_Positive'] == True].tolist()\n",
    "plt.hist(T1D_features[feat].loc[idx_1], bins, alpha=0.5, label='Negative')\n",
    "plt.hist(T1D_features[feat].loc[idx_2], bins, alpha=0.5, label='Positive')\n",
    "plt.xlabel(feat)\n",
    "plt.ylabel('Count')\n",
    "plt.legend(loc='upper right')\n",
    "plt.show()"
   ]
  },
  {
   "cell_type": "code",
   "execution_count": 6,
   "metadata": {},
   "outputs": [
    {
     "data": {
      "image/png": "[encoded data removed]",
      "text/plain": [
       "<Figure size 432x288 with 1 Axes>"
      ]
     },
     "metadata": {},
     "output_type": "display_data"
    }
   ],
   "source": [
    "diagnosis.value_counts().plot(kind=\"pie\", labels=['T1D','NO T1D'], colors = ['steelblue', 'lightgreen'], autopct='%1.1f%%', ylabel='Type 1 Diabetes') \n",
    "plt.show()"
   ]
  },
  {
   "cell_type": "markdown",
   "metadata": {},
   "source": [
    "#### 5. Machine Learning Models:"
   ]
  },
  {
   "cell_type": "code",
   "execution_count": 8,
   "metadata": {},
   "outputs": [
    {
     "data": {
      "text/plain": [
       "<matplotlib.legend.Legend at 0x264dce484c8>"
      ]
     },
     "execution_count": 8,
     "metadata": {},
     "output_type": "execute_result"
    },
    {
     "data": {
      "image/png": "[encoded data removed]",
      "text/plain": [
       "<Figure size 432x288 with 1 Axes>"
      ]
     },
     "metadata": {
      "needs_background": "light"
     },
     "output_type": "display_data"
    }
   ],
   "source": [
    "lmbda = np.array([0.0001, 0.001, 0.01, 1, 10, 100, 1000, 10000])\n",
    "n_splits = 5\n",
    "skf = StratifiedKFold(n_splits=n_splits, random_state=10, shuffle=True)\n",
    "J_train = np.zeros((2,len(lmbda)))\n",
    "J_val = np.zeros((2,len(lmbda)))\n",
    "\n",
    "for idx, lmb in enumerate(lmbda):\n",
    "    C = 1/lmb\n",
    "    log_reg = LogisticRegression(solver='saga', random_state=5, penalty='l1', C=0.1, max_iter=2000)\n",
    "    h = 0 # index per split per lambda\n",
    "    J_train_fold = np.zeros(n_splits)\n",
    "    J_val_fold = np.zeros(n_splits)\n",
    "    \n",
    "    for train_index, val_index in skf.split(x_train, y_train):\n",
    "        x_train_fold, x_val_fold = x_train.iloc[train_index], x_train.iloc[val_index]\n",
    "        y_train_fold, y_val_fold = y_train[train_index], y_train[val_index]\n",
    "        x_train_fold = scaler.fit_transform(x_train_fold)\n",
    "        x_val_fold = scaler.transform(x_val_fold)\n",
    "        log_reg.fit(x_train_fold, y_train_fold)\n",
    "        y_pred_train = log_reg.predict_proba(x_train_fold)\n",
    "        J_train_fold[h] = log_loss(y_train_fold, y_pred_train)\n",
    "        y_pred_val = log_reg.predict_proba(x_val_fold)\n",
    "        J_val_fold[h] = log_loss(y_val_fold, y_pred_val)\n",
    "        h += 1\n",
    "        \n",
    "    J_train[0, idx] = J_train_fold.mean()\n",
    "    J_train[1, idx] = J_train_fold.std()\n",
    "    J_val[0, idx] = J_val_fold.mean()\n",
    "    J_val[1, idx] = J_val_fold.std()\n",
    "\n",
    "plt.errorbar(np.log10(lmbda), J_train[0,:], yerr=J_train[1,:])\n",
    "plt.errorbar(np.log10(lmbda), J_val[0,:], yerr=J_val[1,:]) \n",
    "plt.xlabel('$\\log_{10}\\lambda$')\n",
    "plt.ylabel('Loss')\n",
    "plt.legend(['J_train (n = ' + str(x_train_fold.shape[0]) + ')', 'J_val (n = ' + str(x_val_fold.shape[0]) + ')'])"
   ]
  },
  {
   "cell_type": "code",
   "execution_count": 3,
   "metadata": {},
   "outputs": [],
   "source": [
    "def max_data_ratio(n_splits,x_train,y_train):\n",
    "    data_ratio_orig = np.linspace(0.01,0.98,num=100) \n",
    "    k_min = 0\n",
    "    m_x_train, _, m_y_train, _ = train_test_split(x_train, y_train, test_size =1-data_ratio_orig[k_min], random_state = 10,\n",
    "                                     stratify=y_train)  \n",
    "    while (m_x_train[m_y_train>0.5,:].shape[0] <= n_splits) or (m_x_train[m_y_train<0.5,:].shape[0] <= n_splits):\n",
    "        k_min += 1\n",
    "        m_x_train, _, m_y_train, _ = train_test_split(x_train, y_train, test_size =1-data_ratio_orig[k_min], random_state = 10,\n",
    "                                 stratify=y_train)  \n",
    "    k_max = 99\n",
    "    m_x_train, _, m_y_train, _ = train_test_split(x_train, y_train, test_size =1-data_ratio_orig[k_max], random_state = 10,\n",
    "                                     stratify=y_train)  \n",
    "    while (m_x_train[m_y_train>0.5,:].shape[0] <= n_splits) or (m_x_train[m_y_train<0.5,:].shape[0] <= n_splits):\n",
    "        k_max -= 1\n",
    "        m_x_train, _, m_y_train, _ = train_test_split(x_train, y_train, test_size =1-data_ratio_orig[k_max], random_state = 10,\n",
    "                                 stratify=y_train)\n",
    "    return np.linspace(data_ratio_orig[k_min],data_ratio_orig[k_max],num=100)"
   ]
  },
  {
   "cell_type": "code",
   "execution_count": 6,
   "metadata": {},
   "outputs": [
    {
     "ename": "TypeError",
     "evalue": "'(array([ True, False,  True, False]), slice(None, None, None))' is an invalid key",
     "output_type": "error",
     "traceback": [
      "\u001b[1;31m---------------------------------------------------------------------------\u001b[0m",
      "\u001b[1;31mTypeError\u001b[0m                                 Traceback (most recent call last)",
      "\u001b[1;32m<ipython-input-6-a3b37ca8ed71>\u001b[0m in \u001b[0;36m<module>\u001b[1;34m\u001b[0m\n\u001b[0;32m      2\u001b[0m \u001b[0mn_splits\u001b[0m \u001b[1;33m=\u001b[0m \u001b[1;36m5\u001b[0m\u001b[1;33m\u001b[0m\u001b[1;33m\u001b[0m\u001b[0m\n\u001b[0;32m      3\u001b[0m \u001b[0mskf\u001b[0m \u001b[1;33m=\u001b[0m \u001b[0mStratifiedKFold\u001b[0m\u001b[1;33m(\u001b[0m\u001b[0mn_splits\u001b[0m\u001b[1;33m=\u001b[0m\u001b[0mn_splits\u001b[0m\u001b[1;33m,\u001b[0m \u001b[0mrandom_state\u001b[0m\u001b[1;33m=\u001b[0m\u001b[1;36m10\u001b[0m\u001b[1;33m,\u001b[0m \u001b[0mshuffle\u001b[0m\u001b[1;33m=\u001b[0m\u001b[1;32mTrue\u001b[0m\u001b[1;33m)\u001b[0m\u001b[1;33m\u001b[0m\u001b[1;33m\u001b[0m\u001b[0m\n\u001b[1;32m----> 4\u001b[1;33m \u001b[0mdata_ratio\u001b[0m \u001b[1;33m=\u001b[0m \u001b[0mmax_data_ratio\u001b[0m\u001b[1;33m(\u001b[0m\u001b[0mn_splits\u001b[0m\u001b[1;33m,\u001b[0m\u001b[0mx_train\u001b[0m\u001b[1;33m,\u001b[0m \u001b[0my_train\u001b[0m\u001b[1;33m)\u001b[0m\u001b[1;33m\u001b[0m\u001b[1;33m\u001b[0m\u001b[0m\n\u001b[0m\u001b[0;32m      5\u001b[0m \u001b[1;33m\u001b[0m\u001b[0m\n\u001b[0;32m      6\u001b[0m \u001b[0mx_train_orig\u001b[0m\u001b[1;33m,\u001b[0m \u001b[0mx_val_orig\u001b[0m\u001b[1;33m,\u001b[0m \u001b[0my_train_orig\u001b[0m\u001b[1;33m,\u001b[0m \u001b[0my_val_orig\u001b[0m\u001b[1;33m=\u001b[0m \u001b[0mtrain_test_split\u001b[0m\u001b[1;33m(\u001b[0m\u001b[0mx_train\u001b[0m\u001b[1;33m,\u001b[0m \u001b[0my_train\u001b[0m\u001b[1;33m,\u001b[0m \u001b[0mtest_size\u001b[0m \u001b[1;33m=\u001b[0m \u001b[1;36m0.20\u001b[0m\u001b[1;33m,\u001b[0m \u001b[0mrandom_state\u001b[0m \u001b[1;33m=\u001b[0m \u001b[1;36m10\u001b[0m\u001b[1;33m,\u001b[0m \u001b[0mstratify\u001b[0m\u001b[1;33m=\u001b[0m\u001b[0my_train\u001b[0m\u001b[1;33m)\u001b[0m\u001b[1;33m\u001b[0m\u001b[1;33m\u001b[0m\u001b[0m\n",
      "\u001b[1;32m<ipython-input-3-130974e4edef>\u001b[0m in \u001b[0;36mmax_data_ratio\u001b[1;34m(n_splits, x_train, y_train)\u001b[0m\n\u001b[0;32m      4\u001b[0m     m_x_train, _, m_y_train, _ = train_test_split(x_train, y_train, test_size =1-data_ratio_orig[k_min], random_state = 10,\n\u001b[0;32m      5\u001b[0m                                      stratify=y_train)  \n\u001b[1;32m----> 6\u001b[1;33m     \u001b[1;32mwhile\u001b[0m \u001b[1;33m(\u001b[0m\u001b[0mm_x_train\u001b[0m\u001b[1;33m[\u001b[0m\u001b[0mm_y_train\u001b[0m\u001b[1;33m>\u001b[0m\u001b[1;36m0.5\u001b[0m\u001b[1;33m,\u001b[0m\u001b[1;33m:\u001b[0m\u001b[1;33m]\u001b[0m\u001b[1;33m.\u001b[0m\u001b[0mshape\u001b[0m\u001b[1;33m[\u001b[0m\u001b[1;36m0\u001b[0m\u001b[1;33m]\u001b[0m \u001b[1;33m<=\u001b[0m \u001b[0mn_splits\u001b[0m\u001b[1;33m)\u001b[0m \u001b[1;32mor\u001b[0m \u001b[1;33m(\u001b[0m\u001b[0mm_x_train\u001b[0m\u001b[1;33m[\u001b[0m\u001b[0mm_y_train\u001b[0m\u001b[1;33m<\u001b[0m\u001b[1;36m0.5\u001b[0m\u001b[1;33m,\u001b[0m\u001b[1;33m:\u001b[0m\u001b[1;33m]\u001b[0m\u001b[1;33m.\u001b[0m\u001b[0mshape\u001b[0m\u001b[1;33m[\u001b[0m\u001b[1;36m0\u001b[0m\u001b[1;33m]\u001b[0m \u001b[1;33m<=\u001b[0m \u001b[0mn_splits\u001b[0m\u001b[1;33m)\u001b[0m\u001b[1;33m:\u001b[0m\u001b[1;33m\u001b[0m\u001b[1;33m\u001b[0m\u001b[0m\n\u001b[0m\u001b[0;32m      7\u001b[0m         \u001b[0mk_min\u001b[0m \u001b[1;33m+=\u001b[0m \u001b[1;36m1\u001b[0m\u001b[1;33m\u001b[0m\u001b[1;33m\u001b[0m\u001b[0m\n\u001b[0;32m      8\u001b[0m         m_x_train, _, m_y_train, _ = train_test_split(x_train, y_train, test_size =1-data_ratio_orig[k_min], random_state = 10,\n",
      "\u001b[1;32m~\\anaconda3\\envs\\bm-336546-hw2\\lib\\site-packages\\pandas\\core\\frame.py\u001b[0m in \u001b[0;36m__getitem__\u001b[1;34m(self, key)\u001b[0m\n\u001b[0;32m   2904\u001b[0m             \u001b[1;32mif\u001b[0m \u001b[0mself\u001b[0m\u001b[1;33m.\u001b[0m\u001b[0mcolumns\u001b[0m\u001b[1;33m.\u001b[0m\u001b[0mnlevels\u001b[0m \u001b[1;33m>\u001b[0m \u001b[1;36m1\u001b[0m\u001b[1;33m:\u001b[0m\u001b[1;33m\u001b[0m\u001b[1;33m\u001b[0m\u001b[0m\n\u001b[0;32m   2905\u001b[0m                 \u001b[1;32mreturn\u001b[0m \u001b[0mself\u001b[0m\u001b[1;33m.\u001b[0m\u001b[0m_getitem_multilevel\u001b[0m\u001b[1;33m(\u001b[0m\u001b[0mkey\u001b[0m\u001b[1;33m)\u001b[0m\u001b[1;33m\u001b[0m\u001b[1;33m\u001b[0m\u001b[0m\n\u001b[1;32m-> 2906\u001b[1;33m             \u001b[0mindexer\u001b[0m \u001b[1;33m=\u001b[0m \u001b[0mself\u001b[0m\u001b[1;33m.\u001b[0m\u001b[0mcolumns\u001b[0m\u001b[1;33m.\u001b[0m\u001b[0mget_loc\u001b[0m\u001b[1;33m(\u001b[0m\u001b[0mkey\u001b[0m\u001b[1;33m)\u001b[0m\u001b[1;33m\u001b[0m\u001b[1;33m\u001b[0m\u001b[0m\n\u001b[0m\u001b[0;32m   2907\u001b[0m             \u001b[1;32mif\u001b[0m \u001b[0mis_integer\u001b[0m\u001b[1;33m(\u001b[0m\u001b[0mindexer\u001b[0m\u001b[1;33m)\u001b[0m\u001b[1;33m:\u001b[0m\u001b[1;33m\u001b[0m\u001b[1;33m\u001b[0m\u001b[0m\n\u001b[0;32m   2908\u001b[0m                 \u001b[0mindexer\u001b[0m \u001b[1;33m=\u001b[0m \u001b[1;33m[\u001b[0m\u001b[0mindexer\u001b[0m\u001b[1;33m]\u001b[0m\u001b[1;33m\u001b[0m\u001b[1;33m\u001b[0m\u001b[0m\n",
      "\u001b[1;32m~\\anaconda3\\envs\\bm-336546-hw2\\lib\\site-packages\\pandas\\core\\indexes\\base.py\u001b[0m in \u001b[0;36mget_loc\u001b[1;34m(self, key, method, tolerance)\u001b[0m\n\u001b[0;32m   2896\u001b[0m             \u001b[0mcasted_key\u001b[0m \u001b[1;33m=\u001b[0m \u001b[0mself\u001b[0m\u001b[1;33m.\u001b[0m\u001b[0m_maybe_cast_indexer\u001b[0m\u001b[1;33m(\u001b[0m\u001b[0mkey\u001b[0m\u001b[1;33m)\u001b[0m\u001b[1;33m\u001b[0m\u001b[1;33m\u001b[0m\u001b[0m\n\u001b[0;32m   2897\u001b[0m             \u001b[1;32mtry\u001b[0m\u001b[1;33m:\u001b[0m\u001b[1;33m\u001b[0m\u001b[1;33m\u001b[0m\u001b[0m\n\u001b[1;32m-> 2898\u001b[1;33m                 \u001b[1;32mreturn\u001b[0m \u001b[0mself\u001b[0m\u001b[1;33m.\u001b[0m\u001b[0m_engine\u001b[0m\u001b[1;33m.\u001b[0m\u001b[0mget_loc\u001b[0m\u001b[1;33m(\u001b[0m\u001b[0mcasted_key\u001b[0m\u001b[1;33m)\u001b[0m\u001b[1;33m\u001b[0m\u001b[1;33m\u001b[0m\u001b[0m\n\u001b[0m\u001b[0;32m   2899\u001b[0m             \u001b[1;32mexcept\u001b[0m \u001b[0mKeyError\u001b[0m \u001b[1;32mas\u001b[0m \u001b[0merr\u001b[0m\u001b[1;33m:\u001b[0m\u001b[1;33m\u001b[0m\u001b[1;33m\u001b[0m\u001b[0m\n\u001b[0;32m   2900\u001b[0m                 \u001b[1;32mraise\u001b[0m \u001b[0mKeyError\u001b[0m\u001b[1;33m(\u001b[0m\u001b[0mkey\u001b[0m\u001b[1;33m)\u001b[0m \u001b[1;32mfrom\u001b[0m \u001b[0merr\u001b[0m\u001b[1;33m\u001b[0m\u001b[1;33m\u001b[0m\u001b[0m\n",
      "\u001b[1;32mpandas\\_libs\\index.pyx\u001b[0m in \u001b[0;36mpandas._libs.index.IndexEngine.get_loc\u001b[1;34m()\u001b[0m\n",
      "\u001b[1;32mpandas\\_libs\\index.pyx\u001b[0m in \u001b[0;36mpandas._libs.index.IndexEngine.get_loc\u001b[1;34m()\u001b[0m\n",
      "\u001b[1;31mTypeError\u001b[0m: '(array([ True, False,  True, False]), slice(None, None, None))' is an invalid key"
     ]
    }
   ],
   "source": [
    "n_splits = 5\n",
    "skf = StratifiedKFold(n_splits=n_splits, random_state=10, shuffle=True)\n",
    "data_ratio = max_data_ratio(n_splits,x_train, y_train)\n",
    "\n",
    "x_train_orig, x_val_orig, y_train_orig, y_val_orig= train_test_split(x_train, y_train, test_size = 0.20, random_state = 10, stratify=y_train)\n",
    "\n",
    "J_train = np.zeros((2,len(data_ratio)))\n",
    "J_val = np.zeros((2,len(data_ratio)))\n",
    "\n",
    "idx, curr_ratio in enumerate(data_ratio):\n",
    "    C = 1/10\n",
    "    log_reg = LogisticRegression(solver='saga', random_state=5, penalty='l2', C=C, max_iter=2000)\n",
    "    h = 0 # index per split per lambda\n",
    "    J_train_fold = np.zeros(n_splits)\n",
    "    J_val_fold = np.zeros(n_splits)\n",
    "    m_x_train, _, m_y_train, _ = train_test_split(x_train_orig, y_train_orig, test_size =1-curr_ratio, random_state = 10,\n",
    "                                             stratify=y_train_orig)\n",
    "    for train_index, val_index in skf.split(m_x_train, m_y_train):\n",
    "        x_train_fold = m_x_train[train_index,:]\n",
    "        y_train_fold = m_y_train[train_index]\n",
    "        x_train_fold = scaler.fit_transform(x_train_fold)\n",
    "        x_val = scaler.transform(x_val_orig)\n",
    "\n",
    "        log_reg.fit(x_train_fold, y_train_fold)\n",
    "        y_pred_train = log_reg.predict_proba(x_train_fold)\n",
    "        J_train_fold[h] = log_loss(y_train_fold,y_pred_train)\n",
    "        y_pred_val = log_reg.predict_proba(x_val)\n",
    "        J_val_fold[h] = log_loss(y_val,y_pred_val) \n",
    "        h += 1\n",
    "        \n",
    "        J_train[0, idx] = J_train_fold.mean()\n",
    "        J_train[1, idx] = J_train_fold.std()\n",
    "        J_val[0, idx] = J_val_fold.mean()\n",
    "        J_val[1, idx] = J_val_fold.std()\n",
    "\n",
    "fig, axes = plt.subplots(1,2,figsize=(12,6))\n",
    "axes[0].errorbar(np.ceil(data_ratio[0:5]*x_train.shape[0]), J_train[0,0:5], yerr=J_train[1,0:5])\n",
    "axes[0].errorbar(np.ceil(data_ratio[0:5]*x_train.shape[0]), J_val[0,0:5], yerr=J_val[1,0:5])\n",
    "axes[0].set_xlabel('# of examples in training set')\n",
    "axes[0].set_ylabel('Loss')\n",
    "axes[0].legend(['J_train', 'J_val (n = ' + str(x_val.shape[0]) + ')'])\n",
    "axes[0].set_title('Started with ' + str(int(np.ceil(data_ratio[0]*x_train.shape[0]))) + ' examples')\n",
    "axes[1].errorbar(np.ceil(data_ratio[5:]*x_train.shape[0]), J_train[0,5:], yerr=J_train[1,5:])\n",
    "axes[1].errorbar(np.ceil(data_ratio[5:]*x_train.shape[0]), J_val[0,5:], yerr=J_val[1,5:])\n",
    "axes[1].set_xlabel('# of examples in training set')\n",
    "axes[1].set_ylabel('Loss')\n",
    "axes[1].legend(['J_train', 'J_val (n = ' + str(x_val.shape[0]) + ')'])"
   ]
  },
  {
   "cell_type": "code",
   "execution_count": null,
   "metadata": {},
   "outputs": [],
   "source": []
  },
  {
   "cell_type": "code",
   "execution_count": null,
   "metadata": {},
   "outputs": [],
   "source": []
  },
  {
   "cell_type": "markdown",
   "metadata": {},
   "source": [
    "#### 6. Feature Selection:"
   ]
  },
  {
   "cell_type": "code",
   "execution_count": null,
   "metadata": {},
   "outputs": [],
   "source": []
  },
  {
   "cell_type": "code",
   "execution_count": null,
   "metadata": {},
   "outputs": [],
   "source": []
  },
  {
   "cell_type": "markdown",
   "metadata": {},
   "source": [
    "#### 7. Data Separability Visualization:"
   ]
  },
  {
   "cell_type": "code",
   "execution_count": null,
   "metadata": {},
   "outputs": [],
   "source": []
  }
 ],
 "metadata": {
  "kernelspec": {
   "display_name": "Python 3",
   "language": "python",
   "name": "python3"
  },
  "language_info": {
   "codemirror_mode": {
    "name": "ipython",
    "version": 3
   },
   "file_extension": ".py",
   "mimetype": "text/x-python",
   "name": "python",
   "nbconvert_exporter": "python",
   "pygments_lexer": "ipython3",
   "version": "3.7.9"
  }
 },
 "nbformat": 4,
 "nbformat_minor": 4
}
