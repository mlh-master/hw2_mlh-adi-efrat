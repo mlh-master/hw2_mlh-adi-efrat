{
 "cells": [
  {
   "cell_type": "markdown",
   "metadata": {},
   "source": [
    "## BM 336546 - HW2: Adi and Efrat"
   ]
  },
  {
   "cell_type": "markdown",
   "metadata": {},
   "source": [
    "### Theory Questions-"
   ]
  },
  {
   "cell_type": "markdown",
   "metadata": {},
   "source": [
    "##### Q1-\n",
    "Model performance is more important evaluation metric than accuracy. \n",
    "Accuracy does not work well when there are unequal number of samples belonging to each class, which is the case in most datasets, classification accuracy can give us the false sense of achieving high accuracy resulting from imbalanced classes. Model performance is our way to know how good our model would be with new data. If the model accuracy is good and the performance is not, it means that our model can only work with the original training dataset. \n",
    "For example a cancer detection model. Let’s say out of 100, 90 of the patients don’t have cancer and the remaining 10 have it. Detecting everyone as not having cancer gives an accuracy of 90% but misses the patients that are sick and need treatment.\n",
    "\n",
    "##### Q2-\n",
    "The pros in using only BP and BMI features is that we are training a classifier with the most relevant features that can predict a heart attack, it is easier to visualize the data with less features and the computing time would be faster. The cons of this model is that we can miss relevant data by not using all of the features, thus compromising the model performance.\n",
    "The pros in using all of the features is that we have more information for each patient and we could predict better whether a patient is going to suffer a heart attack or not. The cons of this classifier is that some of the features can be irrelevant or redundant, too many features can obstruct interpretability and be computationaly expensive.\n",
    "\n",
    "##### Q3-\n",
    "It depends.. SVM works well with unstructured and semi-structured data like text and images, it is based on geometrical properties of the data and there is a lower risk of overfitting.\n",
    "If it is difficult to distinguish the biopsies by looking at the features it can indicate that the features are not linearly seperable, thus SVM (the kernel trick) can make the data separable.\n",
    "If we have a high number of features non-linear SVM can be computationally expensive and might lead to\n",
    "overfitting, linear SVM could make the data seperable in a higer dimension.\n",
    "\n",
    "##### Q4- \n",
    "SVM tries to finds the best margin that separates the classes and thus reduces the risk of error on the data, while logistic regression can have different decision boundaries with different weights that are near the optimal point. LR works well with already identified independent variables and SVM with unstructured and semi-structured data. LR is based on statistical approaches while SVM is based on geometrical properties of the data. Moreover, LR is more vulnerable to overfitting than SVM.\n",
    "Logistic regression does't have many hyperparameters to tune. We can improve performance by using different solvers or regularization (penalty). SVM provides larger number of hyperparameters to tune, like the choice of kernel that controls the projection of the variables, the penalty (C) that controls the trade-off between decision boundary and misclassification term and gamma which decides how much curvature we want in a decision boundary."
   ]
  },
  {
   "cell_type": "markdown",
   "metadata": {},
   "source": [
    "## Coding Assignment-"
   ]
  },
  {
   "cell_type": "markdown",
   "metadata": {},
   "source": [
    "#### 1. Loading the data and preprocessing:"
   ]
  },
  {
   "cell_type": "code",
   "execution_count": 1,
   "metadata": {},
   "outputs": [],
   "source": [
    "import pandas as pd \n",
    "import numpy as np\n",
    "from pathlib import Path\n",
    "import random\n",
    "import matplotlib.pyplot as plt\n",
    "%matplotlib inline\n",
    "plt.rcParams['axes.titlesize'] = 16\n",
    "plt.rcParams['axes.labelsize'] = 15\n",
    "plt.rcParams['xtick.labelsize'] = 14\n",
    "plt.rcParams['ytick.labelsize'] = 14\n",
    "random.seed(10)\n",
    "import seaborn as sns\n",
    "\n",
    "from sklearn import metrics\n",
    "from sklearn.model_selection import train_test_split, GridSearchCV\n",
    "from sklearn.linear_model import LogisticRegression\n",
    "from sklearn.preprocessing import StandardScaler\n",
    "from sklearn.model_selection import StratifiedKFold\n",
    "from sklearn.metrics import log_loss, confusion_matrix, plot_confusion_matrix, roc_auc_score, plot_roc_curve\n",
    "from sklearn.svm import SVC\n",
    "from sklearn.pipeline import Pipeline\n",
    "from sklearn.ensemble import RandomForestClassifier\n",
    "from sklearn.decomposition import PCA"
   ]
  },
  {
   "cell_type": "code",
   "execution_count": 2,
   "metadata": {},
   "outputs": [],
   "source": [
    "file = Path.cwd().joinpath('HW2_data.csv') # concatenates HW2_data.csv to the current folder\n",
    "T1D_dataset = pd.read_csv(file) # load the data\n",
    "T1D_dataset = T1D_dataset.dropna() #removing patients with missing values\n",
    "\n",
    "#section 4 - converting the data to one hot vector\n",
    "T1D_dataset = pd.get_dummies(data=T1D_dataset,prefix=None, drop_first=True) #dummy coding - converting the data to binary\n",
    "\n",
    "T1D_features = T1D_dataset[['Age','Gender_Male','Increased Urination_Yes','Increased Thirst_Yes','Sudden Weight Loss_Yes','Weakness_Yes','Increased Hunger_Yes',\n",
    "                              'Genital Thrush_Yes','Visual Blurring_Yes','Itching_Yes','Irritability_Yes','Delayed Healing_Yes','Partial Paresis_Yes',\n",
    "                              'Muscle Stiffness_Yes','Hair Loss_Yes','Obesity_Yes','Family History']]\n",
    "diagnosis = T1D_dataset[['Diagnosis_Positive']]"
   ]
  },
  {
   "cell_type": "markdown",
   "metadata": {},
   "source": [
    "#### 2. Train-test split:"
   ]
  },
  {
   "cell_type": "code",
   "execution_count": 3,
   "metadata": {},
   "outputs": [],
   "source": [
    "x_train, x_test, y_train, y_test = train_test_split(T1D_features, np.ravel(diagnosis), test_size=0.2, random_state=0, stratify=np.ravel(diagnosis))"
   ]
  },
  {
   "cell_type": "markdown",
   "metadata": {},
   "source": [
    "#### 3. Data visualization:"
   ]
  },
  {
   "cell_type": "code",
   "execution_count": null,
   "metadata": {},
   "outputs": [],
   "source": [
    "dic_train = {}\n",
    "dic_test = {}\n",
    "dic_delta = {}\n",
    "units = []\n",
    "for col in T1D_features.columns:        \n",
    "    dic_train[col] = round(100 * sum(x_train[col])/len(x_train[col]),2)\n",
    "    dic_test[col] = round(100 * sum(x_test[col])/len(x_test[col]),2)\n",
    "    dic_delta[col] = dic_train[col] - dic_test[col]\n",
    "    units.append('%')\n",
    "dic_train['Age'] = round(sum(x_train['Age'])/len(x_train['Age']),2)\n",
    "dic_test['Age'] = round(sum(x_test['Age'])/len(x_test['Age']),2)\n",
    "dic_delta['Age'] = dic_train['Age'] - dic_test['Age']\n",
    "units[0] = 'years'\n",
    "table = pd.DataFrame(dic_train.items(), columns=['Feature','Train'])\n",
    "df_test = pd.DataFrame(dic_test.items(), columns=['Feature','Test'])\n",
    "df_delta = pd.DataFrame(dic_delta.items(), columns=['Feature','Delta'])\n",
    "table['Test'] = df_test['Test']\n",
    "table['Delta'] = df_delta['Delta']\n",
    "table['units'] = units\n",
    "print(table)"
   ]
  },
  {
   "cell_type": "code",
   "execution_count": null,
   "metadata": {},
   "outputs": [],
   "source": [
    "bins = 50\n",
    "feat = 'Age'\n",
    "idx_1 = (diagnosis == 0).index[(diagnosis == 0)['Diagnosis_Positive'] == True].tolist()\n",
    "idx_2 = (diagnosis == 1).index[(diagnosis == 1)['Diagnosis_Positive'] == True].tolist()\n",
    "plt.hist(T1D_features[feat].loc[idx_1], bins, alpha=0.5, label='Negative')\n",
    "plt.hist(T1D_features[feat].loc[idx_2], bins, alpha=0.5, label='Positive')\n",
    "plt.xlabel(feat)\n",
    "plt.ylabel('Count')\n",
    "plt.legend(loc='upper right')\n",
    "plt.show()"
   ]
  },
  {
   "cell_type": "code",
   "execution_count": null,
   "metadata": {},
   "outputs": [],
   "source": [
    "bins = 20\n",
    "idx_1 = (diagnosis == 0).index[(diagnosis == 0)['Diagnosis_Positive'] == True].tolist()\n",
    "idx_2 = (diagnosis == 1).index[(diagnosis == 1)['Diagnosis_Positive'] == True].tolist()\n",
    "fig, axs = plt.subplots(4,4,figsize=(25,28))\n",
    "i,j = [0, 0]\n",
    "for col in T1D_features.columns:\n",
    "    if col!='Age':\n",
    "        axs[i,j].hist(T1D_features[col].loc[idx_1], bins, label='Negative', align='left')\n",
    "        axs[i,j].hist(T1D_features[col].loc[idx_2], bins, label='Positive',align='right')\n",
    "        axs[i,j].set_title(col)\n",
    "        axs[i,j].set(xlabel=col,ylabel='count')\n",
    "        axs[i,j].legend(loc='upper right',fontsize=14)\n",
    "        j+=1\n",
    "        if (j>3):\n",
    "            i+=1\n",
    "            j=0\n",
    "plt.show()"
   ]
  },
  {
   "cell_type": "code",
   "execution_count": null,
   "metadata": {},
   "outputs": [],
   "source": [
    "diagnosis.value_counts().plot(kind=\"pie\", labels=['T1D','NO T1D'], colors = ['steelblue', 'lightgreen'], autopct='%1.1f%%', ylabel='Type 1 Diabetes') \n",
    "plt.show()"
   ]
  },
  {
   "cell_type": "markdown",
   "metadata": {},
   "source": [
    "#### 5. Machine Learning Models:"
   ]
  },
  {
   "cell_type": "code",
   "execution_count": 4,
   "metadata": {},
   "outputs": [],
   "source": [
    "n_splits = 5\n",
    "skf = StratifiedKFold(n_splits=n_splits, random_state=10, shuffle=True)\n",
    "\n",
    "scaler = StandardScaler()"
   ]
  },
  {
   "cell_type": "code",
   "execution_count": 5,
   "metadata": {},
   "outputs": [
    {
     "data": {
      "text/plain": [
       "<matplotlib.legend.Legend at 0x21784742a48>"
      ]
     },
     "execution_count": 5,
     "metadata": {},
     "output_type": "execute_result"
    },
    {
     "data": {
      "image/png": "[encoded data removed]",
      "text/plain": [
       "<Figure size 432x288 with 1 Axes>"
      ]
     },
     "metadata": {
      "needs_background": "light"
     },
     "output_type": "display_data"
    }
   ],
   "source": [
    "lmbda = np.array([0.001, 0.01, 1, 10, 100, 1000, 10000])\n",
    "J_train = np.zeros((2,len(lmbda)))\n",
    "J_val = np.zeros((2,len(lmbda)))\n",
    "\n",
    "for idx, lmb in enumerate(lmbda):\n",
    "    C = 1/lmb\n",
    "    log_reg = LogisticRegression(solver='saga', random_state=5, penalty='l2', C=C, max_iter=2000)\n",
    "    h = 0 # index per split per lambda\n",
    "    J_train_fold = np.zeros(n_splits)\n",
    "    J_val_fold = np.zeros(n_splits)\n",
    "    \n",
    "    for train_index, val_index in skf.split(x_train, y_train):\n",
    "        x_train_fold, x_val_fold = x_train.iloc[train_index], x_train.iloc[val_index]\n",
    "        y_train_fold, y_val_fold = y_train[train_index], y_train[val_index]\n",
    "        x_train_fold = scaler.fit_transform(x_train_fold)\n",
    "        x_val_fold = scaler.transform(x_val_fold)\n",
    "        log_reg.fit(x_train_fold, y_train_fold)\n",
    "        y_pred_train = log_reg.predict_proba(x_train_fold)\n",
    "        J_train_fold[h] = log_loss(y_train_fold, y_pred_train)\n",
    "        y_pred_val = log_reg.predict_proba(x_val_fold)\n",
    "        J_val_fold[h] = log_loss(y_val_fold, y_pred_val)\n",
    "        h += 1\n",
    "        \n",
    "    J_train[0, idx] = J_train_fold.mean()\n",
    "    J_train[1, idx] = J_train_fold.std()\n",
    "    J_val[0, idx] = J_val_fold.mean()\n",
    "    J_val[1, idx] = J_val_fold.std()\n",
    "\n",
    "plt.errorbar(np.log10(lmbda), J_train[0,:], yerr=J_train[1,:])\n",
    "plt.errorbar(np.log10(lmbda), J_val[0,:], yerr=J_val[1,:]) \n",
    "plt.xlabel('$\\log_{10}\\lambda$')\n",
    "plt.ylabel('Loss')\n",
    "plt.legend(['J_train (n = ' + str(x_train_fold.shape[0]) + ')', 'J_val (n = ' + str(x_val_fold.shape[0]) + ')'])"
   ]
  },
  {
   "cell_type": "code",
   "execution_count": 6,
   "metadata": {},
   "outputs": [
    {
     "name": "stdout",
     "output_type": "stream",
     "text": [
      "Fitting 5 folds for each of 6 candidates, totalling 30 fits\n",
      "[CV] logistic__C=100.0, logistic__penalty=l2 .........................\n",
      "[CV]  logistic__C=100.0, logistic__penalty=l2, accuracy=(train=0.943, test=0.940), f1=(train=0.953, test=0.952), precision=(train=0.965, test=0.943), recall=(train=0.941, test=0.962), roc_auc=(train=0.984, test=0.990), total=   0.1s\n",
      "[CV] logistic__C=100.0, logistic__penalty=l2 .........................\n"
     ]
    },
    {
     "name": "stderr",
     "output_type": "stream",
     "text": [
      "[Parallel(n_jobs=1)]: Using backend SequentialBackend with 1 concurrent workers.\n",
      "[Parallel(n_jobs=1)]: Done   1 out of   1 | elapsed:    0.0s remaining:    0.0s\n"
     ]
    },
    {
     "name": "stdout",
     "output_type": "stream",
     "text": [
      "[CV]  logistic__C=100.0, logistic__penalty=l2, accuracy=(train=0.955, test=0.881), f1=(train=0.964, test=0.900), precision=(train=0.961, test=0.938), recall=(train=0.966, test=0.865), roc_auc=(train=0.992, test=0.953), total=   0.1s\n",
      "[CV] logistic__C=100.0, logistic__penalty=l2 .........................\n",
      "[CV]  logistic__C=100.0, logistic__penalty=l2, accuracy=(train=0.961, test=0.893), f1=(train=0.969, test=0.909), precision=(train=0.966, test=0.938), recall=(train=0.971, test=0.882), roc_auc=(train=0.991, test=0.952), total=   0.1s\n",
      "[CV] logistic__C=100.0, logistic__penalty=l2 .........................\n"
     ]
    },
    {
     "name": "stderr",
     "output_type": "stream",
     "text": [
      "[Parallel(n_jobs=1)]: Done   2 out of   2 | elapsed:    0.2s remaining:    0.0s\n"
     ]
    },
    {
     "name": "stdout",
     "output_type": "stream",
     "text": [
      "[CV]  logistic__C=100.0, logistic__penalty=l2, accuracy=(train=0.955, test=0.928), f1=(train=0.963, test=0.943), precision=(train=0.970, test=0.909), recall=(train=0.956, test=0.980), roc_auc=(train=0.988, test=0.975), total=   0.1s\n",
      "[CV] logistic__C=100.0, logistic__penalty=l2 .........................\n",
      "[CV]  logistic__C=100.0, logistic__penalty=l2, accuracy=(train=0.949, test=0.964), f1=(train=0.958, test=0.971), precision=(train=0.975, test=0.962), recall=(train=0.942, test=0.980), roc_auc=(train=0.983, test=0.993), total=   0.1s\n",
      "[CV] logistic__C=100.0, logistic__penalty=l2 .........................\n",
      "[CV]  logistic__C=100.0, logistic__penalty=l2, accuracy=(train=0.943, test=0.940), f1=(train=0.953, test=0.952), precision=(train=0.965, test=0.943), recall=(train=0.941, test=0.962), roc_auc=(train=0.984, test=0.990), total=   0.1s\n",
      "[CV] logistic__C=100.0, logistic__penalty=l2 .........................\n",
      "[CV]  logistic__C=100.0, logistic__penalty=l2, accuracy=(train=0.955, test=0.881), f1=(train=0.964, test=0.900), precision=(train=0.961, test=0.938), recall=(train=0.966, test=0.865), roc_auc=(train=0.992, test=0.953), total=   0.1s\n",
      "[CV] logistic__C=100.0, logistic__penalty=l2 .........................\n",
      "[CV]  logistic__C=100.0, logistic__penalty=l2, accuracy=(train=0.961, test=0.893), f1=(train=0.969, test=0.909), precision=(train=0.966, test=0.938), recall=(train=0.971, test=0.882), roc_auc=(train=0.991, test=0.952), total=   0.2s\n",
      "[CV] logistic__C=100.0, logistic__penalty=l2 .........................\n",
      "[CV]  logistic__C=100.0, logistic__penalty=l2, accuracy=(train=0.955, test=0.928), f1=(train=0.963, test=0.943), precision=(train=0.970, test=0.909), recall=(train=0.956, test=0.980), roc_auc=(train=0.988, test=0.975), total=   0.1s\n",
      "[CV] logistic__C=100.0, logistic__penalty=l2 .........................\n",
      "[CV]  logistic__C=100.0, logistic__penalty=l2, accuracy=(train=0.949, test=0.964), f1=(train=0.958, test=0.971), precision=(train=0.975, test=0.962), recall=(train=0.942, test=0.980), roc_auc=(train=0.983, test=0.993), total=   0.3s\n",
      "[CV] logistic__C=1.0, logistic__penalty=l2 ...........................\n",
      "[CV]  logistic__C=1.0, logistic__penalty=l2, accuracy=(train=0.940, test=0.952), f1=(train=0.950, test=0.962), precision=(train=0.965, test=0.962), recall=(train=0.937, test=0.962), roc_auc=(train=0.984, test=0.990), total=   0.2s\n",
      "[CV] logistic__C=1.0, logistic__penalty=l2 ...........................\n",
      "[CV]  logistic__C=1.0, logistic__penalty=l2, accuracy=(train=0.958, test=0.881), f1=(train=0.966, test=0.900), precision=(train=0.966, test=0.938), recall=(train=0.966, test=0.865), roc_auc=(train=0.992, test=0.953), total=   0.2s\n",
      "[CV] logistic__C=1.0, logistic__penalty=l2 ...........................\n",
      "[CV]  logistic__C=1.0, logistic__penalty=l2, accuracy=(train=0.952, test=0.905), f1=(train=0.961, test=0.918), precision=(train=0.966, test=0.957), recall=(train=0.956, test=0.882), roc_auc=(train=0.991, test=0.955), total=   0.1s\n",
      "[CV] logistic__C=1.0, logistic__penalty=l2 ...........................\n",
      "[CV]  logistic__C=1.0, logistic__penalty=l2, accuracy=(train=0.955, test=0.928), f1=(train=0.963, test=0.943), precision=(train=0.970, test=0.909), recall=(train=0.956, test=0.980), roc_auc=(train=0.987, test=0.985), total=   0.1s\n",
      "[CV] logistic__C=1.0, logistic__penalty=l2 ...........................\n",
      "[CV]  logistic__C=1.0, logistic__penalty=l2, accuracy=(train=0.949, test=0.952), f1=(train=0.958, test=0.962), precision=(train=0.975, test=0.943), recall=(train=0.942, test=0.980), roc_auc=(train=0.984, test=0.994), total=   0.1s\n",
      "[CV] logistic__C=0.1, logistic__penalty=l2 ...........................\n",
      "[CV]  logistic__C=0.1, logistic__penalty=l2, accuracy=(train=0.940, test=0.952), f1=(train=0.950, test=0.962), precision=(train=0.965, test=0.962), recall=(train=0.937, test=0.962), roc_auc=(train=0.982, test=0.992), total=   0.0s\n",
      "[CV] logistic__C=0.1, logistic__penalty=l2 ...........................\n",
      "[CV]  logistic__C=0.1, logistic__penalty=l2, accuracy=(train=0.952, test=0.857), f1=(train=0.960, test=0.878), precision=(train=0.975, test=0.935), recall=(train=0.946, test=0.827), roc_auc=(train=0.991, test=0.956), total=   0.0s\n",
      "[CV] logistic__C=0.1, logistic__penalty=l2 ...........................\n",
      "[CV]  logistic__C=0.1, logistic__penalty=l2, accuracy=(train=0.946, test=0.893), f1=(train=0.955, test=0.909), precision=(train=0.975, test=0.938), recall=(train=0.937, test=0.882), roc_auc=(train=0.988, test=0.957), total=   0.0s\n",
      "[CV] logistic__C=0.1, logistic__penalty=l2 ...........................\n",
      "[CV]  logistic__C=0.1, logistic__penalty=l2, accuracy=(train=0.919, test=0.904), f1=(train=0.933, test=0.925), precision=(train=0.950, test=0.891), recall=(train=0.917, test=0.961), roc_auc=(train=0.984, test=0.987), total=   0.0s\n",
      "[CV] logistic__C=0.1, logistic__penalty=l2 ...........................\n",
      "[CV]  logistic__C=0.1, logistic__penalty=l2, accuracy=(train=0.940, test=0.940), f1=(train=0.951, test=0.952), precision=(train=0.960, test=0.926), recall=(train=0.942, test=0.980), roc_auc=(train=0.983, test=0.994), total=   0.1s\n",
      "[CV] logistic__C=0.01, logistic__penalty=l2 ..........................\n",
      "[CV]  logistic__C=0.01, logistic__penalty=l2, accuracy=(train=0.916, test=0.940), f1=(train=0.932, test=0.951), precision=(train=0.932, test=0.961), recall=(train=0.932, test=0.942), roc_auc=(train=0.974, test=0.989), total=   0.0s\n",
      "[CV] logistic__C=0.01, logistic__penalty=l2 ..........................\n",
      "[CV]  logistic__C=0.01, logistic__penalty=l2, accuracy=(train=0.928, test=0.881), f1=(train=0.941, test=0.898), precision=(train=0.941, test=0.957), recall=(train=0.941, test=0.846), roc_auc=(train=0.982, test=0.956), total=   0.0s\n",
      "[CV] logistic__C=0.01, logistic__penalty=l2 ..........................\n",
      "[CV]  logistic__C=0.01, logistic__penalty=l2, accuracy=(train=0.934, test=0.857), f1=(train=0.946, test=0.878), precision=(train=0.951, test=0.915), recall=(train=0.942, test=0.843), roc_auc=(train=0.981, test=0.950), total=   0.3s\n",
      "[CV] logistic__C=0.01, logistic__penalty=l2 ..........................\n",
      "[CV]  logistic__C=0.01, logistic__penalty=l2, accuracy=(train=0.922, test=0.916), f1=(train=0.936, test=0.933), precision=(train=0.950, test=0.907), recall=(train=0.922, test=0.961), roc_auc=(train=0.975, test=0.977), total=   0.1s\n",
      "[CV] logistic__C=0.01, logistic__penalty=l2 ..........................\n",
      "[CV]  logistic__C=0.01, logistic__penalty=l2, accuracy=(train=0.904, test=0.940), f1=(train=0.922, test=0.953), precision=(train=0.931, test=0.911), recall=(train=0.913, test=1.000), roc_auc=(train=0.976, test=0.988), total=   0.1s\n",
      "[CV] logistic__C=0.001, logistic__penalty=l2 .........................\n",
      "[CV]  logistic__C=0.001, logistic__penalty=l2, accuracy=(train=0.641, test=0.631), f1=(train=0.774, test=0.770), precision=(train=0.631, test=0.627), recall=(train=1.000, test=1.000), roc_auc=(train=0.952, test=0.975), total=   0.1s\n",
      "[CV] logistic__C=0.001, logistic__penalty=l2 .........................\n",
      "[CV]  logistic__C=0.001, logistic__penalty=l2, accuracy=(train=0.638, test=0.643), f1=(train=0.772, test=0.776), precision=(train=0.629, test=0.634), recall=(train=1.000, test=1.000), roc_auc=(train=0.962, test=0.947), total=   0.1s\n",
      "[CV] logistic__C=0.001, logistic__penalty=l2 .........................\n",
      "[CV]  logistic__C=0.001, logistic__penalty=l2, accuracy=(train=0.644, test=0.619), f1=(train=0.776, test=0.761), precision=(train=0.634, test=0.614), recall=(train=1.000, test=1.000), roc_auc=(train=0.964, test=0.922), total=   0.2s\n",
      "[CV] logistic__C=0.001, logistic__penalty=l2 .........................\n",
      "[CV]  logistic__C=0.001, logistic__penalty=l2, accuracy=(train=0.639, test=0.639), f1=(train=0.773, test=0.773), precision=(train=0.630, test=0.630), recall=(train=1.000, test=1.000), roc_auc=(train=0.957, test=0.953), total=   0.2s\n",
      "[CV] logistic__C=0.001, logistic__penalty=l2 .........................\n",
      "[CV]  logistic__C=0.001, logistic__penalty=l2, accuracy=(train=0.630, test=0.663), f1=(train=0.769, test=0.785), precision=(train=0.624, test=0.646), recall=(train=1.000, test=1.000), roc_auc=(train=0.954, test=0.974), total=   0.1s\n"
     ]
    },
    {
     "name": "stderr",
     "output_type": "stream",
     "text": [
      "[Parallel(n_jobs=1)]: Done  30 out of  30 | elapsed:    5.1s finished\n"
     ]
    },
    {
     "data": {
      "text/plain": [
       "{'logistic__C': 0.1, 'logistic__penalty': 'l2'}"
      ]
     },
     "execution_count": 6,
     "metadata": {},
     "output_type": "execute_result"
    }
   ],
   "source": [
    "solver = 'saga' #or 'liblinear'\n",
    "log_reg = LogisticRegression(random_state=5, max_iter=2000,solver=solver)\n",
    "lmbda = np.array([0.01, 0.01, 1, 10, 100, 1000])\n",
    "pipe = Pipeline(steps=[('scale', StandardScaler()), ('logistic', log_reg)])\n",
    "clf = GridSearchCV(estimator=pipe, param_grid={'logistic__C': 1/lmbda, 'logistic__penalty': ['l2']},\n",
    "                   scoring=['accuracy','f1','precision','recall','roc_auc'], cv=skf,\n",
    "                   refit='roc_auc', verbose=3, return_train_score=True)\n",
    "clf.fit(x_train, y_train)\n",
    "clf.best_params_"
   ]
  },
  {
   "cell_type": "code",
   "execution_count": 7,
   "metadata": {},
   "outputs": [],
   "source": [
    "def max_data_ratio(n_splits,x_train,y_train):\n",
    "    data_ratio_orig = np.linspace(0.01,0.98,num=100) \n",
    "    k_min = 0\n",
    "    m_x_train, _, m_y_train, _ = train_test_split(x_train, y_train, test_size =1-data_ratio_orig[k_min], random_state = 10,\n",
    "                                     stratify=y_train)  \n",
    "    while (m_x_train[m_y_train>0.5].shape[0] <= n_splits) or (m_x_train[m_y_train<0.5].shape[0] <= n_splits):\n",
    "        k_min += 1\n",
    "        m_x_train, _, m_y_train, _ = train_test_split(x_train, y_train, test_size =1-data_ratio_orig[k_min], random_state = 10,\n",
    "                                 stratify=y_train)  \n",
    "    k_max = 99\n",
    "    m_x_train, _, m_y_train, _ = train_test_split(x_train, y_train, test_size =1-data_ratio_orig[k_max], random_state = 10,\n",
    "                                     stratify=y_train)  \n",
    "    while (m_x_train[m_y_train>0.5].shape[0] <= n_splits) or (m_x_train[m_y_train<0.5].shape[0] <= n_splits):\n",
    "        k_max -= 1\n",
    "        m_x_train, _, m_y_train, _ = train_test_split(x_train, y_train, test_size =1-data_ratio_orig[k_max], random_state = 10,\n",
    "                                 stratify=y_train)\n",
    "    return np.linspace(data_ratio_orig[k_min],data_ratio_orig[k_max],num=100)"
   ]
  },
  {
   "cell_type": "code",
   "execution_count": 8,
   "metadata": {},
   "outputs": [
    {
     "data": {
      "text/plain": [
       "<matplotlib.legend.Legend at 0x21784c0e488>"
      ]
     },
     "execution_count": 8,
     "metadata": {},
     "output_type": "execute_result"
    },
    {
     "data": {
      "image/png": "[encoded data removed]",
      "text/plain": [
       "<Figure size 864x432 with 2 Axes>"
      ]
     },
     "metadata": {
      "needs_background": "light"
     },
     "output_type": "display_data"
    }
   ],
   "source": [
    "x_train_orig, x_val_orig, y_train_orig, y_val_orig= train_test_split(x_train, y_train, test_size = 0.20, random_state = 10, stratify=y_train)\n",
    "data_ratio = max_data_ratio(n_splits, x_train, y_train)\n",
    "\n",
    "J_train = np.zeros((2,len(data_ratio)))\n",
    "J_val = np.zeros((2,len(data_ratio)))\n",
    "\n",
    "for idx, curr_ratio in enumerate(data_ratio):\n",
    "    log_reg = LogisticRegression(solver='saga', random_state=5, penalty='l2', C=0.1, max_iter=2000)\n",
    "    h = 0 # index per split\n",
    "    J_train_fold = np.zeros(n_splits)\n",
    "    J_val_fold = np.zeros(n_splits)\n",
    "    m_x_train, _, m_y_train, _ = train_test_split(x_train_orig, y_train_orig, test_size =1-curr_ratio, random_state = 10,\n",
    "                                             stratify=y_train_orig)\n",
    "    for train_index, val_index in skf.split(m_x_train, m_y_train):\n",
    "        x_train_fold = m_x_train.iloc[train_index]\n",
    "        y_train_fold = m_y_train[train_index]\n",
    "        x_train_fold = scaler.fit_transform(x_train_fold)\n",
    "        x_val = scaler.transform(x_val_orig)\n",
    "\n",
    "        log_reg.fit(x_train_fold, y_train_fold)\n",
    "        y_pred_train = log_reg.predict_proba(x_train_fold)\n",
    "        J_train_fold[h] = log_loss(y_train_fold,y_pred_train)\n",
    "        y_pred_val = log_reg.predict_proba(x_val)\n",
    "        J_val_fold[h] = log_loss(y_val_orig,y_pred_val) \n",
    "        h += 1\n",
    "        \n",
    "        J_train[0, idx] = J_train_fold.mean()\n",
    "        J_train[1, idx] = J_train_fold.std()\n",
    "        J_val[0, idx] = J_val_fold.mean()\n",
    "        J_val[1, idx] = J_val_fold.std()\n",
    "\n",
    "fig, axes = plt.subplots(1,2,figsize=(12,6))\n",
    "axes[0].errorbar(np.ceil(data_ratio[0:5]*x_train.shape[0]), J_train[0,0:5], yerr=J_train[1,0:5])\n",
    "axes[0].errorbar(np.ceil(data_ratio[0:5]*x_train.shape[0]), J_val[0,0:5], yerr=J_val[1,0:5])\n",
    "axes[0].set_xlabel('# of examples in training set')\n",
    "axes[0].set_ylabel('Loss')\n",
    "axes[0].legend(['J_train', 'J_val (n = ' + str(x_val.shape[0]) + ')'])\n",
    "axes[0].set_title('Started with ' + str(int(np.ceil(data_ratio[0]*x_train.shape[0]))) + ' examples')\n",
    "axes[1].errorbar(np.ceil(data_ratio[5:]*x_train.shape[0]), J_train[0,5:], yerr=J_train[1,5:])\n",
    "axes[1].errorbar(np.ceil(data_ratio[5:]*x_train.shape[0]), J_val[0,5:], yerr=J_val[1,5:])\n",
    "axes[1].set_xlabel('# of examples in training set')\n",
    "axes[1].set_ylabel('Loss')\n",
    "axes[1].legend(['J_train', 'J_val (n = ' + str(x_val.shape[0]) + ')'])"
   ]
  },
  {
   "cell_type": "code",
   "execution_count": 9,
   "metadata": {},
   "outputs": [
    {
     "name": "stdout",
     "output_type": "stream",
     "text": [
      "Fitting 5 folds for each of 5 candidates, totalling 25 fits\n",
      "[CV] svm__C=0.01, svm__kernel=linear .................................\n",
      "[CV]  svm__C=0.01, svm__kernel=linear, accuracy=(train=0.910, test=0.905), f1=(train=0.923, test=0.918), precision=(train=0.973, test=0.978), recall=(train=0.878, test=0.865), roc_auc=(train=0.978, test=0.992), total=   0.1s\n",
      "[CV] svm__C=0.01, svm__kernel=linear .................................\n"
     ]
    },
    {
     "name": "stderr",
     "output_type": "stream",
     "text": [
      "[Parallel(n_jobs=1)]: Using backend SequentialBackend with 1 concurrent workers.\n",
      "[Parallel(n_jobs=1)]: Done   1 out of   1 | elapsed:    0.0s remaining:    0.0s\n"
     ]
    },
    {
     "name": "stdout",
     "output_type": "stream",
     "text": [
      "[CV]  svm__C=0.01, svm__kernel=linear, accuracy=(train=0.937, test=0.857), f1=(train=0.947, test=0.870), precision=(train=0.984, test=1.000), recall=(train=0.912, test=0.769), roc_auc=(train=0.988, test=0.954), total=   0.1s\n",
      "[CV] svm__C=0.01, svm__kernel=linear .................................\n",
      "[CV]  svm__C=0.01, svm__kernel=linear, accuracy=(train=0.910, test=0.833), f1=(train=0.924, test=0.848), precision=(train=0.968, test=0.951), recall=(train=0.883, test=0.765), roc_auc=(train=0.981, test=0.967), total=   0.1s\n",
      "[CV] svm__C=0.01, svm__kernel=linear .................................\n"
     ]
    },
    {
     "name": "stderr",
     "output_type": "stream",
     "text": [
      "[Parallel(n_jobs=1)]: Done   2 out of   2 | elapsed:    0.2s remaining:    0.0s\n"
     ]
    },
    {
     "name": "stdout",
     "output_type": "stream",
     "text": [
      "[CV]  svm__C=0.01, svm__kernel=linear, accuracy=(train=0.896, test=0.880), f1=(train=0.911, test=0.900), precision=(train=0.952, test=0.918), recall=(train=0.874, test=0.882), roc_auc=(train=0.979, test=0.979), total=   0.1s\n",
      "[CV] svm__C=0.01, svm__kernel=linear .................................\n",
      "[CV]  svm__C=0.01, svm__kernel=linear, accuracy=(train=0.910, test=0.940), f1=(train=0.925, test=0.952), precision=(train=0.958, test=0.926), recall=(train=0.893, test=0.980), roc_auc=(train=0.977, test=0.988), total=   0.1s\n",
      "[CV] svm__C=1.0, svm__kernel=linear ..................................\n",
      "[CV]  svm__C=1.0, svm__kernel=linear, accuracy=(train=0.949, test=0.940), f1=(train=0.958, test=0.952), precision=(train=0.980, test=0.943), recall=(train=0.937, test=0.962), roc_auc=(train=0.980, test=0.984), total=   0.2s\n",
      "[CV] svm__C=1.0, svm__kernel=linear ..................................\n",
      "[CV]  svm__C=1.0, svm__kernel=linear, accuracy=(train=0.961, test=0.905), f1=(train=0.969, test=0.922), precision=(train=0.962, test=0.940), recall=(train=0.976, test=0.904), roc_auc=(train=0.989, test=0.953), total=   0.1s\n",
      "[CV] svm__C=1.0, svm__kernel=linear ..................................\n",
      "[CV]  svm__C=1.0, svm__kernel=linear, accuracy=(train=0.961, test=0.893), f1=(train=0.968, test=0.909), precision=(train=0.971, test=0.938), recall=(train=0.966, test=0.882), roc_auc=(train=0.986, test=0.942), total=   0.1s\n",
      "[CV] svm__C=1.0, svm__kernel=linear ..................................\n",
      "[CV]  svm__C=1.0, svm__kernel=linear, accuracy=(train=0.952, test=0.916), f1=(train=0.961, test=0.933), precision=(train=0.970, test=0.907), recall=(train=0.951, test=0.961), roc_auc=(train=0.983, test=0.985), total=   0.1s\n",
      "[CV] svm__C=1.0, svm__kernel=linear ..................................\n",
      "[CV]  svm__C=1.0, svm__kernel=linear, accuracy=(train=0.949, test=0.964), f1=(train=0.958, test=0.970), precision=(train=0.975, test=0.980), recall=(train=0.942, test=0.961), roc_auc=(train=0.975, test=0.986), total=   0.2s\n",
      "[CV] svm__C=10.0, svm__kernel=linear .................................\n",
      "[CV]  svm__C=10.0, svm__kernel=linear, accuracy=(train=0.952, test=0.929), f1=(train=0.960, test=0.942), precision=(train=0.985, test=0.942), recall=(train=0.937, test=0.942), roc_auc=(train=0.980, test=0.986), total=   0.2s\n",
      "[CV] svm__C=10.0, svm__kernel=linear .................................\n",
      "[CV]  svm__C=10.0, svm__kernel=linear, accuracy=(train=0.961, test=0.905), f1=(train=0.969, test=0.922), precision=(train=0.962, test=0.940), recall=(train=0.976, test=0.904), roc_auc=(train=0.990, test=0.965), total=   0.2s\n",
      "[CV] svm__C=10.0, svm__kernel=linear .................................\n",
      "[CV]  svm__C=10.0, svm__kernel=linear, accuracy=(train=0.967, test=0.893), f1=(train=0.973, test=0.909), precision=(train=0.976, test=0.938), recall=(train=0.971, test=0.882), roc_auc=(train=0.989, test=0.952), total=   0.2s\n",
      "[CV] svm__C=10.0, svm__kernel=linear .................................\n",
      "[CV]  svm__C=10.0, svm__kernel=linear, accuracy=(train=0.955, test=0.928), f1=(train=0.963, test=0.943), precision=(train=0.970, test=0.909), recall=(train=0.956, test=0.980), roc_auc=(train=0.982, test=0.979), total=   0.4s\n",
      "[CV] svm__C=10.0, svm__kernel=linear .................................\n",
      "[CV]  svm__C=10.0, svm__kernel=linear, accuracy=(train=0.949, test=0.964), f1=(train=0.958, test=0.970), precision=(train=0.975, test=0.980), recall=(train=0.942, test=0.961), roc_auc=(train=0.978, test=0.989), total=   0.1s\n",
      "[CV] svm__C=100.0, svm__kernel=linear ................................\n",
      "[CV]  svm__C=100.0, svm__kernel=linear, accuracy=(train=0.952, test=0.929), f1=(train=0.960, test=0.942), precision=(train=0.985, test=0.942), recall=(train=0.937, test=0.942), roc_auc=(train=0.980, test=0.986), total=   1.8s\n",
      "[CV] svm__C=100.0, svm__kernel=linear ................................\n",
      "[CV]  svm__C=100.0, svm__kernel=linear, accuracy=(train=0.961, test=0.905), f1=(train=0.969, test=0.922), precision=(train=0.962, test=0.940), recall=(train=0.976, test=0.904), roc_auc=(train=0.990, test=0.959), total=   0.8s\n",
      "[CV] svm__C=100.0, svm__kernel=linear ................................\n",
      "[CV]  svm__C=100.0, svm__kernel=linear, accuracy=(train=0.967, test=0.881), f1=(train=0.973, test=0.898), precision=(train=0.976, test=0.936), recall=(train=0.971, test=0.863), roc_auc=(train=0.987, test=0.948), total=   1.0s\n",
      "[CV] svm__C=100.0, svm__kernel=linear ................................\n",
      "[CV]  svm__C=100.0, svm__kernel=linear, accuracy=(train=0.958, test=0.928), f1=(train=0.966, test=0.943), precision=(train=0.971, test=0.909), recall=(train=0.961, test=0.980), roc_auc=(train=0.982, test=0.980), total=   1.0s\n",
      "[CV] svm__C=100.0, svm__kernel=linear ................................\n",
      "[CV]  svm__C=100.0, svm__kernel=linear, accuracy=(train=0.946, test=0.964), f1=(train=0.955, test=0.970), precision=(train=0.975, test=0.980), recall=(train=0.937, test=0.961), roc_auc=(train=0.978, test=0.990), total=   1.1s\n",
      "[CV] svm__C=1000.0, svm__kernel=linear ...............................\n",
      "[CV]  svm__C=1000.0, svm__kernel=linear, accuracy=(train=0.952, test=0.929), f1=(train=0.960, test=0.942), precision=(train=0.985, test=0.942), recall=(train=0.937, test=0.942), roc_auc=(train=0.980, test=0.986), total=  15.1s\n",
      "[CV] svm__C=1000.0, svm__kernel=linear ...............................\n",
      "[CV]  svm__C=1000.0, svm__kernel=linear, accuracy=(train=0.961, test=0.905), f1=(train=0.969, test=0.922), precision=(train=0.962, test=0.940), recall=(train=0.976, test=0.904), roc_auc=(train=0.990, test=0.959), total=  10.6s\n",
      "[CV] svm__C=1000.0, svm__kernel=linear ...............................\n",
      "[CV]  svm__C=1000.0, svm__kernel=linear, accuracy=(train=0.967, test=0.881), f1=(train=0.973, test=0.898), precision=(train=0.976, test=0.936), recall=(train=0.971, test=0.863), roc_auc=(train=0.987, test=0.948), total=   5.8s\n",
      "[CV] svm__C=1000.0, svm__kernel=linear ...............................\n",
      "[CV]  svm__C=1000.0, svm__kernel=linear, accuracy=(train=0.958, test=0.928), f1=(train=0.966, test=0.943), precision=(train=0.971, test=0.909), recall=(train=0.961, test=0.980), roc_auc=(train=0.982, test=0.980), total=  24.3s\n",
      "[CV] svm__C=1000.0, svm__kernel=linear ...............................\n",
      "[CV]  svm__C=1000.0, svm__kernel=linear, accuracy=(train=0.946, test=0.964), f1=(train=0.955, test=0.970), precision=(train=0.975, test=0.980), recall=(train=0.937, test=0.961), roc_auc=(train=0.978, test=0.990), total=  22.4s\n",
      "{'svm__C': 0.01, 'svm__kernel': 'linear'}\n"
     ]
    },
    {
     "name": "stderr",
     "output_type": "stream",
     "text": [
      "[Parallel(n_jobs=1)]: Done  25 out of  25 | elapsed:  1.5min finished\n"
     ]
    }
   ],
   "source": [
    "svc = SVC(probability=True)\n",
    "C = np.array([0.01, 1, 10, 100, 1000])\n",
    "\n",
    "pipe = Pipeline(steps=[('scale', StandardScaler()), ('svm', svc)])\n",
    "svm_lin = GridSearchCV(estimator=pipe, param_grid={'svm__C': C, 'svm__kernel': ['linear']},cv=skf,\n",
    "                       scoring=['accuracy','f1','precision','recall','roc_auc'], \n",
    "                       refit='roc_auc', verbose=3, return_train_score=True)\n",
    "svm_lin.fit(x_train, y_train)\n",
    "best_svm_lin = svm_lin.best_estimator_\n",
    "print(svm_lin.best_params_)"
   ]
  },
  {
   "cell_type": "code",
   "execution_count": 10,
   "metadata": {},
   "outputs": [
    {
     "name": "stdout",
     "output_type": "stream",
     "text": [
      "Fitting 5 folds for each of 20 candidates, totalling 100 fits\n",
      "[CV] svm__C=0.01, svm__gamma=auto, svm__kernel=rbf ...................\n"
     ]
    },
    {
     "name": "stderr",
     "output_type": "stream",
     "text": [
      "[Parallel(n_jobs=1)]: Using backend SequentialBackend with 1 concurrent workers.\n",
      "[Parallel(n_jobs=1)]: Done   1 out of   1 | elapsed:    0.1s remaining:    0.0s\n"
     ]
    },
    {
     "name": "stdout",
     "output_type": "stream",
     "text": [
      "[CV]  svm__C=0.01, svm__gamma=auto, svm__kernel=rbf, accuracy=(train=0.614, test=0.619), f1=(train=0.761, test=0.765), precision=(train=0.614, test=0.619), recall=(train=1.000, test=1.000), roc_auc=(train=0.973, test=0.972), total=   0.1s\n",
      "[CV] svm__C=0.01, svm__gamma=auto, svm__kernel=rbf ...................\n",
      "[CV]  svm__C=0.01, svm__gamma=auto, svm__kernel=rbf, accuracy=(train=0.614, test=0.619), f1=(train=0.761, test=0.765), precision=(train=0.614, test=0.619), recall=(train=1.000, test=1.000), roc_auc=(train=0.975, test=0.962), total=   0.1s"
     ]
    },
    {
     "name": "stderr",
     "output_type": "stream",
     "text": [
      "[Parallel(n_jobs=1)]: Done   2 out of   2 | elapsed:    0.2s remaining:    0.0s\n"
     ]
    },
    {
     "name": "stdout",
     "output_type": "stream",
     "text": [
      "\n",
      "[CV] svm__C=0.01, svm__gamma=auto, svm__kernel=rbf ...................\n",
      "[CV]  svm__C=0.01, svm__gamma=auto, svm__kernel=rbf, accuracy=(train=0.617, test=0.607), f1=(train=0.763, test=0.756), precision=(train=0.617, test=0.607), recall=(train=1.000, test=1.000), roc_auc=(train=0.977, test=0.936), total=   0.1s\n",
      "[CV] svm__C=0.01, svm__gamma=auto, svm__kernel=rbf ...................\n",
      "[CV]  svm__C=0.01, svm__gamma=auto, svm__kernel=rbf, accuracy=(train=0.615, test=0.614), f1=(train=0.762, test=0.761), precision=(train=0.615, test=0.614), recall=(train=1.000, test=1.000), roc_auc=(train=0.975, test=0.971), total=   0.1s\n",
      "[CV] svm__C=0.01, svm__gamma=auto, svm__kernel=rbf ...................\n",
      "[CV]  svm__C=0.01, svm__gamma=auto, svm__kernel=rbf, accuracy=(train=0.615, test=0.614), f1=(train=0.762, test=0.761), precision=(train=0.615, test=0.614), recall=(train=1.000, test=1.000), roc_auc=(train=0.970, test=0.990), total=   0.1s\n",
      "[CV] svm__C=0.01, svm__gamma=auto, svm__kernel=poly ..................\n",
      "[CV]  svm__C=0.01, svm__gamma=auto, svm__kernel=poly, accuracy=(train=0.614, test=0.619), f1=(train=0.761, test=0.765), precision=(train=0.614, test=0.619), recall=(train=1.000, test=1.000), roc_auc=(train=0.991, test=0.989), total=   0.0s\n",
      "[CV] svm__C=0.01, svm__gamma=auto, svm__kernel=poly ..................\n",
      "[CV]  svm__C=0.01, svm__gamma=auto, svm__kernel=poly, accuracy=(train=0.614, test=0.619), f1=(train=0.761, test=0.765), precision=(train=0.614, test=0.619), recall=(train=1.000, test=1.000), roc_auc=(train=0.989, test=0.971), total=   0.0s\n",
      "[CV] svm__C=0.01, svm__gamma=auto, svm__kernel=poly ..................\n",
      "[CV]  svm__C=0.01, svm__gamma=auto, svm__kernel=poly, accuracy=(train=0.617, test=0.607), f1=(train=0.763, test=0.756), precision=(train=0.617, test=0.607), recall=(train=1.000, test=1.000), roc_auc=(train=0.992, test=0.953), total=   0.1s\n",
      "[CV] svm__C=0.01, svm__gamma=auto, svm__kernel=poly ..................\n",
      "[CV]  svm__C=0.01, svm__gamma=auto, svm__kernel=poly, accuracy=(train=0.615, test=0.614), f1=(train=0.762, test=0.761), precision=(train=0.615, test=0.614), recall=(train=1.000, test=1.000), roc_auc=(train=0.988, test=0.984), total=   0.0s\n",
      "[CV] svm__C=0.01, svm__gamma=auto, svm__kernel=poly ..................\n",
      "[CV]  svm__C=0.01, svm__gamma=auto, svm__kernel=poly, accuracy=(train=0.615, test=0.614), f1=(train=0.762, test=0.761), precision=(train=0.615, test=0.614), recall=(train=1.000, test=1.000), roc_auc=(train=0.990, test=1.000), total=   0.0s\n",
      "[CV] svm__C=0.01, svm__gamma=scale, svm__kernel=rbf ..................\n",
      "[CV]  svm__C=0.01, svm__gamma=scale, svm__kernel=rbf, accuracy=(train=0.614, test=0.619), f1=(train=0.761, test=0.765), precision=(train=0.614, test=0.619), recall=(train=1.000, test=1.000), roc_auc=(train=0.973, test=0.972), total=   0.1s\n",
      "[CV] svm__C=0.01, svm__gamma=scale, svm__kernel=rbf ..................\n",
      "[CV]  svm__C=0.01, svm__gamma=scale, svm__kernel=rbf, accuracy=(train=0.614, test=0.619), f1=(train=0.761, test=0.765), precision=(train=0.614, test=0.619), recall=(train=1.000, test=1.000), roc_auc=(train=0.975, test=0.962), total=   0.1s\n",
      "[CV] svm__C=0.01, svm__gamma=scale, svm__kernel=rbf ..................\n",
      "[CV]  svm__C=0.01, svm__gamma=scale, svm__kernel=rbf, accuracy=(train=0.617, test=0.607), f1=(train=0.763, test=0.756), precision=(train=0.617, test=0.607), recall=(train=1.000, test=1.000), roc_auc=(train=0.977, test=0.936), total=   0.1s\n",
      "[CV] svm__C=0.01, svm__gamma=scale, svm__kernel=rbf ..................\n",
      "[CV]  svm__C=0.01, svm__gamma=scale, svm__kernel=rbf, accuracy=(train=0.615, test=0.614), f1=(train=0.762, test=0.761), precision=(train=0.615, test=0.614), recall=(train=1.000, test=1.000), roc_auc=(train=0.975, test=0.971), total=   0.1s\n",
      "[CV] svm__C=0.01, svm__gamma=scale, svm__kernel=rbf ..................\n",
      "[CV]  svm__C=0.01, svm__gamma=scale, svm__kernel=rbf, accuracy=(train=0.615, test=0.614), f1=(train=0.762, test=0.761), precision=(train=0.615, test=0.614), recall=(train=1.000, test=1.000), roc_auc=(train=0.970, test=0.990), total=   0.1s\n",
      "[CV] svm__C=0.01, svm__gamma=scale, svm__kernel=poly .................\n",
      "[CV]  svm__C=0.01, svm__gamma=scale, svm__kernel=poly, accuracy=(train=0.614, test=0.619), f1=(train=0.761, test=0.765), precision=(train=0.614, test=0.619), recall=(train=1.000, test=1.000), roc_auc=(train=0.991, test=0.989), total=   0.0s\n",
      "[CV] svm__C=0.01, svm__gamma=scale, svm__kernel=poly .................\n",
      "[CV]  svm__C=0.01, svm__gamma=scale, svm__kernel=poly, accuracy=(train=0.614, test=0.619), f1=(train=0.761, test=0.765), precision=(train=0.614, test=0.619), recall=(train=1.000, test=1.000), roc_auc=(train=0.989, test=0.971), total=   0.0s\n",
      "[CV] svm__C=0.01, svm__gamma=scale, svm__kernel=poly .................\n",
      "[CV]  svm__C=0.01, svm__gamma=scale, svm__kernel=poly, accuracy=(train=0.617, test=0.607), f1=(train=0.763, test=0.756), precision=(train=0.617, test=0.607), recall=(train=1.000, test=1.000), roc_auc=(train=0.992, test=0.953), total=   0.1s\n",
      "[CV] svm__C=0.01, svm__gamma=scale, svm__kernel=poly .................\n",
      "[CV]  svm__C=0.01, svm__gamma=scale, svm__kernel=poly, accuracy=(train=0.615, test=0.614), f1=(train=0.762, test=0.761), precision=(train=0.615, test=0.614), recall=(train=1.000, test=1.000), roc_auc=(train=0.988, test=0.984), total=   0.0s\n",
      "[CV] svm__C=0.01, svm__gamma=scale, svm__kernel=poly .................\n",
      "[CV]  svm__C=0.01, svm__gamma=scale, svm__kernel=poly, accuracy=(train=0.615, test=0.614), f1=(train=0.762, test=0.761), precision=(train=0.615, test=0.614), recall=(train=1.000, test=1.000), roc_auc=(train=0.990, test=1.000), total=   0.0s\n",
      "[CV] svm__C=1.0, svm__gamma=auto, svm__kernel=rbf ....................\n",
      "[CV]  svm__C=1.0, svm__gamma=auto, svm__kernel=rbf, accuracy=(train=0.991, test=0.976), f1=(train=0.993, test=0.981), precision=(train=0.990, test=0.981), recall=(train=0.995, test=0.981), roc_auc=(train=1.000, test=0.998), total=   0.1s\n",
      "[CV] svm__C=1.0, svm__gamma=auto, svm__kernel=rbf ....................\n",
      "[CV]  svm__C=1.0, svm__gamma=auto, svm__kernel=rbf, accuracy=(train=0.994, test=0.940), f1=(train=0.995, test=0.949), precision=(train=0.990, test=1.000), recall=(train=1.000, test=0.904), roc_auc=(train=0.999, test=0.986), total=   0.1s\n",
      "[CV] svm__C=1.0, svm__gamma=auto, svm__kernel=rbf ....................\n",
      "[CV]  svm__C=1.0, svm__gamma=auto, svm__kernel=rbf, accuracy=(train=0.991, test=0.905), f1=(train=0.993, test=0.920), precision=(train=0.990, test=0.939), recall=(train=0.995, test=0.902), roc_auc=(train=1.000, test=0.983), total=   0.1s\n",
      "[CV] svm__C=1.0, svm__gamma=auto, svm__kernel=rbf ....................\n",
      "[CV]  svm__C=1.0, svm__gamma=auto, svm__kernel=rbf, accuracy=(train=0.988, test=0.940), f1=(train=0.990, test=0.952), precision=(train=0.990, test=0.926), recall=(train=0.990, test=0.980), roc_auc=(train=0.999, test=0.989), total=   0.1s\n",
      "[CV] svm__C=1.0, svm__gamma=auto, svm__kernel=rbf ....................\n",
      "[CV]  svm__C=1.0, svm__gamma=auto, svm__kernel=rbf, accuracy=(train=0.985, test=0.976), f1=(train=0.988, test=0.980), precision=(train=0.981, test=0.980), recall=(train=0.995, test=0.980), roc_auc=(train=0.999, test=0.999), total=   0.0s\n",
      "[CV] svm__C=1.0, svm__gamma=auto, svm__kernel=poly ...................\n",
      "[CV]  svm__C=1.0, svm__gamma=auto, svm__kernel=poly, accuracy=(train=0.994, test=0.988), f1=(train=0.995, test=0.990), precision=(train=0.995, test=0.981), recall=(train=0.995, test=1.000), roc_auc=(train=1.000, test=0.999), total=   0.1s\n",
      "[CV] svm__C=1.0, svm__gamma=auto, svm__kernel=poly ...................\n",
      "[CV]  svm__C=1.0, svm__gamma=auto, svm__kernel=poly, accuracy=(train=0.994, test=0.964), f1=(train=0.995, test=0.970), precision=(train=0.990, test=1.000), recall=(train=1.000, test=0.942), roc_auc=(train=1.000, test=0.997), total=   0.0s\n",
      "[CV] svm__C=1.0, svm__gamma=auto, svm__kernel=poly ...................\n",
      "[CV]  svm__C=1.0, svm__gamma=auto, svm__kernel=poly, accuracy=(train=0.991, test=0.929), f1=(train=0.993, test=0.941), precision=(train=0.990, test=0.941), recall=(train=0.995, test=0.941), roc_auc=(train=1.000, test=0.977), total=   0.0s\n",
      "[CV] svm__C=1.0, svm__gamma=auto, svm__kernel=poly ...................\n",
      "[CV]  svm__C=1.0, svm__gamma=auto, svm__kernel=poly, accuracy=(train=0.994, test=0.964), f1=(train=0.995, test=0.971), precision=(train=0.995, test=0.962), recall=(train=0.995, test=0.980), roc_auc=(train=0.999, test=0.991), total=   0.0s\n",
      "[CV] svm__C=1.0, svm__gamma=auto, svm__kernel=poly ...................\n",
      "[CV]  svm__C=1.0, svm__gamma=auto, svm__kernel=poly, accuracy=(train=0.991, test=1.000), f1=(train=0.993, test=1.000), precision=(train=0.990, test=1.000), recall=(train=0.995, test=1.000), roc_auc=(train=0.999, test=1.000), total=   0.1s\n",
      "[CV] svm__C=1.0, svm__gamma=scale, svm__kernel=rbf ...................\n",
      "[CV]  svm__C=1.0, svm__gamma=scale, svm__kernel=rbf, accuracy=(train=0.991, test=0.976), f1=(train=0.993, test=0.981), precision=(train=0.990, test=0.981), recall=(train=0.995, test=0.981), roc_auc=(train=1.000, test=0.998), total=   0.0s\n",
      "[CV] svm__C=1.0, svm__gamma=scale, svm__kernel=rbf ...................\n",
      "[CV]  svm__C=1.0, svm__gamma=scale, svm__kernel=rbf, accuracy=(train=0.994, test=0.940), f1=(train=0.995, test=0.949), precision=(train=0.990, test=1.000), recall=(train=1.000, test=0.904), roc_auc=(train=0.999, test=0.986), total=   0.2s\n",
      "[CV] svm__C=1.0, svm__gamma=scale, svm__kernel=rbf ...................\n",
      "[CV]  svm__C=1.0, svm__gamma=scale, svm__kernel=rbf, accuracy=(train=0.991, test=0.905), f1=(train=0.993, test=0.920), precision=(train=0.990, test=0.939), recall=(train=0.995, test=0.902), roc_auc=(train=1.000, test=0.983), total=   0.1s\n",
      "[CV] svm__C=1.0, svm__gamma=scale, svm__kernel=rbf ...................\n",
      "[CV]  svm__C=1.0, svm__gamma=scale, svm__kernel=rbf, accuracy=(train=0.988, test=0.940), f1=(train=0.990, test=0.952), precision=(train=0.990, test=0.926), recall=(train=0.990, test=0.980), roc_auc=(train=0.999, test=0.989), total=   0.0s\n",
      "[CV] svm__C=1.0, svm__gamma=scale, svm__kernel=rbf ...................\n",
      "[CV]  svm__C=1.0, svm__gamma=scale, svm__kernel=rbf, accuracy=(train=0.985, test=0.976), f1=(train=0.988, test=0.980), precision=(train=0.981, test=0.980), recall=(train=0.995, test=0.980), roc_auc=(train=0.999, test=0.999), total=   0.1s\n",
      "[CV] svm__C=1.0, svm__gamma=scale, svm__kernel=poly ..................\n",
      "[CV]  svm__C=1.0, svm__gamma=scale, svm__kernel=poly, accuracy=(train=0.994, test=0.988), f1=(train=0.995, test=0.990), precision=(train=0.995, test=0.981), recall=(train=0.995, test=1.000), roc_auc=(train=1.000, test=0.999), total=   0.0s\n",
      "[CV] svm__C=1.0, svm__gamma=scale, svm__kernel=poly ..................\n",
      "[CV]  svm__C=1.0, svm__gamma=scale, svm__kernel=poly, accuracy=(train=0.994, test=0.964), f1=(train=0.995, test=0.970), precision=(train=0.990, test=1.000), recall=(train=1.000, test=0.942), roc_auc=(train=1.000, test=0.997), total=   0.0s\n",
      "[CV] svm__C=1.0, svm__gamma=scale, svm__kernel=poly ..................\n",
      "[CV]  svm__C=1.0, svm__gamma=scale, svm__kernel=poly, accuracy=(train=0.991, test=0.929), f1=(train=0.993, test=0.941), precision=(train=0.990, test=0.941), recall=(train=0.995, test=0.941), roc_auc=(train=1.000, test=0.977), total=   0.1s\n",
      "[CV] svm__C=1.0, svm__gamma=scale, svm__kernel=poly ..................\n",
      "[CV]  svm__C=1.0, svm__gamma=scale, svm__kernel=poly, accuracy=(train=0.994, test=0.964), f1=(train=0.995, test=0.971), precision=(train=0.995, test=0.962), recall=(train=0.995, test=0.980), roc_auc=(train=0.999, test=0.991), total=   0.0s\n",
      "[CV] svm__C=1.0, svm__gamma=scale, svm__kernel=poly ..................\n",
      "[CV]  svm__C=1.0, svm__gamma=scale, svm__kernel=poly, accuracy=(train=0.991, test=1.000), f1=(train=0.993, test=1.000), precision=(train=0.990, test=1.000), recall=(train=0.995, test=1.000), roc_auc=(train=0.999, test=1.000), total=   0.0s\n",
      "[CV] svm__C=10.0, svm__gamma=auto, svm__kernel=rbf ...................\n",
      "[CV]  svm__C=10.0, svm__gamma=auto, svm__kernel=rbf, accuracy=(train=0.997, test=0.976), f1=(train=0.998, test=0.981), precision=(train=0.995, test=0.981), recall=(train=1.000, test=0.981), roc_auc=(train=1.000, test=0.996), total=   0.0s\n",
      "[CV] svm__C=10.0, svm__gamma=auto, svm__kernel=rbf ...................\n",
      "[CV]  svm__C=10.0, svm__gamma=auto, svm__kernel=rbf, accuracy=(train=0.994, test=0.929), f1=(train=0.995, test=0.939), precision=(train=0.990, test=1.000), recall=(train=1.000, test=0.885), roc_auc=(train=1.000, test=0.987), total=   0.1s\n",
      "[CV] svm__C=10.0, svm__gamma=auto, svm__kernel=rbf ...................\n",
      "[CV]  svm__C=10.0, svm__gamma=auto, svm__kernel=rbf, accuracy=(train=0.994, test=0.917), f1=(train=0.995, test=0.931), precision=(train=0.990, test=0.940), recall=(train=1.000, test=0.922), roc_auc=(train=1.000, test=0.977), total=   0.1s\n",
      "[CV] svm__C=10.0, svm__gamma=auto, svm__kernel=rbf ...................\n",
      "[CV]  svm__C=10.0, svm__gamma=auto, svm__kernel=rbf, accuracy=(train=0.997, test=0.940), f1=(train=0.998, test=0.952), precision=(train=0.995, test=0.926), recall=(train=1.000, test=0.980), roc_auc=(train=1.000, test=0.993), total=   0.1s\n",
      "[CV] svm__C=10.0, svm__gamma=auto, svm__kernel=rbf ...................\n",
      "[CV]  svm__C=10.0, svm__gamma=auto, svm__kernel=rbf, accuracy=(train=0.994, test=0.988), f1=(train=0.995, test=0.990), precision=(train=0.990, test=1.000), recall=(train=1.000, test=0.980), roc_auc=(train=1.000, test=1.000), total=   0.0s\n",
      "[CV] svm__C=10.0, svm__gamma=auto, svm__kernel=poly ..................\n",
      "[CV]  svm__C=10.0, svm__gamma=auto, svm__kernel=poly, accuracy=(train=0.997, test=0.976), f1=(train=0.998, test=0.981), precision=(train=0.995, test=0.981), recall=(train=1.000, test=0.981), roc_auc=(train=1.000, test=0.999), total=   0.1s\n",
      "[CV] svm__C=10.0, svm__gamma=auto, svm__kernel=poly ..................\n",
      "[CV]  svm__C=10.0, svm__gamma=auto, svm__kernel=poly, accuracy=(train=0.994, test=0.964), f1=(train=0.995, test=0.970), precision=(train=0.990, test=1.000), recall=(train=1.000, test=0.942), roc_auc=(train=1.000, test=0.998), total=   0.0s\n",
      "[CV] svm__C=10.0, svm__gamma=auto, svm__kernel=poly ..................\n",
      "[CV]  svm__C=10.0, svm__gamma=auto, svm__kernel=poly, accuracy=(train=0.994, test=0.940), f1=(train=0.995, test=0.951), precision=(train=0.990, test=0.942), recall=(train=1.000, test=0.961), roc_auc=(train=1.000, test=0.971), total=   0.0s\n",
      "[CV] svm__C=10.0, svm__gamma=auto, svm__kernel=poly ..................\n",
      "[CV]  svm__C=10.0, svm__gamma=auto, svm__kernel=poly, accuracy=(train=0.997, test=0.964), f1=(train=0.998, test=0.971), precision=(train=0.995, test=0.962), recall=(train=1.000, test=0.980), roc_auc=(train=1.000, test=0.989), total=   0.0s\n",
      "[CV] svm__C=10.0, svm__gamma=auto, svm__kernel=poly ..................\n",
      "[CV]  svm__C=10.0, svm__gamma=auto, svm__kernel=poly, accuracy=(train=0.994, test=0.988), f1=(train=0.995, test=0.990), precision=(train=0.990, test=1.000), recall=(train=1.000, test=0.980), roc_auc=(train=1.000, test=1.000), total=   0.0s\n",
      "[CV] svm__C=10.0, svm__gamma=scale, svm__kernel=rbf ..................\n",
      "[CV]  svm__C=10.0, svm__gamma=scale, svm__kernel=rbf, accuracy=(train=0.997, test=0.976), f1=(train=0.998, test=0.981), precision=(train=0.995, test=0.981), recall=(train=1.000, test=0.981), roc_auc=(train=1.000, test=0.996), total=   0.0s\n",
      "[CV] svm__C=10.0, svm__gamma=scale, svm__kernel=rbf ..................\n",
      "[CV]  svm__C=10.0, svm__gamma=scale, svm__kernel=rbf, accuracy=(train=0.994, test=0.929), f1=(train=0.995, test=0.939), precision=(train=0.990, test=1.000), recall=(train=1.000, test=0.885), roc_auc=(train=1.000, test=0.987), total=   0.1s\n",
      "[CV] svm__C=10.0, svm__gamma=scale, svm__kernel=rbf ..................\n",
      "[CV]  svm__C=10.0, svm__gamma=scale, svm__kernel=rbf, accuracy=(train=0.994, test=0.917), f1=(train=0.995, test=0.931), precision=(train=0.990, test=0.940), recall=(train=1.000, test=0.922), roc_auc=(train=1.000, test=0.977), total=   0.0s\n",
      "[CV] svm__C=10.0, svm__gamma=scale, svm__kernel=rbf ..................\n",
      "[CV]  svm__C=10.0, svm__gamma=scale, svm__kernel=rbf, accuracy=(train=0.997, test=0.940), f1=(train=0.998, test=0.952), precision=(train=0.995, test=0.926), recall=(train=1.000, test=0.980), roc_auc=(train=1.000, test=0.993), total=   0.0s\n",
      "[CV] svm__C=10.0, svm__gamma=scale, svm__kernel=rbf ..................\n",
      "[CV]  svm__C=10.0, svm__gamma=scale, svm__kernel=rbf, accuracy=(train=0.994, test=0.988), f1=(train=0.995, test=0.990), precision=(train=0.990, test=1.000), recall=(train=1.000, test=0.980), roc_auc=(train=1.000, test=1.000), total=   0.1s\n",
      "[CV] svm__C=10.0, svm__gamma=scale, svm__kernel=poly .................\n",
      "[CV]  svm__C=10.0, svm__gamma=scale, svm__kernel=poly, accuracy=(train=0.997, test=0.976), f1=(train=0.998, test=0.981), precision=(train=0.995, test=0.981), recall=(train=1.000, test=0.981), roc_auc=(train=1.000, test=0.999), total=   0.1s\n",
      "[CV] svm__C=10.0, svm__gamma=scale, svm__kernel=poly .................\n",
      "[CV]  svm__C=10.0, svm__gamma=scale, svm__kernel=poly, accuracy=(train=0.994, test=0.964), f1=(train=0.995, test=0.970), precision=(train=0.990, test=1.000), recall=(train=1.000, test=0.942), roc_auc=(train=1.000, test=0.998), total=   0.0s\n",
      "[CV] svm__C=10.0, svm__gamma=scale, svm__kernel=poly .................\n",
      "[CV]  svm__C=10.0, svm__gamma=scale, svm__kernel=poly, accuracy=(train=0.994, test=0.940), f1=(train=0.995, test=0.951), precision=(train=0.990, test=0.942), recall=(train=1.000, test=0.961), roc_auc=(train=1.000, test=0.971), total=   0.0s\n",
      "[CV] svm__C=10.0, svm__gamma=scale, svm__kernel=poly .................\n",
      "[CV]  svm__C=10.0, svm__gamma=scale, svm__kernel=poly, accuracy=(train=0.997, test=0.964), f1=(train=0.998, test=0.971), precision=(train=0.995, test=0.962), recall=(train=1.000, test=0.980), roc_auc=(train=1.000, test=0.989), total=   0.0s\n",
      "[CV] svm__C=10.0, svm__gamma=scale, svm__kernel=poly .................\n",
      "[CV]  svm__C=10.0, svm__gamma=scale, svm__kernel=poly, accuracy=(train=0.994, test=0.988), f1=(train=0.995, test=0.990), precision=(train=0.990, test=1.000), recall=(train=1.000, test=0.980), roc_auc=(train=1.000, test=1.000), total=   0.0s\n",
      "[CV] svm__C=100.0, svm__gamma=auto, svm__kernel=rbf ..................\n",
      "[CV]  svm__C=100.0, svm__gamma=auto, svm__kernel=rbf, accuracy=(train=0.997, test=0.976), f1=(train=0.998, test=0.981), precision=(train=0.995, test=0.981), recall=(train=1.000, test=0.981), roc_auc=(train=1.000, test=0.998), total=   0.0s\n",
      "[CV] svm__C=100.0, svm__gamma=auto, svm__kernel=rbf ..................\n",
      "[CV]  svm__C=100.0, svm__gamma=auto, svm__kernel=rbf, accuracy=(train=0.994, test=0.917), f1=(train=0.995, test=0.928), precision=(train=0.990, test=1.000), recall=(train=1.000, test=0.865), roc_auc=(train=1.000, test=0.983), total=   0.0s\n",
      "[CV] svm__C=100.0, svm__gamma=auto, svm__kernel=rbf ..................\n",
      "[CV]  svm__C=100.0, svm__gamma=auto, svm__kernel=rbf, accuracy=(train=0.994, test=0.917), f1=(train=0.995, test=0.931), precision=(train=0.990, test=0.940), recall=(train=1.000, test=0.922), roc_auc=(train=1.000, test=0.969), total=   0.1s\n",
      "[CV] svm__C=100.0, svm__gamma=auto, svm__kernel=rbf ..................\n",
      "[CV]  svm__C=100.0, svm__gamma=auto, svm__kernel=rbf, accuracy=(train=0.997, test=0.940), f1=(train=0.998, test=0.952), precision=(train=0.995, test=0.926), recall=(train=1.000, test=0.980), roc_auc=(train=1.000, test=0.996), total=   0.1s\n",
      "[CV] svm__C=100.0, svm__gamma=auto, svm__kernel=rbf ..................\n",
      "[CV]  svm__C=100.0, svm__gamma=auto, svm__kernel=rbf, accuracy=(train=0.994, test=0.988), f1=(train=0.995, test=0.990), precision=(train=0.990, test=1.000), recall=(train=1.000, test=0.980), roc_auc=(train=1.000, test=0.999), total=   0.1s\n",
      "[CV] svm__C=100.0, svm__gamma=auto, svm__kernel=poly .................\n",
      "[CV]  svm__C=100.0, svm__gamma=auto, svm__kernel=poly, accuracy=(train=0.997, test=0.976), f1=(train=0.998, test=0.981), precision=(train=0.995, test=0.981), recall=(train=1.000, test=0.981), roc_auc=(train=1.000, test=0.999), total=   0.0s\n",
      "[CV] svm__C=100.0, svm__gamma=auto, svm__kernel=poly .................\n",
      "[CV]  svm__C=100.0, svm__gamma=auto, svm__kernel=poly, accuracy=(train=0.994, test=0.929), f1=(train=0.995, test=0.939), precision=(train=0.990, test=1.000), recall=(train=1.000, test=0.885), roc_auc=(train=1.000, test=0.992), total=   0.0s\n",
      "[CV] svm__C=100.0, svm__gamma=auto, svm__kernel=poly .................\n",
      "[CV]  svm__C=100.0, svm__gamma=auto, svm__kernel=poly, accuracy=(train=0.994, test=0.905), f1=(train=0.995, test=0.922), precision=(train=1.000, test=0.922), recall=(train=0.990, test=0.922), roc_auc=(train=1.000, test=0.971), total=   0.0s\n",
      "[CV] svm__C=100.0, svm__gamma=auto, svm__kernel=poly .................\n",
      "[CV]  svm__C=100.0, svm__gamma=auto, svm__kernel=poly, accuracy=(train=0.997, test=0.940), f1=(train=0.998, test=0.952), precision=(train=0.995, test=0.926), recall=(train=1.000, test=0.980), roc_auc=(train=1.000, test=0.994), total=   0.1s\n",
      "[CV] svm__C=100.0, svm__gamma=auto, svm__kernel=poly .................\n",
      "[CV]  svm__C=100.0, svm__gamma=auto, svm__kernel=poly, accuracy=(train=0.994, test=0.964), f1=(train=0.995, test=0.970), precision=(train=0.990, test=1.000), recall=(train=1.000, test=0.941), roc_auc=(train=1.000, test=0.998), total=   0.0s\n",
      "[CV] svm__C=100.0, svm__gamma=scale, svm__kernel=rbf .................\n",
      "[CV]  svm__C=100.0, svm__gamma=scale, svm__kernel=rbf, accuracy=(train=0.997, test=0.976), f1=(train=0.998, test=0.981), precision=(train=0.995, test=0.981), recall=(train=1.000, test=0.981), roc_auc=(train=1.000, test=0.998), total=   0.0s\n",
      "[CV] svm__C=100.0, svm__gamma=scale, svm__kernel=rbf .................\n",
      "[CV]  svm__C=100.0, svm__gamma=scale, svm__kernel=rbf, accuracy=(train=0.994, test=0.917), f1=(train=0.995, test=0.928), precision=(train=0.990, test=1.000), recall=(train=1.000, test=0.865), roc_auc=(train=1.000, test=0.983), total=   0.0s\n",
      "[CV] svm__C=100.0, svm__gamma=scale, svm__kernel=rbf .................\n",
      "[CV]  svm__C=100.0, svm__gamma=scale, svm__kernel=rbf, accuracy=(train=0.994, test=0.917), f1=(train=0.995, test=0.931), precision=(train=0.990, test=0.940), recall=(train=1.000, test=0.922), roc_auc=(train=1.000, test=0.969), total=   0.1s\n",
      "[CV] svm__C=100.0, svm__gamma=scale, svm__kernel=rbf .................\n",
      "[CV]  svm__C=100.0, svm__gamma=scale, svm__kernel=rbf, accuracy=(train=0.997, test=0.940), f1=(train=0.998, test=0.952), precision=(train=0.995, test=0.926), recall=(train=1.000, test=0.980), roc_auc=(train=1.000, test=0.996), total=   0.1s\n",
      "[CV] svm__C=100.0, svm__gamma=scale, svm__kernel=rbf .................\n",
      "[CV]  svm__C=100.0, svm__gamma=scale, svm__kernel=rbf, accuracy=(train=0.994, test=0.988), f1=(train=0.995, test=0.990), precision=(train=0.990, test=1.000), recall=(train=1.000, test=0.980), roc_auc=(train=1.000, test=0.999), total=   0.0s\n",
      "[CV] svm__C=100.0, svm__gamma=scale, svm__kernel=poly ................\n",
      "[CV]  svm__C=100.0, svm__gamma=scale, svm__kernel=poly, accuracy=(train=0.997, test=0.976), f1=(train=0.998, test=0.981), precision=(train=0.995, test=0.981), recall=(train=1.000, test=0.981), roc_auc=(train=1.000, test=0.999), total=   0.1s\n",
      "[CV] svm__C=100.0, svm__gamma=scale, svm__kernel=poly ................\n",
      "[CV]  svm__C=100.0, svm__gamma=scale, svm__kernel=poly, accuracy=(train=0.994, test=0.929), f1=(train=0.995, test=0.939), precision=(train=0.990, test=1.000), recall=(train=1.000, test=0.885), roc_auc=(train=1.000, test=0.992), total=   0.0s\n",
      "[CV] svm__C=100.0, svm__gamma=scale, svm__kernel=poly ................\n",
      "[CV]  svm__C=100.0, svm__gamma=scale, svm__kernel=poly, accuracy=(train=0.994, test=0.905), f1=(train=0.995, test=0.922), precision=(train=1.000, test=0.922), recall=(train=0.990, test=0.922), roc_auc=(train=1.000, test=0.971), total=   0.0s\n",
      "[CV] svm__C=100.0, svm__gamma=scale, svm__kernel=poly ................\n",
      "[CV]  svm__C=100.0, svm__gamma=scale, svm__kernel=poly, accuracy=(train=0.997, test=0.940), f1=(train=0.998, test=0.952), precision=(train=0.995, test=0.926), recall=(train=1.000, test=0.980), roc_auc=(train=1.000, test=0.994), total=   0.0s\n",
      "[CV] svm__C=100.0, svm__gamma=scale, svm__kernel=poly ................\n",
      "[CV]  svm__C=100.0, svm__gamma=scale, svm__kernel=poly, accuracy=(train=0.994, test=0.964), f1=(train=0.995, test=0.970), precision=(train=0.990, test=1.000), recall=(train=1.000, test=0.941), roc_auc=(train=1.000, test=0.998), total=   0.0s\n",
      "[CV] svm__C=1000.0, svm__gamma=auto, svm__kernel=rbf .................\n",
      "[CV]  svm__C=1000.0, svm__gamma=auto, svm__kernel=rbf, accuracy=(train=1.000, test=0.988), f1=(train=1.000, test=0.990), precision=(train=1.000, test=1.000), recall=(train=1.000, test=0.981), roc_auc=(train=1.000, test=0.996), total=   0.1s\n",
      "[CV] svm__C=1000.0, svm__gamma=auto, svm__kernel=rbf .................\n",
      "[CV]  svm__C=1000.0, svm__gamma=auto, svm__kernel=rbf, accuracy=(train=1.000, test=0.869), f1=(train=1.000, test=0.889), precision=(train=1.000, test=0.936), recall=(train=1.000, test=0.846), roc_auc=(train=1.000, test=0.907), total=   0.0s\n",
      "[CV] svm__C=1000.0, svm__gamma=auto, svm__kernel=rbf .................\n",
      "[CV]  svm__C=1000.0, svm__gamma=auto, svm__kernel=rbf, accuracy=(train=1.000, test=0.917), f1=(train=1.000, test=0.929), precision=(train=1.000, test=0.958), recall=(train=1.000, test=0.902), roc_auc=(train=1.000, test=0.933), total=   0.0s\n",
      "[CV] svm__C=1000.0, svm__gamma=auto, svm__kernel=rbf .................\n",
      "[CV]  svm__C=1000.0, svm__gamma=auto, svm__kernel=rbf, accuracy=(train=1.000, test=0.928), f1=(train=1.000, test=0.942), precision=(train=1.000, test=0.925), recall=(train=1.000, test=0.961), roc_auc=(train=1.000, test=0.988), total=   0.0s\n",
      "[CV] svm__C=1000.0, svm__gamma=auto, svm__kernel=rbf .................\n",
      "[CV]  svm__C=1000.0, svm__gamma=auto, svm__kernel=rbf, accuracy=(train=1.000, test=0.964), f1=(train=1.000, test=0.971), precision=(train=1.000, test=0.962), recall=(train=1.000, test=0.980), roc_auc=(train=1.000, test=0.985), total=   0.0s\n",
      "[CV] svm__C=1000.0, svm__gamma=auto, svm__kernel=poly ................\n",
      "[CV]  svm__C=1000.0, svm__gamma=auto, svm__kernel=poly, accuracy=(train=1.000, test=0.988), f1=(train=1.000, test=0.990), precision=(train=1.000, test=0.981), recall=(train=1.000, test=1.000), roc_auc=(train=1.000, test=1.000), total=   0.0s\n",
      "[CV] svm__C=1000.0, svm__gamma=auto, svm__kernel=poly ................\n",
      "[CV]  svm__C=1000.0, svm__gamma=auto, svm__kernel=poly, accuracy=(train=1.000, test=0.893), f1=(train=1.000, test=0.911), precision=(train=1.000, test=0.939), recall=(train=1.000, test=0.885), roc_auc=(train=1.000, test=0.921), total=   0.0s\n",
      "[CV] svm__C=1000.0, svm__gamma=auto, svm__kernel=poly ................\n",
      "[CV]  svm__C=1000.0, svm__gamma=auto, svm__kernel=poly, accuracy=(train=1.000, test=0.917), f1=(train=1.000, test=0.932), precision=(train=1.000, test=0.923), recall=(train=1.000, test=0.941), roc_auc=(train=1.000, test=0.957), total=   0.0s\n",
      "[CV] svm__C=1000.0, svm__gamma=auto, svm__kernel=poly ................\n",
      "[CV]  svm__C=1000.0, svm__gamma=auto, svm__kernel=poly, accuracy=(train=1.000, test=0.940), f1=(train=1.000, test=0.951), precision=(train=1.000, test=0.942), recall=(train=1.000, test=0.961), roc_auc=(train=1.000, test=0.917), total=   0.1s\n",
      "[CV] svm__C=1000.0, svm__gamma=auto, svm__kernel=poly ................\n",
      "[CV]  svm__C=1000.0, svm__gamma=auto, svm__kernel=poly, accuracy=(train=1.000, test=0.940), f1=(train=1.000, test=0.949), precision=(train=1.000, test=0.979), recall=(train=1.000, test=0.922), roc_auc=(train=1.000, test=0.950), total=   0.1s\n",
      "[CV] svm__C=1000.0, svm__gamma=scale, svm__kernel=rbf ................\n",
      "[CV]  svm__C=1000.0, svm__gamma=scale, svm__kernel=rbf, accuracy=(train=1.000, test=0.988), f1=(train=1.000, test=0.990), precision=(train=1.000, test=1.000), recall=(train=1.000, test=0.981), roc_auc=(train=1.000, test=0.996), total=   0.1s\n",
      "[CV] svm__C=1000.0, svm__gamma=scale, svm__kernel=rbf ................\n",
      "[CV]  svm__C=1000.0, svm__gamma=scale, svm__kernel=rbf, accuracy=(train=1.000, test=0.869), f1=(train=1.000, test=0.889), precision=(train=1.000, test=0.936), recall=(train=1.000, test=0.846), roc_auc=(train=1.000, test=0.907), total=   0.0s\n",
      "[CV] svm__C=1000.0, svm__gamma=scale, svm__kernel=rbf ................\n",
      "[CV]  svm__C=1000.0, svm__gamma=scale, svm__kernel=rbf, accuracy=(train=1.000, test=0.917), f1=(train=1.000, test=0.929), precision=(train=1.000, test=0.958), recall=(train=1.000, test=0.902), roc_auc=(train=1.000, test=0.933), total=   0.1s\n",
      "[CV] svm__C=1000.0, svm__gamma=scale, svm__kernel=rbf ................\n",
      "[CV]  svm__C=1000.0, svm__gamma=scale, svm__kernel=rbf, accuracy=(train=1.000, test=0.928), f1=(train=1.000, test=0.942), precision=(train=1.000, test=0.925), recall=(train=1.000, test=0.961), roc_auc=(train=1.000, test=0.988), total=   0.0s\n",
      "[CV] svm__C=1000.0, svm__gamma=scale, svm__kernel=rbf ................\n",
      "[CV]  svm__C=1000.0, svm__gamma=scale, svm__kernel=rbf, accuracy=(train=1.000, test=0.964), f1=(train=1.000, test=0.971), precision=(train=1.000, test=0.962), recall=(train=1.000, test=0.980), roc_auc=(train=1.000, test=0.985), total=   0.0s\n",
      "[CV] svm__C=1000.0, svm__gamma=scale, svm__kernel=poly ...............\n",
      "[CV]  svm__C=1000.0, svm__gamma=scale, svm__kernel=poly, accuracy=(train=1.000, test=0.988), f1=(train=1.000, test=0.990), precision=(train=1.000, test=0.981), recall=(train=1.000, test=1.000), roc_auc=(train=1.000, test=1.000), total=   0.1s\n",
      "[CV] svm__C=1000.0, svm__gamma=scale, svm__kernel=poly ...............\n",
      "[CV]  svm__C=1000.0, svm__gamma=scale, svm__kernel=poly, accuracy=(train=1.000, test=0.893), f1=(train=1.000, test=0.911), precision=(train=1.000, test=0.939), recall=(train=1.000, test=0.885), roc_auc=(train=1.000, test=0.921), total=   0.0s\n",
      "[CV] svm__C=1000.0, svm__gamma=scale, svm__kernel=poly ...............\n",
      "[CV]  svm__C=1000.0, svm__gamma=scale, svm__kernel=poly, accuracy=(train=1.000, test=0.917), f1=(train=1.000, test=0.932), precision=(train=1.000, test=0.923), recall=(train=1.000, test=0.941), roc_auc=(train=1.000, test=0.957), total=   0.0s\n",
      "[CV] svm__C=1000.0, svm__gamma=scale, svm__kernel=poly ...............\n",
      "[CV]  svm__C=1000.0, svm__gamma=scale, svm__kernel=poly, accuracy=(train=1.000, test=0.940), f1=(train=1.000, test=0.951), precision=(train=1.000, test=0.942), recall=(train=1.000, test=0.961), roc_auc=(train=1.000, test=0.917), total=   0.0s\n",
      "[CV] svm__C=1000.0, svm__gamma=scale, svm__kernel=poly ...............\n",
      "[CV]  svm__C=1000.0, svm__gamma=scale, svm__kernel=poly, accuracy=(train=1.000, test=0.940), f1=(train=1.000, test=0.949), precision=(train=1.000, test=0.979), recall=(train=1.000, test=0.922), roc_auc=(train=1.000, test=0.950), total=   0.1s\n",
      "{'svm__C': 1.0, 'svm__gamma': 'auto', 'svm__kernel': 'poly'}\n"
     ]
    },
    {
     "name": "stderr",
     "output_type": "stream",
     "text": [
      "[Parallel(n_jobs=1)]: Done 100 out of 100 | elapsed:    8.8s finished\n"
     ]
    },
    {
     "data": {
      "text/plain": [
       "{'svm__C': 1.0, 'svm__gamma': 'auto', 'svm__kernel': 'poly'}"
      ]
     },
     "execution_count": 10,
     "metadata": {},
     "output_type": "execute_result"
    }
   ],
   "source": [
    "svc = SVC(probability=True)\n",
    "C = np.array([0.01, 1, 10, 100, 1000])\n",
    "\n",
    "pipe = Pipeline(steps=[('scale', StandardScaler()), ('svm', svc)])\n",
    "svm_nonlin = GridSearchCV(estimator=pipe, param_grid={'svm__C': C, 'svm__kernel': ['rbf', 'poly'],\n",
    "                                                      'svm__gamma': ['auto', 'scale']},\n",
    "                       scoring=['accuracy','f1','precision','recall','roc_auc'], cv=skf,\n",
    "                       refit='roc_auc', verbose=3, return_train_score=True)\n",
    "svm_nonlin.fit(x_train, y_train)\n",
    "best_svm_nonlin = svm_nonlin.best_estimator_\n",
    "print(svm_nonlin.best_params_)\n",
    "svm_nonlin.best_params_"
   ]
  },
  {
   "cell_type": "code",
   "execution_count": 11,
   "metadata": {},
   "outputs": [],
   "source": [
    "calc_TN = lambda y_true, y_pred: confusion_matrix(y_true, y_pred)[0, 0]\n",
    "calc_FP = lambda y_true, y_pred: confusion_matrix(y_true, y_pred)[0, 1]\n",
    "calc_FN = lambda y_true, y_pred: confusion_matrix(y_true, y_pred)[1, 0]\n",
    "calc_TP = lambda y_true, y_pred: confusion_matrix(y_true, y_pred)[1, 1]"
   ]
  },
  {
   "cell_type": "code",
   "execution_count": 12,
   "metadata": {},
   "outputs": [
    {
     "name": "stdout",
     "output_type": "stream",
     "text": [
      "Logistic regression:\n",
      "AUROC is 0.946\n",
      "F1 is 0.91\n",
      "Loss is 3.95\n",
      "Accuracy is 0.89\n"
     ]
    },
    {
     "data": {
      "image/png": "[encoded data removed]",
      "text/plain": [
       "<Figure size 432x288 with 2 Axes>"
      ]
     },
     "metadata": {
      "needs_background": "light"
     },
     "output_type": "display_data"
    }
   ],
   "source": [
    "#Logistic regression\n",
    "x_tr = scaler.fit_transform(x_train)\n",
    "x_tst = scaler.transform(x_test)\n",
    "log_reg.fit(x_tr, y_train)\n",
    "y_pred_test_lr = log_reg.predict(x_tst)\n",
    "y_pred_proba_test_lr = log_reg.predict_proba(x_tst)\n",
    "loss = log_loss(y_test, y_pred_test_lr)\n",
    "\n",
    "TN = calc_TN(y_test, y_pred_test_lr)\n",
    "TP = calc_TP(y_test, y_pred_test_lr)\n",
    "FN = calc_FN(y_test, y_pred_test_lr)\n",
    "FP = calc_FP(y_test, y_pred_test_lr)\n",
    "PPV = TP/(TP+FP)\n",
    "Se = TP/(TP+FN)\n",
    "Acc = (TP+TN)/(TP+TN+FP+FN)\n",
    "F1 = (2*PPV*Se)/(PPV+Se)\n",
    "print('Logistic regression:')\n",
    "print('AUROC is {:.3f}'.format(roc_auc_score(y_test, y_pred_proba_test_lr[:,1])))\n",
    "print(f'F1 is {F1:.2f}')\n",
    "print(f'Loss is {loss:.2f}')\n",
    "print(f'Accuracy is {Acc:.2f}')\n",
    "plot_confusion_matrix(log_reg, x_tst, y_test, cmap=plt.cm.Blues)\n",
    "plt.grid(False)"
   ]
  },
  {
   "cell_type": "code",
   "execution_count": null,
   "metadata": {},
   "outputs": [],
   "source": [
    "#linear SVM:\n",
    "y_pred_test_svm_lin = best_svm_lin.predict(x_test)\n",
    "y_pred_proba_test_svm_lin = best_svm_lin.predict_proba(x_test)\n",
    "loss = log_loss(y_test, y_pred_proba_test_svm_lin)\n",
    "\n",
    "TN = calc_TN(y_test, y_pred_test_svm_lin)\n",
    "TP = calc_TP(y_test, y_pred_test_svm_lin)\n",
    "FN = calc_FN(y_test, y_pred_test_svm_lin)\n",
    "FP = calc_FP(y_test, y_pred_test_svm_lin)\n",
    "PPV = TP/(TP+FP)\n",
    "Se = TP/(TP+FN)\n",
    "Acc = (TP+TN)/(TP+TN+FP+FN)\n",
    "F1 = (2*PPV*Se)/(PPV+Se)\n",
    "print('Linear SVM:')\n",
    "print('AUROC is {:.3f}'.format(roc_auc_score(y_test, y_pred_proba_test_svm_lin[:,1])))\n",
    "print(f'F1 is {F1:.2f}')\n",
    "print(f'Loss is {loss:.2f}')\n",
    "print(f'Accuracy is {Acc:.2f}')\n",
    "plot_confusion_matrix(svm_lin, x_test, y_test, cmap=plt.cm.Blues)\n",
    "plt.grid(False)"
   ]
  },
  {
   "cell_type": "code",
   "execution_count": null,
   "metadata": {},
   "outputs": [],
   "source": [
    "#Non-linear SVM\n",
    "y_pred_test_svm_nonlin = best_svm_nonlin.predict(x_test)\n",
    "y_pred_proba_test_svm_nonlin = best_svm_nonlin.predict_proba(x_test)\n",
    "loss = log_loss(y_test, y_pred_proba_test_svm_nonlin)\n",
    "svm_params = svm_nonlin.best_params_\n",
    "chosen_kernel = svm_params['svm__kernel']\n",
    "\n",
    "TN = calc_TN(y_test, y_pred_test_svm_nonlin)\n",
    "TP = calc_TP(y_test, y_pred_test_svm_nonlin)\n",
    "FN = calc_FN(y_test, y_pred_test_svm_nonlin)\n",
    "FP = calc_FP(y_test, y_pred_test_svm_nonlin)\n",
    "PPV = TP/(TP+FP)\n",
    "Se = TP/(TP+FN)\n",
    "Acc = (TP+TN)/(TP+TN+FP+FN)\n",
    "F1 = (2*PPV*Se)/(PPV+Se)\n",
    "print(f'Non-linear SVM - {chosen_kernel}:')\n",
    "print('AUROC is {:.3f}'.format(roc_auc_score(y_test, y_pred_proba_test_svm_nonlin[:,1])))\n",
    "print(f'F1 is {F1:.2f}')\n",
    "print(f'Loss is {loss:.2f}')\n",
    "print(f'Accuracy is {Acc:.2f}')\n",
    "plot_confusion_matrix(svm_nonlin, x_test, y_test, cmap=plt.cm.Blues)\n",
    "plt.grid(False)"
   ]
  },
  {
   "cell_type": "markdown",
   "metadata": {},
   "source": [
    "#### Section c- \n",
    "Non-linear model performs best on this dataset."
   ]
  },
  {
   "cell_type": "markdown",
   "metadata": {},
   "source": [
    "#### 6. Feature Selection:"
   ]
  },
  {
   "cell_type": "code",
   "execution_count": 36,
   "metadata": {},
   "outputs": [
    {
     "data": {
      "image/png": "[encoded data removed]",
      "text/plain": [
       "<Figure size 432x288 with 1 Axes>"
      ]
     },
     "metadata": {
      "needs_background": "light"
     },
     "output_type": "display_data"
    }
   ],
   "source": [
    "rfc = Pipeline(steps=[('scale', StandardScaler()), ('rfc', RandomForestClassifier(max_depth=4, random_state=0, criterion='gini'))])\n",
    "rfc.fit(x_train, y_train)\n",
    "\n",
    "tree_feature_importances = (rfc.named_steps['rfc'].feature_importances_)\n",
    "sorted_idx = tree_feature_importances.argsort()\n",
    "feature_names = T1D_features.columns.values\n",
    "\n",
    "y_ticks = np.arange(0, len(feature_names))\n",
    "fig, ax = plt.subplots()\n",
    "ax.barh(y_ticks, tree_feature_importances[sorted_idx])\n",
    "ax.set_yticks(y_ticks)\n",
    "ax.set_yticklabels(feature_names[sorted_idx])\n",
    "ax.set_title(\"Random Forest Feature Importances\")\n",
    "plt.show()"
   ]
  },
  {
   "cell_type": "markdown",
   "metadata": {},
   "source": [
    "##### i. The two most important features according to the random forest are: Increased Urination and Increased Thirst.\n",
    "##### ii.  Yes it does match up to the feature exploration as can be seen in the histograms."
   ]
  },
  {
   "cell_type": "markdown",
   "metadata": {},
   "source": [
    "#### 7. Data Separability Visualization:"
   ]
  },
  {
   "cell_type": "code",
   "execution_count": 19,
   "metadata": {},
   "outputs": [],
   "source": [
    "pca = PCA(whiten=True)\n",
    "# apply PCA transformation\n",
    "x_train_pca = pca.fit_transform(x_train)\n",
    "x_test_pca = pca.transform(x_test)"
   ]
  },
  {
   "cell_type": "code",
   "execution_count": 20,
   "metadata": {},
   "outputs": [],
   "source": [
    "def plt_2d_pca(X_pca,y):\n",
    "    fig = plt.figure(figsize=(8, 8))\n",
    "    ax = fig.add_subplot(111, aspect='equal')\n",
    "    ax.scatter(X_pca[y==0, 0], X_pca[y==0, 1], color='b')\n",
    "    ax.scatter(X_pca[y==1, 0], X_pca[y==1, 1], color='r')\n",
    "    ax.legend(('Negative','Positive'))\n",
    "    ax.plot([0], [0], \"ko\")\n",
    "    ax.arrow(0, 0, 0, 1, head_width=0.05, length_includes_head=True, head_length=0.1, fc='k', ec='k')\n",
    "    ax.arrow(0, 0, 1, 0, head_width=0.05, length_includes_head=True, head_length=0.1, fc='k', ec='k')\n",
    "    ax.set_xlabel('$U_1$')\n",
    "    ax.set_ylabel('$U_2$')\n",
    "    ax.set_title('2D PCA')"
   ]
  },
  {
   "cell_type": "code",
   "execution_count": 21,
   "metadata": {},
   "outputs": [
    {
     "data": {
      "image/png": "[encoded data removed]",
      "text/plain": [
       "<Figure size 576x576 with 1 Axes>"
      ]
     },
     "metadata": {
      "needs_background": "light"
     },
     "output_type": "display_data"
    }
   ],
   "source": [
    "plt_2d_pca(x_test_pca,y_test)"
   ]
  },
  {
   "cell_type": "code",
   "execution_count": 22,
   "metadata": {},
   "outputs": [],
   "source": [
    "pca = PCA(n_components = 2, whiten=True)\n",
    "# apply PCA transformation\n",
    "x_train_pca = pca.fit_transform(x_train)\n",
    "x_test_pca = pca.transform(x_test)"
   ]
  },
  {
   "cell_type": "code",
   "execution_count": 23,
   "metadata": {},
   "outputs": [
    {
     "data": {
      "image/png": "[encoded data removed]",
      "text/plain": [
       "<Figure size 576x576 with 1 Axes>"
      ]
     },
     "metadata": {
      "needs_background": "light"
     },
     "output_type": "display_data"
    }
   ],
   "source": [
    "plt_2d_pca(x_test_pca,y_test)"
   ]
  },
  {
   "cell_type": "markdown",
   "metadata": {},
   "source": [
    "#### section c: training the models:"
   ]
  },
  {
   "cell_type": "code",
   "execution_count": 24,
   "metadata": {},
   "outputs": [
    {
     "data": {
      "text/plain": [
       "<matplotlib.legend.Legend at 0x217871faf88>"
      ]
     },
     "execution_count": 24,
     "metadata": {},
     "output_type": "execute_result"
    },
    {
     "data": {
      "image/png": "[encoded data removed]",
      "text/plain": [
       "<Figure size 864x432 with 2 Axes>"
      ]
     },
     "metadata": {
      "needs_background": "light"
     },
     "output_type": "display_data"
    }
   ],
   "source": [
    "x_train_orig, x_val_orig, y_train_orig, y_val_orig= train_test_split(x_train_pca, y_train, test_size = 0.20, random_state = 10, stratify=y_train)\n",
    "data_ratio = max_data_ratio(n_splits, x_train_pca, y_train)\n",
    "\n",
    "J_train = np.zeros((2,len(data_ratio)))\n",
    "J_val = np.zeros((2,len(data_ratio)))\n",
    "\n",
    "for idx, curr_ratio in enumerate(data_ratio):\n",
    "    log_reg = LogisticRegression(solver='saga', random_state=5, penalty='l2', C=0.1, max_iter=2000)\n",
    "    h = 0 # index per split\n",
    "    J_train_fold = np.zeros(n_splits)\n",
    "    J_val_fold = np.zeros(n_splits)\n",
    "    m_x_train, _, m_y_train, _ = train_test_split(x_train_orig, y_train_orig, test_size =1-curr_ratio, random_state = 10,\n",
    "                                             stratify=y_train_orig)\n",
    "    for train_index, val_index in skf.split(m_x_train, m_y_train):\n",
    "        x_train_fold = m_x_train[train_index]\n",
    "        y_train_fold = m_y_train[train_index]\n",
    "        x_train_fold = scaler.fit_transform(x_train_fold)\n",
    "        x_val = scaler.transform(x_val_orig)\n",
    "\n",
    "        log_reg.fit(x_train_fold, y_train_fold)\n",
    "        y_pred_train = log_reg.predict_proba(x_train_fold)\n",
    "        J_train_fold[h] = log_loss(y_train_fold,y_pred_train)\n",
    "        y_pred_val = log_reg.predict_proba(x_val)\n",
    "        J_val_fold[h] = log_loss(y_val_orig,y_pred_val) \n",
    "        h += 1\n",
    "        \n",
    "        J_train[0, idx] = J_train_fold.mean()\n",
    "        J_train[1, idx] = J_train_fold.std()\n",
    "        J_val[0, idx] = J_val_fold.mean()\n",
    "        J_val[1, idx] = J_val_fold.std()\n",
    "\n",
    "fig, axes = plt.subplots(1,2,figsize=(12,6))\n",
    "axes[0].errorbar(np.ceil(data_ratio[0:5]*x_train.shape[0]), J_train[0,0:5], yerr=J_train[1,0:5])\n",
    "axes[0].errorbar(np.ceil(data_ratio[0:5]*x_train.shape[0]), J_val[0,0:5], yerr=J_val[1,0:5])\n",
    "axes[0].set_xlabel('# of examples in training set')\n",
    "axes[0].set_ylabel('Loss')\n",
    "axes[0].legend(['J_train', 'J_val (n = ' + str(x_val.shape[0]) + ')'])\n",
    "axes[0].set_title('Started with ' + str(int(np.ceil(data_ratio[0]*x_train.shape[0]))) + ' examples')\n",
    "axes[1].errorbar(np.ceil(data_ratio[5:]*x_train.shape[0]), J_train[0,5:], yerr=J_train[1,5:])\n",
    "axes[1].errorbar(np.ceil(data_ratio[5:]*x_train.shape[0]), J_val[0,5:], yerr=J_val[1,5:])\n",
    "axes[1].set_xlabel('# of examples in training set')\n",
    "axes[1].set_ylabel('Loss')\n",
    "axes[1].legend(['J_train', 'J_val (n = ' + str(x_val.shape[0]) + ')'])"
   ]
  },
  {
   "cell_type": "code",
   "execution_count": 25,
   "metadata": {},
   "outputs": [
    {
     "name": "stdout",
     "output_type": "stream",
     "text": [
      "Fitting 5 folds for each of 5 candidates, totalling 25 fits\n",
      "[CV] svm__C=0.01, svm__kernel=linear .................................\n",
      "[CV]  svm__C=0.01, svm__kernel=linear, accuracy=(train=0.835, test=0.810), f1=(train=0.859, test=0.837), precision=(train=0.908, test=0.891), recall=(train=0.815, test=0.788), roc_auc=(train=0.917, test=0.928), total=   0.0s\n",
      "[CV] svm__C=0.01, svm__kernel=linear .................................\n",
      "[CV]  svm__C=0.01, svm__kernel=linear, accuracy=(train=0.808, test=0.845), f1=(train=0.841, test=0.860), precision=(train=0.858, test=0.976), recall=(train=0.824, test=0.769), roc_auc=(train=0.907, test=0.915), total=   0.0s\n",
      "[CV] svm__C=0.01, svm__kernel=linear .................................\n"
     ]
    },
    {
     "name": "stderr",
     "output_type": "stream",
     "text": [
      "[Parallel(n_jobs=1)]: Using backend SequentialBackend with 1 concurrent workers.\n",
      "[Parallel(n_jobs=1)]: Done   1 out of   1 | elapsed:    0.0s remaining:    0.0s\n",
      "[Parallel(n_jobs=1)]: Done   2 out of   2 | elapsed:    0.0s remaining:    0.0s\n"
     ]
    },
    {
     "name": "stdout",
     "output_type": "stream",
     "text": [
      "[CV]  svm__C=0.01, svm__kernel=linear, accuracy=(train=0.823, test=0.798), f1=(train=0.851, test=0.828), precision=(train=0.885, test=0.854), recall=(train=0.820, test=0.804), roc_auc=(train=0.925, test=0.869), total=   0.1s\n",
      "[CV] svm__C=0.01, svm__kernel=linear .................................\n",
      "[CV]  svm__C=0.01, svm__kernel=linear, accuracy=(train=0.824, test=0.819), f1=(train=0.851, test=0.845), precision=(train=0.889, test=0.891), recall=(train=0.816, test=0.804), roc_auc=(train=0.913, test=0.925), total=   0.0s\n",
      "[CV] svm__C=0.01, svm__kernel=linear .................................\n",
      "[CV]  svm__C=0.01, svm__kernel=linear, accuracy=(train=0.815, test=0.795), f1=(train=0.840, test=0.838), precision=(train=0.896, test=0.815), recall=(train=0.791, test=0.863), roc_auc=(train=0.909, test=0.930), total=   0.0s\n",
      "[CV] svm__C=1.0, svm__kernel=linear ..................................\n",
      "[CV]  svm__C=1.0, svm__kernel=linear, accuracy=(train=0.853, test=0.845), f1=(train=0.879, test=0.869), precision=(train=0.890, test=0.915), recall=(train=0.868, test=0.827), roc_auc=(train=0.923, test=0.912), total=   0.1s\n",
      "[CV] svm__C=1.0, svm__kernel=linear ..................................\n",
      "[CV]  svm__C=1.0, svm__kernel=linear, accuracy=(train=0.847, test=0.881), f1=(train=0.875, test=0.896), precision=(train=0.877, test=0.977), recall=(train=0.873, test=0.827), roc_auc=(train=0.919, test=0.934), total=   0.0s\n",
      "[CV] svm__C=1.0, svm__kernel=linear ..................................\n",
      "[CV]  svm__C=1.0, svm__kernel=linear, accuracy=(train=0.862, test=0.810), f1=(train=0.886, test=0.843), precision=(train=0.908, test=0.843), recall=(train=0.864, test=0.843), roc_auc=(train=0.935, test=0.872), total=   0.0s\n",
      "[CV] svm__C=1.0, svm__kernel=linear ..................................\n",
      "[CV]  svm__C=1.0, svm__kernel=linear, accuracy=(train=0.848, test=0.867), f1=(train=0.873, test=0.891), precision=(train=0.893, test=0.900), recall=(train=0.854, test=0.882), roc_auc=(train=0.919, test=0.939), total=   0.0s\n",
      "[CV] svm__C=1.0, svm__kernel=linear ..................................\n",
      "[CV]  svm__C=1.0, svm__kernel=linear, accuracy=(train=0.839, test=0.819), f1=(train=0.866, test=0.862), precision=(train=0.884, test=0.810), recall=(train=0.850, test=0.922), roc_auc=(train=0.920, test=0.945), total=   0.0s\n",
      "[CV] svm__C=10.0, svm__kernel=linear .................................\n",
      "[CV]  svm__C=10.0, svm__kernel=linear, accuracy=(train=0.853, test=0.833), f1=(train=0.879, test=0.860), precision=(train=0.890, test=0.896), recall=(train=0.868, test=0.827), roc_auc=(train=0.923, test=0.912), total=   0.1s\n",
      "[CV] svm__C=10.0, svm__kernel=linear .................................\n",
      "[CV]  svm__C=10.0, svm__kernel=linear, accuracy=(train=0.847, test=0.881), f1=(train=0.875, test=0.896), precision=(train=0.877, test=0.977), recall=(train=0.873, test=0.827), roc_auc=(train=0.919, test=0.933), total=   0.0s\n",
      "[CV] svm__C=10.0, svm__kernel=linear .................................\n",
      "[CV]  svm__C=10.0, svm__kernel=linear, accuracy=(train=0.862, test=0.810), f1=(train=0.886, test=0.843), precision=(train=0.908, test=0.843), recall=(train=0.864, test=0.843), roc_auc=(train=0.935, test=0.872), total=   0.1s\n",
      "[CV] svm__C=10.0, svm__kernel=linear .................................\n",
      "[CV]  svm__C=10.0, svm__kernel=linear, accuracy=(train=0.848, test=0.867), f1=(train=0.873, test=0.891), precision=(train=0.893, test=0.900), recall=(train=0.854, test=0.882), roc_auc=(train=0.919, test=0.939), total=   0.1s\n",
      "[CV] svm__C=10.0, svm__kernel=linear .................................\n",
      "[CV]  svm__C=10.0, svm__kernel=linear, accuracy=(train=0.836, test=0.819), f1=(train=0.864, test=0.862), precision=(train=0.879, test=0.810), recall=(train=0.850, test=0.922), roc_auc=(train=0.920, test=0.944), total=   0.1s\n",
      "[CV] svm__C=100.0, svm__kernel=linear ................................\n",
      "[CV]  svm__C=100.0, svm__kernel=linear, accuracy=(train=0.853, test=0.833), f1=(train=0.879, test=0.860), precision=(train=0.890, test=0.896), recall=(train=0.868, test=0.827), roc_auc=(train=0.923, test=0.912), total=   0.2s\n",
      "[CV] svm__C=100.0, svm__kernel=linear ................................\n",
      "[CV]  svm__C=100.0, svm__kernel=linear, accuracy=(train=0.847, test=0.881), f1=(train=0.875, test=0.896), precision=(train=0.877, test=0.977), recall=(train=0.873, test=0.827), roc_auc=(train=0.919, test=0.933), total=   0.1s\n",
      "[CV] svm__C=100.0, svm__kernel=linear ................................\n",
      "[CV]  svm__C=100.0, svm__kernel=linear, accuracy=(train=0.862, test=0.810), f1=(train=0.886, test=0.843), precision=(train=0.908, test=0.843), recall=(train=0.864, test=0.843), roc_auc=(train=0.935, test=0.872), total=   0.1s\n",
      "[CV] svm__C=100.0, svm__kernel=linear ................................\n",
      "[CV]  svm__C=100.0, svm__kernel=linear, accuracy=(train=0.848, test=0.867), f1=(train=0.873, test=0.891), precision=(train=0.893, test=0.900), recall=(train=0.854, test=0.882), roc_auc=(train=0.919, test=0.939), total=   0.2s\n",
      "[CV] svm__C=100.0, svm__kernel=linear ................................\n",
      "[CV]  svm__C=100.0, svm__kernel=linear, accuracy=(train=0.836, test=0.819), f1=(train=0.864, test=0.862), precision=(train=0.879, test=0.810), recall=(train=0.850, test=0.922), roc_auc=(train=0.920, test=0.944), total=   0.2s\n",
      "[CV] svm__C=1000.0, svm__kernel=linear ...............................\n",
      "[CV]  svm__C=1000.0, svm__kernel=linear, accuracy=(train=0.853, test=0.833), f1=(train=0.879, test=0.860), precision=(train=0.890, test=0.896), recall=(train=0.868, test=0.827), roc_auc=(train=0.923, test=0.912), total=   3.1s\n",
      "[CV] svm__C=1000.0, svm__kernel=linear ...............................\n",
      "[CV]  svm__C=1000.0, svm__kernel=linear, accuracy=(train=0.847, test=0.881), f1=(train=0.875, test=0.896), precision=(train=0.877, test=0.977), recall=(train=0.873, test=0.827), roc_auc=(train=0.919, test=0.933), total=   0.9s\n",
      "[CV] svm__C=1000.0, svm__kernel=linear ...............................\n",
      "[CV]  svm__C=1000.0, svm__kernel=linear, accuracy=(train=0.862, test=0.810), f1=(train=0.886, test=0.843), precision=(train=0.908, test=0.843), recall=(train=0.864, test=0.843), roc_auc=(train=0.935, test=0.872), total=   2.2s\n",
      "[CV] svm__C=1000.0, svm__kernel=linear ...............................\n",
      "[CV]  svm__C=1000.0, svm__kernel=linear, accuracy=(train=0.848, test=0.867), f1=(train=0.873, test=0.891), precision=(train=0.893, test=0.900), recall=(train=0.854, test=0.882), roc_auc=(train=0.919, test=0.939), total=   1.0s\n",
      "[CV] svm__C=1000.0, svm__kernel=linear ...............................\n",
      "[CV]  svm__C=1000.0, svm__kernel=linear, accuracy=(train=0.836, test=0.819), f1=(train=0.864, test=0.862), precision=(train=0.879, test=0.810), recall=(train=0.850, test=0.922), roc_auc=(train=0.920, test=0.944), total=   0.9s\n",
      "{'svm__C': 1.0, 'svm__kernel': 'linear'}\n"
     ]
    },
    {
     "name": "stderr",
     "output_type": "stream",
     "text": [
      "[Parallel(n_jobs=1)]: Done  25 out of  25 | elapsed:   10.1s finished\n"
     ]
    }
   ],
   "source": [
    "svc = SVC(probability=True)\n",
    "C = np.array([0.01, 1, 10, 100, 1000])\n",
    "\n",
    "pipe = Pipeline(steps=[('scale', StandardScaler()), ('svm', svc)])\n",
    "svm_lin = GridSearchCV(estimator=pipe, param_grid={'svm__C': C, 'svm__kernel': ['linear']},cv=skf,\n",
    "                       scoring=['accuracy','f1','precision','recall','roc_auc'], \n",
    "                       refit='roc_auc', verbose=3, return_train_score=True)\n",
    "svm_lin.fit(x_train_pca, y_train)\n",
    "best_svm_lin = svm_lin.best_estimator_\n",
    "print(svm_lin.best_params_)"
   ]
  },
  {
   "cell_type": "code",
   "execution_count": 31,
   "metadata": {},
   "outputs": [
    {
     "name": "stdout",
     "output_type": "stream",
     "text": [
      "Fitting 5 folds for each of 20 candidates, totalling 100 fits\n",
      "[CV] svm__C=0.01, svm__gamma=auto, svm__kernel=rbf ...................\n",
      "[CV]  svm__C=0.01, svm__gamma=auto, svm__kernel=rbf, accuracy=(train=0.614, test=0.619), f1=(train=0.761, test=0.765), precision=(train=0.614, test=0.619), recall=(train=1.000, test=1.000), roc_auc=(train=0.922, test=0.913), total=   0.0s\n",
      "[CV] svm__C=0.01, svm__gamma=auto, svm__kernel=rbf ...................\n",
      "[CV]  svm__C=0.01, svm__gamma=auto, svm__kernel=rbf, accuracy=(train=0.614, test=0.619), f1=(train=0.761, test=0.765), precision=(train=0.614, test=0.619), recall=(train=1.000, test=1.000), roc_auc=(train=0.910, test=0.909), total=   0.1s\n",
      "[CV] svm__C=0.01, svm__gamma=auto, svm__kernel=rbf ...................\n"
     ]
    },
    {
     "name": "stderr",
     "output_type": "stream",
     "text": [
      "[Parallel(n_jobs=1)]: Using backend SequentialBackend with 1 concurrent workers.\n",
      "[Parallel(n_jobs=1)]: Done   1 out of   1 | elapsed:    0.0s remaining:    0.0s\n",
      "[Parallel(n_jobs=1)]: Done   2 out of   2 | elapsed:    0.0s remaining:    0.0s\n"
     ]
    },
    {
     "name": "stdout",
     "output_type": "stream",
     "text": [
      "[CV]  svm__C=0.01, svm__gamma=auto, svm__kernel=rbf, accuracy=(train=0.617, test=0.607), f1=(train=0.763, test=0.756), precision=(train=0.617, test=0.607), recall=(train=1.000, test=1.000), roc_auc=(train=0.922, test=0.881), total=   0.1s\n",
      "[CV] svm__C=0.01, svm__gamma=auto, svm__kernel=rbf ...................\n",
      "[CV]  svm__C=0.01, svm__gamma=auto, svm__kernel=rbf, accuracy=(train=0.615, test=0.614), f1=(train=0.762, test=0.761), precision=(train=0.615, test=0.614), recall=(train=1.000, test=1.000), roc_auc=(train=0.917, test=0.917), total=   0.0s\n",
      "[CV] svm__C=0.01, svm__gamma=auto, svm__kernel=rbf ...................\n",
      "[CV]  svm__C=0.01, svm__gamma=auto, svm__kernel=rbf, accuracy=(train=0.615, test=0.614), f1=(train=0.762, test=0.761), precision=(train=0.615, test=0.614), recall=(train=1.000, test=1.000), roc_auc=(train=0.912, test=0.928), total=   0.1s\n",
      "[CV] svm__C=0.01, svm__gamma=auto, svm__kernel=poly ..................\n",
      "[CV]  svm__C=0.01, svm__gamma=auto, svm__kernel=poly, accuracy=(train=0.719, test=0.750), f1=(train=0.812, test=0.829), precision=(train=0.688, test=0.718), recall=(train=0.990, test=0.981), roc_auc=(train=0.901, test=0.909), total=   0.0s\n",
      "[CV] svm__C=0.01, svm__gamma=auto, svm__kernel=poly ..................\n",
      "[CV]  svm__C=0.01, svm__gamma=auto, svm__kernel=poly, accuracy=(train=0.728, test=0.714), f1=(train=0.818, test=0.810), precision=(train=0.693, test=0.689), recall=(train=1.000, test=0.981), roc_auc=(train=0.886, test=0.888), total=   0.0s\n",
      "[CV] svm__C=0.01, svm__gamma=auto, svm__kernel=poly ..................\n",
      "[CV]  svm__C=0.01, svm__gamma=auto, svm__kernel=poly, accuracy=(train=0.734, test=0.690), f1=(train=0.821, test=0.790), precision=(train=0.701, test=0.671), recall=(train=0.990, test=0.961), roc_auc=(train=0.914, test=0.842), total=   0.0s\n",
      "[CV] svm__C=0.01, svm__gamma=auto, svm__kernel=poly ..................\n",
      "[CV]  svm__C=0.01, svm__gamma=auto, svm__kernel=poly, accuracy=(train=0.713, test=0.747), f1=(train=0.810, test=0.829), precision=(train=0.683, test=0.708), recall=(train=0.995, test=1.000), roc_auc=(train=0.884, test=0.907), total=   0.0s\n",
      "[CV] svm__C=0.01, svm__gamma=auto, svm__kernel=poly ..................\n",
      "[CV]  svm__C=0.01, svm__gamma=auto, svm__kernel=poly, accuracy=(train=0.719, test=0.687), f1=(train=0.814, test=0.797), precision=(train=0.687, test=0.662), recall=(train=1.000, test=1.000), roc_auc=(train=0.886, test=0.883), total=   0.0s\n",
      "[CV] svm__C=0.01, svm__gamma=scale, svm__kernel=rbf ..................\n",
      "[CV]  svm__C=0.01, svm__gamma=scale, svm__kernel=rbf, accuracy=(train=0.614, test=0.619), f1=(train=0.761, test=0.765), precision=(train=0.614, test=0.619), recall=(train=1.000, test=1.000), roc_auc=(train=0.922, test=0.913), total=   0.0s\n",
      "[CV] svm__C=0.01, svm__gamma=scale, svm__kernel=rbf ..................\n",
      "[CV]  svm__C=0.01, svm__gamma=scale, svm__kernel=rbf, accuracy=(train=0.614, test=0.619), f1=(train=0.761, test=0.765), precision=(train=0.614, test=0.619), recall=(train=1.000, test=1.000), roc_auc=(train=0.910, test=0.909), total=   0.0s\n",
      "[CV] svm__C=0.01, svm__gamma=scale, svm__kernel=rbf ..................\n",
      "[CV]  svm__C=0.01, svm__gamma=scale, svm__kernel=rbf, accuracy=(train=0.617, test=0.607), f1=(train=0.763, test=0.756), precision=(train=0.617, test=0.607), recall=(train=1.000, test=1.000), roc_auc=(train=0.922, test=0.881), total=   0.0s\n",
      "[CV] svm__C=0.01, svm__gamma=scale, svm__kernel=rbf ..................\n",
      "[CV]  svm__C=0.01, svm__gamma=scale, svm__kernel=rbf, accuracy=(train=0.615, test=0.614), f1=(train=0.762, test=0.761), precision=(train=0.615, test=0.614), recall=(train=1.000, test=1.000), roc_auc=(train=0.917, test=0.917), total=   0.1s\n",
      "[CV] svm__C=0.01, svm__gamma=scale, svm__kernel=rbf ..................\n",
      "[CV]  svm__C=0.01, svm__gamma=scale, svm__kernel=rbf, accuracy=(train=0.615, test=0.614), f1=(train=0.762, test=0.761), precision=(train=0.615, test=0.614), recall=(train=1.000, test=1.000), roc_auc=(train=0.912, test=0.928), total=   0.1s\n",
      "[CV] svm__C=0.01, svm__gamma=scale, svm__kernel=poly .................\n",
      "[CV]  svm__C=0.01, svm__gamma=scale, svm__kernel=poly, accuracy=(train=0.719, test=0.750), f1=(train=0.812, test=0.829), precision=(train=0.688, test=0.718), recall=(train=0.990, test=0.981), roc_auc=(train=0.901, test=0.909), total=   0.0s\n",
      "[CV] svm__C=0.01, svm__gamma=scale, svm__kernel=poly .................\n",
      "[CV]  svm__C=0.01, svm__gamma=scale, svm__kernel=poly, accuracy=(train=0.728, test=0.714), f1=(train=0.818, test=0.810), precision=(train=0.693, test=0.689), recall=(train=1.000, test=0.981), roc_auc=(train=0.886, test=0.888), total=   0.0s\n",
      "[CV] svm__C=0.01, svm__gamma=scale, svm__kernel=poly .................\n",
      "[CV]  svm__C=0.01, svm__gamma=scale, svm__kernel=poly, accuracy=(train=0.734, test=0.690), f1=(train=0.821, test=0.790), precision=(train=0.701, test=0.671), recall=(train=0.990, test=0.961), roc_auc=(train=0.914, test=0.842), total=   0.0s\n",
      "[CV] svm__C=0.01, svm__gamma=scale, svm__kernel=poly .................\n",
      "[CV]  svm__C=0.01, svm__gamma=scale, svm__kernel=poly, accuracy=(train=0.713, test=0.747), f1=(train=0.810, test=0.829), precision=(train=0.683, test=0.708), recall=(train=0.995, test=1.000), roc_auc=(train=0.884, test=0.907), total=   0.0s\n",
      "[CV] svm__C=0.01, svm__gamma=scale, svm__kernel=poly .................\n",
      "[CV]  svm__C=0.01, svm__gamma=scale, svm__kernel=poly, accuracy=(train=0.719, test=0.687), f1=(train=0.814, test=0.797), precision=(train=0.687, test=0.662), recall=(train=1.000, test=1.000), roc_auc=(train=0.886, test=0.883), total=   0.0s\n",
      "[CV] svm__C=1.0, svm__gamma=auto, svm__kernel=rbf ....................\n",
      "[CV]  svm__C=1.0, svm__gamma=auto, svm__kernel=rbf, accuracy=(train=0.877, test=0.845), f1=(train=0.897, test=0.869), precision=(train=0.923, test=0.915), recall=(train=0.873, test=0.827), roc_auc=(train=0.938, test=0.914), total=   0.0s\n",
      "[CV] svm__C=1.0, svm__gamma=auto, svm__kernel=rbf ....................\n",
      "[CV]  svm__C=1.0, svm__gamma=auto, svm__kernel=rbf, accuracy=(train=0.865, test=0.893), f1=(train=0.888, test=0.907), precision=(train=0.904, test=0.978), recall=(train=0.873, test=0.846), roc_auc=(train=0.933, test=0.939), total=   0.0s\n",
      "[CV] svm__C=1.0, svm__gamma=auto, svm__kernel=rbf ....................\n",
      "[CV]  svm__C=1.0, svm__gamma=auto, svm__kernel=rbf, accuracy=(train=0.880, test=0.845), f1=(train=0.899, test=0.871), precision=(train=0.932, test=0.880), recall=(train=0.869, test=0.863), roc_auc=(train=0.940, test=0.900), total=   0.0s\n",
      "[CV] svm__C=1.0, svm__gamma=auto, svm__kernel=rbf ....................\n",
      "[CV]  svm__C=1.0, svm__gamma=auto, svm__kernel=rbf, accuracy=(train=0.857, test=0.843), f1=(train=0.880, test=0.871), precision=(train=0.907, test=0.880), recall=(train=0.854, test=0.863), roc_auc=(train=0.931, test=0.936), total=   0.0s\n",
      "[CV] svm__C=1.0, svm__gamma=auto, svm__kernel=rbf ....................\n",
      "[CV]  svm__C=1.0, svm__gamma=auto, svm__kernel=rbf, accuracy=(train=0.857, test=0.867), f1=(train=0.881, test=0.897), precision=(train=0.903, test=0.857), recall=(train=0.859, test=0.941), roc_auc=(train=0.926, test=0.947), total=   0.0s\n",
      "[CV] svm__C=1.0, svm__gamma=auto, svm__kernel=poly ...................\n",
      "[CV]  svm__C=1.0, svm__gamma=auto, svm__kernel=poly, accuracy=(train=0.814, test=0.845), f1=(train=0.860, test=0.881), precision=(train=0.799, test=0.842), recall=(train=0.932, test=0.923), roc_auc=(train=0.925, test=0.912), total=   0.0s\n",
      "[CV] svm__C=1.0, svm__gamma=auto, svm__kernel=poly ...................\n",
      "[CV]  svm__C=1.0, svm__gamma=auto, svm__kernel=poly, accuracy=(train=0.826, test=0.798), f1=(train=0.871, test=0.850), precision=(train=0.800, test=0.787), recall=(train=0.956, test=0.923), roc_auc=(train=0.924, test=0.923), total=   0.0s\n",
      "[CV] svm__C=1.0, svm__gamma=auto, svm__kernel=poly ...................\n",
      "[CV]  svm__C=1.0, svm__gamma=auto, svm__kernel=poly, accuracy=(train=0.859, test=0.750), f1=(train=0.892, test=0.804), precision=(train=0.844, test=0.768), recall=(train=0.947, test=0.843), roc_auc=(train=0.935, test=0.865), total=   0.0s\n",
      "[CV] svm__C=1.0, svm__gamma=auto, svm__kernel=poly ...................\n",
      "[CV]  svm__C=1.0, svm__gamma=auto, svm__kernel=poly, accuracy=(train=0.815, test=0.855), f1=(train=0.862, test=0.895), precision=(train=0.798, test=0.810), recall=(train=0.937, test=1.000), roc_auc=(train=0.920, test=0.939), total=   0.0s\n",
      "[CV] svm__C=1.0, svm__gamma=auto, svm__kernel=poly ...................\n",
      "[CV]  svm__C=1.0, svm__gamma=auto, svm__kernel=poly, accuracy=(train=0.818, test=0.831), f1=(train=0.865, test=0.879), precision=(train=0.796, test=0.785), recall=(train=0.947, test=1.000), roc_auc=(train=0.917, test=0.939), total=   0.1s\n",
      "[CV] svm__C=1.0, svm__gamma=scale, svm__kernel=rbf ...................\n",
      "[CV]  svm__C=1.0, svm__gamma=scale, svm__kernel=rbf, accuracy=(train=0.877, test=0.845), f1=(train=0.897, test=0.869), precision=(train=0.923, test=0.915), recall=(train=0.873, test=0.827), roc_auc=(train=0.938, test=0.914), total=   0.2s\n",
      "[CV] svm__C=1.0, svm__gamma=scale, svm__kernel=rbf ...................\n",
      "[CV]  svm__C=1.0, svm__gamma=scale, svm__kernel=rbf, accuracy=(train=0.865, test=0.893), f1=(train=0.888, test=0.907), precision=(train=0.904, test=0.978), recall=(train=0.873, test=0.846), roc_auc=(train=0.933, test=0.939), total=   0.0s\n",
      "[CV] svm__C=1.0, svm__gamma=scale, svm__kernel=rbf ...................\n",
      "[CV]  svm__C=1.0, svm__gamma=scale, svm__kernel=rbf, accuracy=(train=0.880, test=0.845), f1=(train=0.899, test=0.871), precision=(train=0.932, test=0.880), recall=(train=0.869, test=0.863), roc_auc=(train=0.940, test=0.900), total=   0.0s\n",
      "[CV] svm__C=1.0, svm__gamma=scale, svm__kernel=rbf ...................\n",
      "[CV]  svm__C=1.0, svm__gamma=scale, svm__kernel=rbf, accuracy=(train=0.857, test=0.843), f1=(train=0.880, test=0.871), precision=(train=0.907, test=0.880), recall=(train=0.854, test=0.863), roc_auc=(train=0.931, test=0.936), total=   0.0s\n",
      "[CV] svm__C=1.0, svm__gamma=scale, svm__kernel=rbf ...................\n",
      "[CV]  svm__C=1.0, svm__gamma=scale, svm__kernel=rbf, accuracy=(train=0.857, test=0.867), f1=(train=0.881, test=0.897), precision=(train=0.903, test=0.857), recall=(train=0.859, test=0.941), roc_auc=(train=0.926, test=0.947), total=   0.0s\n",
      "[CV] svm__C=1.0, svm__gamma=scale, svm__kernel=poly ..................\n",
      "[CV]  svm__C=1.0, svm__gamma=scale, svm__kernel=poly, accuracy=(train=0.814, test=0.845), f1=(train=0.860, test=0.881), precision=(train=0.799, test=0.842), recall=(train=0.932, test=0.923), roc_auc=(train=0.925, test=0.912), total=   0.1s\n",
      "[CV] svm__C=1.0, svm__gamma=scale, svm__kernel=poly ..................\n",
      "[CV]  svm__C=1.0, svm__gamma=scale, svm__kernel=poly, accuracy=(train=0.826, test=0.798), f1=(train=0.871, test=0.850), precision=(train=0.800, test=0.787), recall=(train=0.956, test=0.923), roc_auc=(train=0.924, test=0.923), total=   0.0s\n",
      "[CV] svm__C=1.0, svm__gamma=scale, svm__kernel=poly ..................\n",
      "[CV]  svm__C=1.0, svm__gamma=scale, svm__kernel=poly, accuracy=(train=0.859, test=0.750), f1=(train=0.892, test=0.804), precision=(train=0.844, test=0.768), recall=(train=0.947, test=0.843), roc_auc=(train=0.935, test=0.865), total=   0.0s\n",
      "[CV] svm__C=1.0, svm__gamma=scale, svm__kernel=poly ..................\n",
      "[CV]  svm__C=1.0, svm__gamma=scale, svm__kernel=poly, accuracy=(train=0.815, test=0.855), f1=(train=0.862, test=0.895), precision=(train=0.798, test=0.810), recall=(train=0.937, test=1.000), roc_auc=(train=0.920, test=0.939), total=   0.1s\n",
      "[CV] svm__C=1.0, svm__gamma=scale, svm__kernel=poly ..................\n",
      "[CV]  svm__C=1.0, svm__gamma=scale, svm__kernel=poly, accuracy=(train=0.818, test=0.831), f1=(train=0.865, test=0.879), precision=(train=0.796, test=0.785), recall=(train=0.947, test=1.000), roc_auc=(train=0.917, test=0.939), total=   0.1s\n",
      "[CV] svm__C=10.0, svm__gamma=auto, svm__kernel=rbf ...................\n",
      "[CV]  svm__C=10.0, svm__gamma=auto, svm__kernel=rbf, accuracy=(train=0.877, test=0.833), f1=(train=0.896, test=0.857), precision=(train=0.932, test=0.913), recall=(train=0.863, test=0.808), roc_auc=(train=0.951, test=0.932), total=   0.0s\n",
      "[CV] svm__C=10.0, svm__gamma=auto, svm__kernel=rbf ...................\n",
      "[CV]  svm__C=10.0, svm__gamma=auto, svm__kernel=rbf, accuracy=(train=0.862, test=0.857), f1=(train=0.885, test=0.878), precision=(train=0.908, test=0.935), recall=(train=0.863, test=0.827), roc_auc=(train=0.949, test=0.949), total=   0.0s\n",
      "[CV] svm__C=10.0, svm__gamma=auto, svm__kernel=rbf ...................\n",
      "[CV]  svm__C=10.0, svm__gamma=auto, svm__kernel=rbf, accuracy=(train=0.880, test=0.821), f1=(train=0.899, test=0.845), precision=(train=0.937, test=0.891), recall=(train=0.864, test=0.804), roc_auc=(train=0.960, test=0.901), total=   0.1s\n",
      "[CV] svm__C=10.0, svm__gamma=auto, svm__kernel=rbf ...................\n",
      "[CV]  svm__C=10.0, svm__gamma=auto, svm__kernel=rbf, accuracy=(train=0.875, test=0.867), f1=(train=0.893, test=0.889), precision=(train=0.936, test=0.917), recall=(train=0.854, test=0.863), roc_auc=(train=0.953, test=0.947), total=   0.0s\n",
      "[CV] svm__C=10.0, svm__gamma=auto, svm__kernel=rbf ...................\n",
      "[CV]  svm__C=10.0, svm__gamma=auto, svm__kernel=rbf, accuracy=(train=0.860, test=0.904), f1=(train=0.882, test=0.923), precision=(train=0.912, test=0.906), recall=(train=0.854, test=0.941), roc_auc=(train=0.937, test=0.964), total=   0.0s\n",
      "[CV] svm__C=10.0, svm__gamma=auto, svm__kernel=poly ..................\n",
      "[CV]  svm__C=10.0, svm__gamma=auto, svm__kernel=poly, accuracy=(train=0.817, test=0.845), f1=(train=0.862, test=0.883), precision=(train=0.805, test=0.831), recall=(train=0.927, test=0.942), roc_auc=(train=0.926, test=0.928), total=   0.3s\n",
      "[CV] svm__C=10.0, svm__gamma=auto, svm__kernel=poly ..................\n",
      "[CV]  svm__C=10.0, svm__gamma=auto, svm__kernel=poly, accuracy=(train=0.823, test=0.798), f1=(train=0.869, test=0.850), precision=(train=0.799, test=0.787), recall=(train=0.951, test=0.923), roc_auc=(train=0.917, test=0.915), total=   0.3s\n",
      "[CV] svm__C=10.0, svm__gamma=auto, svm__kernel=poly ..................\n",
      "[CV]  svm__C=10.0, svm__gamma=auto, svm__kernel=poly, accuracy=(train=0.847, test=0.762), f1=(train=0.882, test=0.811), precision=(train=0.841, test=0.782), recall=(train=0.927, test=0.843), roc_auc=(train=0.937, test=0.867), total=   0.3s\n",
      "[CV] svm__C=10.0, svm__gamma=auto, svm__kernel=poly ..................\n",
      "[CV]  svm__C=10.0, svm__gamma=auto, svm__kernel=poly, accuracy=(train=0.830, test=0.855), f1=(train=0.870, test=0.889), precision=(train=0.820, test=0.842), recall=(train=0.927, test=0.941), roc_auc=(train=0.914, test=0.931), total=   0.4s\n",
      "[CV] svm__C=10.0, svm__gamma=auto, svm__kernel=poly ..................\n",
      "[CV]  svm__C=10.0, svm__gamma=auto, svm__kernel=poly, accuracy=(train=0.821, test=0.843), f1=(train=0.866, test=0.887), precision=(train=0.802, test=0.797), recall=(train=0.942, test=1.000), roc_auc=(train=0.921, test=0.942), total=   0.4s\n",
      "[CV] svm__C=10.0, svm__gamma=scale, svm__kernel=rbf ..................\n",
      "[CV]  svm__C=10.0, svm__gamma=scale, svm__kernel=rbf, accuracy=(train=0.877, test=0.833), f1=(train=0.896, test=0.857), precision=(train=0.932, test=0.913), recall=(train=0.863, test=0.808), roc_auc=(train=0.951, test=0.932), total=   0.1s\n",
      "[CV] svm__C=10.0, svm__gamma=scale, svm__kernel=rbf ..................\n",
      "[CV]  svm__C=10.0, svm__gamma=scale, svm__kernel=rbf, accuracy=(train=0.862, test=0.857), f1=(train=0.885, test=0.878), precision=(train=0.908, test=0.935), recall=(train=0.863, test=0.827), roc_auc=(train=0.949, test=0.949), total=   0.1s\n",
      "[CV] svm__C=10.0, svm__gamma=scale, svm__kernel=rbf ..................\n",
      "[CV]  svm__C=10.0, svm__gamma=scale, svm__kernel=rbf, accuracy=(train=0.880, test=0.821), f1=(train=0.899, test=0.845), precision=(train=0.937, test=0.891), recall=(train=0.864, test=0.804), roc_auc=(train=0.960, test=0.901), total=   0.1s\n",
      "[CV] svm__C=10.0, svm__gamma=scale, svm__kernel=rbf ..................\n",
      "[CV]  svm__C=10.0, svm__gamma=scale, svm__kernel=rbf, accuracy=(train=0.875, test=0.867), f1=(train=0.893, test=0.889), precision=(train=0.936, test=0.917), recall=(train=0.854, test=0.863), roc_auc=(train=0.953, test=0.947), total=   0.0s\n",
      "[CV] svm__C=10.0, svm__gamma=scale, svm__kernel=rbf ..................\n",
      "[CV]  svm__C=10.0, svm__gamma=scale, svm__kernel=rbf, accuracy=(train=0.860, test=0.904), f1=(train=0.882, test=0.923), precision=(train=0.912, test=0.906), recall=(train=0.854, test=0.941), roc_auc=(train=0.937, test=0.964), total=   0.0s\n",
      "[CV] svm__C=10.0, svm__gamma=scale, svm__kernel=poly .................\n",
      "[CV]  svm__C=10.0, svm__gamma=scale, svm__kernel=poly, accuracy=(train=0.817, test=0.845), f1=(train=0.862, test=0.883), precision=(train=0.805, test=0.831), recall=(train=0.927, test=0.942), roc_auc=(train=0.926, test=0.928), total=   0.1s\n",
      "[CV] svm__C=10.0, svm__gamma=scale, svm__kernel=poly .................\n",
      "[CV]  svm__C=10.0, svm__gamma=scale, svm__kernel=poly, accuracy=(train=0.823, test=0.798), f1=(train=0.869, test=0.850), precision=(train=0.799, test=0.787), recall=(train=0.951, test=0.923), roc_auc=(train=0.917, test=0.915), total=   0.1s\n",
      "[CV] svm__C=10.0, svm__gamma=scale, svm__kernel=poly .................\n",
      "[CV]  svm__C=10.0, svm__gamma=scale, svm__kernel=poly, accuracy=(train=0.847, test=0.762), f1=(train=0.882, test=0.811), precision=(train=0.841, test=0.782), recall=(train=0.927, test=0.843), roc_auc=(train=0.937, test=0.867), total=   0.1s\n",
      "[CV] svm__C=10.0, svm__gamma=scale, svm__kernel=poly .................\n",
      "[CV]  svm__C=10.0, svm__gamma=scale, svm__kernel=poly, accuracy=(train=0.830, test=0.855), f1=(train=0.870, test=0.889), precision=(train=0.820, test=0.842), recall=(train=0.927, test=0.941), roc_auc=(train=0.914, test=0.931), total=   0.1s\n",
      "[CV] svm__C=10.0, svm__gamma=scale, svm__kernel=poly .................\n",
      "[CV]  svm__C=10.0, svm__gamma=scale, svm__kernel=poly, accuracy=(train=0.821, test=0.843), f1=(train=0.866, test=0.887), precision=(train=0.802, test=0.797), recall=(train=0.942, test=1.000), roc_auc=(train=0.921, test=0.942), total=   0.2s\n",
      "[CV] svm__C=100.0, svm__gamma=auto, svm__kernel=rbf ..................\n",
      "[CV]  svm__C=100.0, svm__gamma=auto, svm__kernel=rbf, accuracy=(train=0.874, test=0.845), f1=(train=0.893, test=0.866), precision=(train=0.931, test=0.933), recall=(train=0.859, test=0.808), roc_auc=(train=0.961, test=0.954), total=   0.2s\n",
      "[CV] svm__C=100.0, svm__gamma=auto, svm__kernel=rbf ..................\n",
      "[CV]  svm__C=100.0, svm__gamma=auto, svm__kernel=rbf, accuracy=(train=0.865, test=0.857), f1=(train=0.888, test=0.880), precision=(train=0.908, test=0.917), recall=(train=0.868, test=0.846), roc_auc=(train=0.958, test=0.953), total=   0.1s\n",
      "[CV] svm__C=100.0, svm__gamma=auto, svm__kernel=rbf ..................\n",
      "[CV]  svm__C=100.0, svm__gamma=auto, svm__kernel=rbf, accuracy=(train=0.895, test=0.833), f1=(train=0.912, test=0.857), precision=(train=0.943, test=0.894), recall=(train=0.883, test=0.824), roc_auc=(train=0.970, test=0.894), total=   0.1s\n",
      "[CV] svm__C=100.0, svm__gamma=auto, svm__kernel=rbf ..................\n",
      "[CV]  svm__C=100.0, svm__gamma=auto, svm__kernel=rbf, accuracy=(train=0.878, test=0.880), f1=(train=0.896, test=0.896), precision=(train=0.941, test=0.956), recall=(train=0.854, test=0.843), roc_auc=(train=0.963, test=0.949), total=   0.1s\n",
      "[CV] svm__C=100.0, svm__gamma=auto, svm__kernel=rbf ..................\n",
      "[CV]  svm__C=100.0, svm__gamma=auto, svm__kernel=rbf, accuracy=(train=0.860, test=0.892), f1=(train=0.883, test=0.914), precision=(train=0.904, test=0.889), recall=(train=0.864, test=0.941), roc_auc=(train=0.950, test=0.970), total=   0.1s\n",
      "[CV] svm__C=100.0, svm__gamma=auto, svm__kernel=poly .................\n",
      "[CV]  svm__C=100.0, svm__gamma=auto, svm__kernel=poly, accuracy=(train=0.811, test=0.845), f1=(train=0.858, test=0.883), precision=(train=0.798, test=0.831), recall=(train=0.927, test=0.942), roc_auc=(train=0.926, test=0.931), total=   0.8s\n",
      "[CV] svm__C=100.0, svm__gamma=auto, svm__kernel=poly .................\n",
      "[CV]  svm__C=100.0, svm__gamma=auto, svm__kernel=poly, accuracy=(train=0.826, test=0.821), f1=(train=0.871, test=0.865), precision=(train=0.802, test=0.814), recall=(train=0.951, test=0.923), roc_auc=(train=0.916, test=0.915), total=   0.4s\n",
      "[CV] svm__C=100.0, svm__gamma=auto, svm__kernel=poly .................\n",
      "[CV]  svm__C=100.0, svm__gamma=auto, svm__kernel=poly, accuracy=(train=0.850, test=0.786), f1=(train=0.885, test=0.830), precision=(train=0.842, test=0.800), recall=(train=0.932, test=0.863), roc_auc=(train=0.936, test=0.872), total=   1.2s\n",
      "[CV] svm__C=100.0, svm__gamma=auto, svm__kernel=poly .................\n",
      "[CV]  svm__C=100.0, svm__gamma=auto, svm__kernel=poly, accuracy=(train=0.830, test=0.855), f1=(train=0.870, test=0.889), precision=(train=0.820, test=0.842), recall=(train=0.927, test=0.941), roc_auc=(train=0.913, test=0.929), total=   0.8s\n",
      "[CV] svm__C=100.0, svm__gamma=auto, svm__kernel=poly .................\n",
      "[CV]  svm__C=100.0, svm__gamma=auto, svm__kernel=poly, accuracy=(train=0.815, test=0.855), f1=(train=0.860, test=0.895), precision=(train=0.805, test=0.810), recall=(train=0.922, test=1.000), roc_auc=(train=0.922, test=0.943), total=   0.7s\n",
      "[CV] svm__C=100.0, svm__gamma=scale, svm__kernel=rbf .................\n",
      "[CV]  svm__C=100.0, svm__gamma=scale, svm__kernel=rbf, accuracy=(train=0.874, test=0.845), f1=(train=0.893, test=0.866), precision=(train=0.931, test=0.933), recall=(train=0.859, test=0.808), roc_auc=(train=0.961, test=0.954), total=   0.0s\n",
      "[CV] svm__C=100.0, svm__gamma=scale, svm__kernel=rbf .................\n",
      "[CV]  svm__C=100.0, svm__gamma=scale, svm__kernel=rbf, accuracy=(train=0.865, test=0.857), f1=(train=0.888, test=0.880), precision=(train=0.908, test=0.917), recall=(train=0.868, test=0.846), roc_auc=(train=0.958, test=0.953), total=   0.0s\n",
      "[CV] svm__C=100.0, svm__gamma=scale, svm__kernel=rbf .................\n",
      "[CV]  svm__C=100.0, svm__gamma=scale, svm__kernel=rbf, accuracy=(train=0.895, test=0.833), f1=(train=0.912, test=0.857), precision=(train=0.943, test=0.894), recall=(train=0.883, test=0.824), roc_auc=(train=0.970, test=0.894), total=   0.0s\n",
      "[CV] svm__C=100.0, svm__gamma=scale, svm__kernel=rbf .................\n",
      "[CV]  svm__C=100.0, svm__gamma=scale, svm__kernel=rbf, accuracy=(train=0.878, test=0.880), f1=(train=0.896, test=0.896), precision=(train=0.941, test=0.956), recall=(train=0.854, test=0.843), roc_auc=(train=0.963, test=0.949), total=   0.1s\n",
      "[CV] svm__C=100.0, svm__gamma=scale, svm__kernel=rbf .................\n",
      "[CV]  svm__C=100.0, svm__gamma=scale, svm__kernel=rbf, accuracy=(train=0.860, test=0.892), f1=(train=0.883, test=0.914), precision=(train=0.904, test=0.889), recall=(train=0.864, test=0.941), roc_auc=(train=0.950, test=0.970), total=   0.1s\n",
      "[CV] svm__C=100.0, svm__gamma=scale, svm__kernel=poly ................\n",
      "[CV]  svm__C=100.0, svm__gamma=scale, svm__kernel=poly, accuracy=(train=0.811, test=0.845), f1=(train=0.858, test=0.883), precision=(train=0.798, test=0.831), recall=(train=0.927, test=0.942), roc_auc=(train=0.926, test=0.931), total=   1.2s\n",
      "[CV] svm__C=100.0, svm__gamma=scale, svm__kernel=poly ................\n",
      "[CV]  svm__C=100.0, svm__gamma=scale, svm__kernel=poly, accuracy=(train=0.826, test=0.821), f1=(train=0.871, test=0.865), precision=(train=0.802, test=0.814), recall=(train=0.951, test=0.923), roc_auc=(train=0.916, test=0.915), total=   1.3s\n",
      "[CV] svm__C=100.0, svm__gamma=scale, svm__kernel=poly ................\n",
      "[CV]  svm__C=100.0, svm__gamma=scale, svm__kernel=poly, accuracy=(train=0.850, test=0.786), f1=(train=0.885, test=0.830), precision=(train=0.842, test=0.800), recall=(train=0.932, test=0.863), roc_auc=(train=0.936, test=0.872), total=   1.6s\n",
      "[CV] svm__C=100.0, svm__gamma=scale, svm__kernel=poly ................\n",
      "[CV]  svm__C=100.0, svm__gamma=scale, svm__kernel=poly, accuracy=(train=0.830, test=0.855), f1=(train=0.870, test=0.889), precision=(train=0.820, test=0.842), recall=(train=0.927, test=0.941), roc_auc=(train=0.913, test=0.929), total=   0.7s\n",
      "[CV] svm__C=100.0, svm__gamma=scale, svm__kernel=poly ................\n",
      "[CV]  svm__C=100.0, svm__gamma=scale, svm__kernel=poly, accuracy=(train=0.815, test=0.855), f1=(train=0.860, test=0.895), precision=(train=0.805, test=0.810), recall=(train=0.922, test=1.000), roc_auc=(train=0.922, test=0.943), total=   1.3s\n",
      "[CV] svm__C=1000.0, svm__gamma=auto, svm__kernel=rbf .................\n",
      "[CV]  svm__C=1000.0, svm__gamma=auto, svm__kernel=rbf, accuracy=(train=0.904, test=0.893), f1=(train=0.921, test=0.909), precision=(train=0.935, test=0.957), recall=(train=0.907, test=0.865), roc_auc=(train=0.964, test=0.951), total=   0.2s\n",
      "[CV] svm__C=1000.0, svm__gamma=auto, svm__kernel=rbf .................\n",
      "[CV]  svm__C=1000.0, svm__gamma=auto, svm__kernel=rbf, accuracy=(train=0.907, test=0.845), f1=(train=0.925, test=0.876), precision=(train=0.922, test=0.868), recall=(train=0.927, test=0.885), roc_auc=(train=0.963, test=0.918), total=   0.2s\n",
      "[CV] svm__C=1000.0, svm__gamma=auto, svm__kernel=rbf .................\n",
      "[CV]  svm__C=1000.0, svm__gamma=auto, svm__kernel=rbf, accuracy=(train=0.910, test=0.833), f1=(train=0.927, test=0.863), precision=(train=0.931, test=0.863), recall=(train=0.922, test=0.863), roc_auc=(train=0.974, test=0.895), total=   0.2s\n",
      "[CV] svm__C=1000.0, svm__gamma=auto, svm__kernel=rbf .................\n",
      "[CV]  svm__C=1000.0, svm__gamma=auto, svm__kernel=rbf, accuracy=(train=0.893, test=0.855), f1=(train=0.913, test=0.885), precision=(train=0.909, test=0.868), recall=(train=0.917, test=0.902), roc_auc=(train=0.968, test=0.923), total=   0.2s\n",
      "[CV] svm__C=1000.0, svm__gamma=auto, svm__kernel=rbf .................\n",
      "[CV]  svm__C=1000.0, svm__gamma=auto, svm__kernel=rbf, accuracy=(train=0.875, test=0.892), f1=(train=0.898, test=0.914), precision=(train=0.902, test=0.889), recall=(train=0.893, test=0.941), roc_auc=(train=0.950, test=0.982), total=   0.3s\n",
      "[CV] svm__C=1000.0, svm__gamma=auto, svm__kernel=poly ................\n",
      "[CV]  svm__C=1000.0, svm__gamma=auto, svm__kernel=poly, accuracy=(train=0.811, test=0.845), f1=(train=0.858, test=0.883), precision=(train=0.798, test=0.831), recall=(train=0.927, test=0.942), roc_auc=(train=0.927, test=0.931), total=   5.6s\n",
      "[CV] svm__C=1000.0, svm__gamma=auto, svm__kernel=poly ................\n",
      "[CV]  svm__C=1000.0, svm__gamma=auto, svm__kernel=poly, accuracy=(train=0.826, test=0.821), f1=(train=0.871, test=0.865), precision=(train=0.802, test=0.814), recall=(train=0.951, test=0.923), roc_auc=(train=0.916, test=0.915), total=   4.5s\n",
      "[CV] svm__C=1000.0, svm__gamma=auto, svm__kernel=poly ................\n",
      "[CV]  svm__C=1000.0, svm__gamma=auto, svm__kernel=poly, accuracy=(train=0.850, test=0.786), f1=(train=0.885, test=0.830), precision=(train=0.842, test=0.800), recall=(train=0.932, test=0.863), roc_auc=(train=0.936, test=0.872), total=   5.5s\n",
      "[CV] svm__C=1000.0, svm__gamma=auto, svm__kernel=poly ................\n",
      "[CV]  svm__C=1000.0, svm__gamma=auto, svm__kernel=poly, accuracy=(train=0.830, test=0.855), f1=(train=0.870, test=0.889), precision=(train=0.820, test=0.842), recall=(train=0.927, test=0.941), roc_auc=(train=0.913, test=0.929), total=   8.4s\n",
      "[CV] svm__C=1000.0, svm__gamma=auto, svm__kernel=poly ................\n",
      "[CV]  svm__C=1000.0, svm__gamma=auto, svm__kernel=poly, accuracy=(train=0.815, test=0.855), f1=(train=0.860, test=0.895), precision=(train=0.805, test=0.810), recall=(train=0.922, test=1.000), roc_auc=(train=0.922, test=0.943), total=  11.4s\n",
      "[CV] svm__C=1000.0, svm__gamma=scale, svm__kernel=rbf ................\n",
      "[CV]  svm__C=1000.0, svm__gamma=scale, svm__kernel=rbf, accuracy=(train=0.904, test=0.893), f1=(train=0.921, test=0.909), precision=(train=0.935, test=0.957), recall=(train=0.907, test=0.865), roc_auc=(train=0.964, test=0.951), total=   0.2s\n",
      "[CV] svm__C=1000.0, svm__gamma=scale, svm__kernel=rbf ................\n",
      "[CV]  svm__C=1000.0, svm__gamma=scale, svm__kernel=rbf, accuracy=(train=0.907, test=0.845), f1=(train=0.925, test=0.876), precision=(train=0.922, test=0.868), recall=(train=0.927, test=0.885), roc_auc=(train=0.963, test=0.918), total=   0.2s\n",
      "[CV] svm__C=1000.0, svm__gamma=scale, svm__kernel=rbf ................\n",
      "[CV]  svm__C=1000.0, svm__gamma=scale, svm__kernel=rbf, accuracy=(train=0.910, test=0.833), f1=(train=0.927, test=0.863), precision=(train=0.931, test=0.863), recall=(train=0.922, test=0.863), roc_auc=(train=0.974, test=0.895), total=   0.2s\n",
      "[CV] svm__C=1000.0, svm__gamma=scale, svm__kernel=rbf ................\n",
      "[CV]  svm__C=1000.0, svm__gamma=scale, svm__kernel=rbf, accuracy=(train=0.893, test=0.855), f1=(train=0.913, test=0.885), precision=(train=0.909, test=0.868), recall=(train=0.917, test=0.902), roc_auc=(train=0.968, test=0.923), total=   0.2s\n",
      "[CV] svm__C=1000.0, svm__gamma=scale, svm__kernel=rbf ................\n",
      "[CV]  svm__C=1000.0, svm__gamma=scale, svm__kernel=rbf, accuracy=(train=0.875, test=0.892), f1=(train=0.898, test=0.914), precision=(train=0.902, test=0.889), recall=(train=0.893, test=0.941), roc_auc=(train=0.950, test=0.982), total=   0.2s\n",
      "[CV] svm__C=1000.0, svm__gamma=scale, svm__kernel=poly ...............\n",
      "[CV]  svm__C=1000.0, svm__gamma=scale, svm__kernel=poly, accuracy=(train=0.811, test=0.845), f1=(train=0.858, test=0.883), precision=(train=0.798, test=0.831), recall=(train=0.927, test=0.942), roc_auc=(train=0.927, test=0.931), total=   5.9s\n",
      "[CV] svm__C=1000.0, svm__gamma=scale, svm__kernel=poly ...............\n",
      "[CV]  svm__C=1000.0, svm__gamma=scale, svm__kernel=poly, accuracy=(train=0.826, test=0.821), f1=(train=0.871, test=0.865), precision=(train=0.802, test=0.814), recall=(train=0.951, test=0.923), roc_auc=(train=0.916, test=0.915), total=   8.2s\n",
      "[CV] svm__C=1000.0, svm__gamma=scale, svm__kernel=poly ...............\n",
      "[CV]  svm__C=1000.0, svm__gamma=scale, svm__kernel=poly, accuracy=(train=0.850, test=0.786), f1=(train=0.885, test=0.830), precision=(train=0.842, test=0.800), recall=(train=0.932, test=0.863), roc_auc=(train=0.936, test=0.872), total=  14.2s\n",
      "[CV] svm__C=1000.0, svm__gamma=scale, svm__kernel=poly ...............\n",
      "[CV]  svm__C=1000.0, svm__gamma=scale, svm__kernel=poly, accuracy=(train=0.830, test=0.855), f1=(train=0.870, test=0.889), precision=(train=0.820, test=0.842), recall=(train=0.927, test=0.941), roc_auc=(train=0.913, test=0.929), total=   9.8s\n",
      "[CV] svm__C=1000.0, svm__gamma=scale, svm__kernel=poly ...............\n",
      "[CV]  svm__C=1000.0, svm__gamma=scale, svm__kernel=poly, accuracy=(train=0.815, test=0.855), f1=(train=0.860, test=0.895), precision=(train=0.805, test=0.810), recall=(train=0.922, test=1.000), roc_auc=(train=0.922, test=0.943), total=  10.7s\n",
      "{'svm__C': 100.0, 'svm__gamma': 'auto', 'svm__kernel': 'rbf'}\n"
     ]
    },
    {
     "name": "stderr",
     "output_type": "stream",
     "text": [
      "[Parallel(n_jobs=1)]: Done 100 out of 100 | elapsed:  1.7min finished\n"
     ]
    },
    {
     "data": {
      "text/plain": [
       "{'svm__C': 100.0, 'svm__gamma': 'auto', 'svm__kernel': 'rbf'}"
      ]
     },
     "execution_count": 31,
     "metadata": {},
     "output_type": "execute_result"
    }
   ],
   "source": [
    "svc = SVC(probability=True)\n",
    "C = np.array([0.01, 1, 10, 100, 1000])\n",
    "\n",
    "pipe = Pipeline(steps=[('scale', StandardScaler()), ('svm', svc)])\n",
    "svm_nonlin = GridSearchCV(estimator=pipe, param_grid={'svm__C': C, 'svm__kernel': ['rbf', 'poly'],\n",
    "                                                      'svm__gamma': ['auto', 'scale']},\n",
    "                       scoring=['accuracy','f1','precision','recall','roc_auc'], cv=skf,\n",
    "                       refit='roc_auc', verbose=3, return_train_score=True)\n",
    "svm_nonlin.fit(x_train_pca, y_train)\n",
    "best_svm_nonlin = svm_nonlin.best_estimator_\n",
    "print(svm_nonlin.best_params_)\n",
    "svm_nonlin.best_params_"
   ]
  },
  {
   "cell_type": "code",
   "execution_count": 27,
   "metadata": {},
   "outputs": [
    {
     "data": {
      "text/plain": [
       "Pipeline(steps=[('scale', StandardScaler()),\n",
       "                ('rfc', RandomForestClassifier(max_depth=4, random_state=0))])"
      ]
     },
     "execution_count": 27,
     "metadata": {},
     "output_type": "execute_result"
    }
   ],
   "source": [
    "rfc = Pipeline(steps=[('scale', StandardScaler()), ('rfc', RandomForestClassifier(max_depth=4, random_state=0, criterion='gini'))])\n",
    "rfc.fit(x_train_pca, y_train"
   ]
  },
  {
   "cell_type": "code",
   "execution_count": 28,
   "metadata": {},
   "outputs": [
    {
     "name": "stdout",
     "output_type": "stream",
     "text": [
      "PCA- Logistic regression:\n",
      "AUROC is 0.901\n",
      "F1 is 0.85\n",
      "Loss is 6.25\n",
      "Accuracy is 0.82\n"
     ]
    }
   ],
   "source": [
    "#Logostic regression:\n",
    "x_tr = scaler.fit_transform(x_train_pca)\n",
    "x_tst = scaler.transform(x_test_pca)\n",
    "log_reg.fit(x_tr, y_train)\n",
    "y_pred_test_lr = log_reg.predict(x_tst)\n",
    "y_pred_proba_test_lr = log_reg.predict_proba(x_tst)\n",
    "loss = log_loss(y_test, y_pred_test_lr)\n",
    "TN = calc_TN(y_test, y_pred_test_lr)\n",
    "TP = calc_TP(y_test, y_pred_test_lr)\n",
    "FN = calc_FN(y_test, y_pred_test_lr)\n",
    "FP = calc_FP(y_test, y_pred_test_lr)\n",
    "PPV = TP/(TP+FP)\n",
    "Se = TP/(TP+FN)\n",
    "Acc = (TP+TN)/(TP+TN+FP+FN)\n",
    "F1 = (2*PPV*Se)/(PPV+Se)\n",
    "print('PCA- Logistic regression:')\n",
    "print('AUROC is {:.3f}'.format(roc_auc_score(y_test, y_pred_proba_test_lr[:,1])))\n",
    "print(f'F1 is {F1:.2f}')\n",
    "print(f'Loss is {loss:.2f}')\n",
    "print(f'Accuracy is {Acc:.2f}')"
   ]
  },
  {
   "cell_type": "code",
   "execution_count": 29,
   "metadata": {},
   "outputs": [
    {
     "name": "stdout",
     "output_type": "stream",
     "text": [
      "PCA- Linear SVM:\n",
      "AUROC is 0.910\n",
      "F1 is 0.85\n",
      "Loss is 0.39\n",
      "Accuracy is 0.82\n"
     ]
    }
   ],
   "source": [
    "#linear SVM:\n",
    "y_pred_test_svm_lin = best_svm_lin.predict(x_test_pca)\n",
    "y_pred_proba_test_svm_lin = best_svm_lin.predict_proba(x_test_pca)\n",
    "loss = log_loss(y_test, y_pred_proba_test_svm_lin)\n",
    "\n",
    "TN = calc_TN(y_test, y_pred_test_svm_lin)\n",
    "TP = calc_TP(y_test, y_pred_test_svm_lin)\n",
    "FN = calc_FN(y_test, y_pred_test_svm_lin)\n",
    "FP = calc_FP(y_test, y_pred_test_svm_lin)\n",
    "PPV = TP/(TP+FP)\n",
    "Se = TP/(TP+FN)\n",
    "Acc = (TP+TN)/(TP+TN+FP+FN)\n",
    "F1 = (2*PPV*Se)/(PPV+Se)\n",
    "print('PCA- Linear SVM:')\n",
    "print('AUROC is {:.3f}'.format(roc_auc_score(y_test, y_pred_proba_test_svm_lin[:,1])))\n",
    "print(f'F1 is {F1:.2f}')\n",
    "print(f'Loss is {loss:.2f}')\n",
    "print(f'Accuracy is {Acc:.2f}')"
   ]
  },
  {
   "cell_type": "code",
   "execution_count": 32,
   "metadata": {},
   "outputs": [
    {
     "name": "stdout",
     "output_type": "stream",
     "text": [
      "PCA - Non-linear SVM - rbf:\n",
      "AUROC is 0.946\n",
      "F1 is 0.87\n",
      "Loss is 0.29\n",
      "Accuracy is 0.85\n"
     ]
    }
   ],
   "source": [
    "#Non-linear SVM\n",
    "y_pred_test_svm_nonlin = best_svm_nonlin.predict(x_test_pca)\n",
    "y_pred_proba_test_svm_nonlin = best_svm_nonlin.predict_proba(x_test_pca)\n",
    "loss = log_loss(y_test, y_pred_proba_test_svm_nonlin)\n",
    "svm_params = svm_nonlin.best_params_\n",
    "chosen_kernel = svm_params['svm__kernel']\n",
    "\n",
    "TN = calc_TN(y_test, y_pred_test_svm_nonlin)\n",
    "TP = calc_TP(y_test, y_pred_test_svm_nonlin)\n",
    "FN = calc_FN(y_test, y_pred_test_svm_nonlin)\n",
    "FP = calc_FP(y_test, y_pred_test_svm_nonlin)\n",
    "PPV = TP/(TP+FP)\n",
    "Se = TP/(TP+FN)\n",
    "Acc = (TP+TN)/(TP+TN+FP+FN)\n",
    "F1 = (2*PPV*Se)/(PPV+Se)\n",
    "print(f'PCA- Non-linear SVM - {chosen_kernel}:')\n",
    "print('AUROC is {:.3f}'.format(roc_auc_score(y_test, y_pred_proba_test_svm_nonlin[:,1])))\n",
    "print(f'F1 is {F1:.2f}')\n",
    "print(f'Loss is {loss:.2f}')\n",
    "print(f'Accuracy is {Acc:.2f}')"
   ]
  },
  {
   "cell_type": "code",
   "execution_count": 33,
   "metadata": {},
   "outputs": [
    {
     "name": "stdout",
     "output_type": "stream",
     "text": [
      "PCA - Random Forest:\n",
      "AUROC is 0.952\n",
      "F1 is 0.90\n",
      "Loss is 0.29\n",
      "Accuracy is 0.88\n"
     ]
    }
   ],
   "source": [
    "#Random Forest:\n",
    "y_pred_test_rfc = rfc.predict(x_test_pca)\n",
    "y_pred_proba_test_rfc = rfc.predict_proba(x_test_pca)\n",
    "\n",
    "TN = calc_TN(y_test, y_pred_test_rfc)\n",
    "TP = calc_TP(y_test, y_pred_test_rfc)\n",
    "FN = calc_FN(y_test, y_pred_test_rfc)\n",
    "FP = calc_FP(y_test, y_pred_test_rfc)\n",
    "PPV = TP/(TP+FP)\n",
    "Se = TP/(TP+FN)\n",
    "Acc = (TP+TN)/(TP+TN+FP+FN)\n",
    "F1 = (2*PPV*Se)/(PPV+Se)\n",
    "print(f'PCA- Random Forest:')\n",
    "print('AUROC is {:.3f}'.format(roc_auc_score(y_test, y_pred_proba_test_rfc[:,1])))\n",
    "print(f'F1 is {F1:.2f}')\n",
    "print(f'Loss is {loss:.2f}')\n",
    "print(f'Accuracy is {Acc:.2f}')"
   ]
  },
  {
   "cell_type": "markdown",
   "metadata": {},
   "source": [
    "##### section e: "
   ]
  },
  {
   "cell_type": "code",
   "execution_count": null,
   "metadata": {},
   "outputs": [],
   "source": []
  }
 ],
 "metadata": {
  "kernelspec": {
   "display_name": "Python 3",
   "language": "python",
   "name": "python3"
  },
  "language_info": {
   "codemirror_mode": {
    "name": "ipython",
    "version": 3
   },
   "file_extension": ".py",
   "mimetype": "text/x-python",
   "name": "python",
   "nbconvert_exporter": "python",
   "pygments_lexer": "ipython3",
   "version": "3.7.9"
  }
 },
 "nbformat": 4,
 "nbformat_minor": 4
}
